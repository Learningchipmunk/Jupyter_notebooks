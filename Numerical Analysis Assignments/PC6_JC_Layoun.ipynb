{
 "cells": [
  {
   "cell_type": "markdown",
   "metadata": {},
   "source": [
    "<div style=\"text-align: center; font-weight: bold; font-size: 300%\">Rendu PC6 MAP412</div>                                                        <br />      \n",
    "<div style=\"text-align: center; font-size: 150%\">École Polytechnique, MAP412 - octobre 2019</div><br />  \n",
    "<div style=\"text-align: center; font-size: 120%\">Jean-Charles Layoun</div>"
   ]
  },
  {
   "cell_type": "code",
   "execution_count": 1,
   "metadata": {},
   "outputs": [
    {
     "data": {
      "application/javascript": [
       "\n",
       "(function(root) {\n",
       "  function now() {\n",
       "    return new Date();\n",
       "  }\n",
       "\n",
       "  var force = true;\n",
       "\n",
       "  if (typeof root._bokeh_onload_callbacks === \"undefined\" || force === true) {\n",
       "    root._bokeh_onload_callbacks = [];\n",
       "    root._bokeh_is_loading = undefined;\n",
       "  }\n",
       "\n",
       "  var JS_MIME_TYPE = 'application/javascript';\n",
       "  var HTML_MIME_TYPE = 'text/html';\n",
       "  var EXEC_MIME_TYPE = 'application/vnd.bokehjs_exec.v0+json';\n",
       "  var CLASS_NAME = 'output_bokeh rendered_html';\n",
       "\n",
       "  /**\n",
       "   * Render data to the DOM node\n",
       "   */\n",
       "  function render(props, node) {\n",
       "    var script = document.createElement(\"script\");\n",
       "    node.appendChild(script);\n",
       "  }\n",
       "\n",
       "  /**\n",
       "   * Handle when an output is cleared or removed\n",
       "   */\n",
       "  function handleClearOutput(event, handle) {\n",
       "    var cell = handle.cell;\n",
       "\n",
       "    var id = cell.output_area._bokeh_element_id;\n",
       "    var server_id = cell.output_area._bokeh_server_id;\n",
       "    // Clean up Bokeh references\n",
       "    if (id != null && id in Bokeh.index) {\n",
       "      Bokeh.index[id].model.document.clear();\n",
       "      delete Bokeh.index[id];\n",
       "    }\n",
       "\n",
       "    if (server_id !== undefined) {\n",
       "      // Clean up Bokeh references\n",
       "      var cmd = \"from bokeh.io.state import curstate; print(curstate().uuid_to_server['\" + server_id + \"'].get_sessions()[0].document.roots[0]._id)\";\n",
       "      cell.notebook.kernel.execute(cmd, {\n",
       "        iopub: {\n",
       "          output: function(msg) {\n",
       "            var id = msg.content.text.trim();\n",
       "            if (id in Bokeh.index) {\n",
       "              Bokeh.index[id].model.document.clear();\n",
       "              delete Bokeh.index[id];\n",
       "            }\n",
       "          }\n",
       "        }\n",
       "      });\n",
       "      // Destroy server and session\n",
       "      var cmd = \"import bokeh.io.notebook as ion; ion.destroy_server('\" + server_id + \"')\";\n",
       "      cell.notebook.kernel.execute(cmd);\n",
       "    }\n",
       "  }\n",
       "\n",
       "  /**\n",
       "   * Handle when a new output is added\n",
       "   */\n",
       "  function handleAddOutput(event, handle) {\n",
       "    var output_area = handle.output_area;\n",
       "    var output = handle.output;\n",
       "\n",
       "    // limit handleAddOutput to display_data with EXEC_MIME_TYPE content only\n",
       "    if ((output.output_type != \"display_data\") || (!output.data.hasOwnProperty(EXEC_MIME_TYPE))) {\n",
       "      return\n",
       "    }\n",
       "\n",
       "    var toinsert = output_area.element.find(\".\" + CLASS_NAME.split(' ')[0]);\n",
       "\n",
       "    if (output.metadata[EXEC_MIME_TYPE][\"id\"] !== undefined) {\n",
       "      toinsert[toinsert.length - 1].firstChild.textContent = output.data[JS_MIME_TYPE];\n",
       "      // store reference to embed id on output_area\n",
       "      output_area._bokeh_element_id = output.metadata[EXEC_MIME_TYPE][\"id\"];\n",
       "    }\n",
       "    if (output.metadata[EXEC_MIME_TYPE][\"server_id\"] !== undefined) {\n",
       "      var bk_div = document.createElement(\"div\");\n",
       "      bk_div.innerHTML = output.data[HTML_MIME_TYPE];\n",
       "      var script_attrs = bk_div.children[0].attributes;\n",
       "      for (var i = 0; i < script_attrs.length; i++) {\n",
       "        toinsert[toinsert.length - 1].firstChild.setAttribute(script_attrs[i].name, script_attrs[i].value);\n",
       "      }\n",
       "      // store reference to server id on output_area\n",
       "      output_area._bokeh_server_id = output.metadata[EXEC_MIME_TYPE][\"server_id\"];\n",
       "    }\n",
       "  }\n",
       "\n",
       "  function register_renderer(events, OutputArea) {\n",
       "\n",
       "    function append_mime(data, metadata, element) {\n",
       "      // create a DOM node to render to\n",
       "      var toinsert = this.create_output_subarea(\n",
       "        metadata,\n",
       "        CLASS_NAME,\n",
       "        EXEC_MIME_TYPE\n",
       "      );\n",
       "      this.keyboard_manager.register_events(toinsert);\n",
       "      // Render to node\n",
       "      var props = {data: data, metadata: metadata[EXEC_MIME_TYPE]};\n",
       "      render(props, toinsert[toinsert.length - 1]);\n",
       "      element.append(toinsert);\n",
       "      return toinsert\n",
       "    }\n",
       "\n",
       "    /* Handle when an output is cleared or removed */\n",
       "    events.on('clear_output.CodeCell', handleClearOutput);\n",
       "    events.on('delete.Cell', handleClearOutput);\n",
       "\n",
       "    /* Handle when a new output is added */\n",
       "    events.on('output_added.OutputArea', handleAddOutput);\n",
       "\n",
       "    /**\n",
       "     * Register the mime type and append_mime function with output_area\n",
       "     */\n",
       "    OutputArea.prototype.register_mime_type(EXEC_MIME_TYPE, append_mime, {\n",
       "      /* Is output safe? */\n",
       "      safe: true,\n",
       "      /* Index of renderer in `output_area.display_order` */\n",
       "      index: 0\n",
       "    });\n",
       "  }\n",
       "\n",
       "  // register the mime type if in Jupyter Notebook environment and previously unregistered\n",
       "  if (root.Jupyter !== undefined) {\n",
       "    var events = require('base/js/events');\n",
       "    var OutputArea = require('notebook/js/outputarea').OutputArea;\n",
       "\n",
       "    if (OutputArea.prototype.mime_types().indexOf(EXEC_MIME_TYPE) == -1) {\n",
       "      register_renderer(events, OutputArea);\n",
       "    }\n",
       "  }\n",
       "\n",
       "  \n",
       "  if (typeof (root._bokeh_timeout) === \"undefined\" || force === true) {\n",
       "    root._bokeh_timeout = Date.now() + 5000;\n",
       "    root._bokeh_failed_load = false;\n",
       "  }\n",
       "\n",
       "  var NB_LOAD_WARNING = {'data': {'text/html':\n",
       "     \"<div style='background-color: #fdd'>\\n\"+\n",
       "     \"<p>\\n\"+\n",
       "     \"BokehJS does not appear to have successfully loaded. If loading BokehJS from CDN, this \\n\"+\n",
       "     \"may be due to a slow or bad network connection. Possible fixes:\\n\"+\n",
       "     \"</p>\\n\"+\n",
       "     \"<ul>\\n\"+\n",
       "     \"<li>re-rerun `output_notebook()` to attempt to load from CDN again, or</li>\\n\"+\n",
       "     \"<li>use INLINE resources instead, as so:</li>\\n\"+\n",
       "     \"</ul>\\n\"+\n",
       "     \"<code>\\n\"+\n",
       "     \"from bokeh.resources import INLINE\\n\"+\n",
       "     \"output_notebook(resources=INLINE)\\n\"+\n",
       "     \"</code>\\n\"+\n",
       "     \"</div>\"}};\n",
       "\n",
       "  function display_loaded() {\n",
       "    var el = document.getElementById(null);\n",
       "    if (el != null) {\n",
       "      el.textContent = \"BokehJS is loading...\";\n",
       "    }\n",
       "    if (root.Bokeh !== undefined) {\n",
       "      if (el != null) {\n",
       "        el.textContent = \"BokehJS \" + root.Bokeh.version + \" successfully loaded.\";\n",
       "      }\n",
       "    } else if (Date.now() < root._bokeh_timeout) {\n",
       "      setTimeout(display_loaded, 100)\n",
       "    }\n",
       "  }\n",
       "\n",
       "\n",
       "  function run_callbacks() {\n",
       "    try {\n",
       "      root._bokeh_onload_callbacks.forEach(function(callback) {\n",
       "        if (callback != null)\n",
       "          callback();\n",
       "      });\n",
       "    } finally {\n",
       "      delete root._bokeh_onload_callbacks\n",
       "    }\n",
       "    console.debug(\"Bokeh: all callbacks have finished\");\n",
       "  }\n",
       "\n",
       "  function load_libs(css_urls, js_urls, callback) {\n",
       "    if (css_urls == null) css_urls = [];\n",
       "    if (js_urls == null) js_urls = [];\n",
       "\n",
       "    root._bokeh_onload_callbacks.push(callback);\n",
       "    if (root._bokeh_is_loading > 0) {\n",
       "      console.debug(\"Bokeh: BokehJS is being loaded, scheduling callback at\", now());\n",
       "      return null;\n",
       "    }\n",
       "    if (js_urls == null || js_urls.length === 0) {\n",
       "      run_callbacks();\n",
       "      return null;\n",
       "    }\n",
       "    console.debug(\"Bokeh: BokehJS not loaded, scheduling load and callback at\", now());\n",
       "    root._bokeh_is_loading = css_urls.length + js_urls.length;\n",
       "\n",
       "    function on_load() {\n",
       "      root._bokeh_is_loading--;\n",
       "      if (root._bokeh_is_loading === 0) {\n",
       "        console.debug(\"Bokeh: all BokehJS libraries/stylesheets loaded\");\n",
       "        run_callbacks()\n",
       "      }\n",
       "    }\n",
       "\n",
       "    function on_error() {\n",
       "      console.error(\"failed to load \" + url);\n",
       "    }\n",
       "\n",
       "    for (var i = 0; i < css_urls.length; i++) {\n",
       "      var url = css_urls[i];\n",
       "      const element = document.createElement(\"link\");\n",
       "      element.onload = on_load;\n",
       "      element.onerror = on_error;\n",
       "      element.rel = \"stylesheet\";\n",
       "      element.type = \"text/css\";\n",
       "      element.href = url;\n",
       "      console.debug(\"Bokeh: injecting link tag for BokehJS stylesheet: \", url);\n",
       "      document.body.appendChild(element);\n",
       "    }\n",
       "\n",
       "    for (var i = 0; i < js_urls.length; i++) {\n",
       "      var url = js_urls[i];\n",
       "      var element = document.createElement('script');\n",
       "      element.onload = on_load;\n",
       "      element.onerror = on_error;\n",
       "      element.async = false;\n",
       "      element.src = url;\n",
       "      console.debug(\"Bokeh: injecting script tag for BokehJS library: \", url);\n",
       "      document.head.appendChild(element);\n",
       "    }\n",
       "  };\n",
       "\n",
       "  function inject_raw_css(css) {\n",
       "    const element = document.createElement(\"style\");\n",
       "    element.appendChild(document.createTextNode(css));\n",
       "    document.body.appendChild(element);\n",
       "  }\n",
       "\n",
       "  var js_urls = [\"https://cdn.pydata.org/bokeh/release/bokeh-1.2.0.min.js\", \"https://cdn.pydata.org/bokeh/release/bokeh-widgets-1.2.0.min.js\", \"https://cdn.pydata.org/bokeh/release/bokeh-tables-1.2.0.min.js\", \"https://cdn.pydata.org/bokeh/release/bokeh-gl-1.2.0.min.js\"];\n",
       "  var css_urls = [\"https://cdn.pydata.org/bokeh/release/bokeh-1.2.0.min.css\", \"https://cdn.pydata.org/bokeh/release/bokeh-widgets-1.2.0.min.css\", \"https://cdn.pydata.org/bokeh/release/bokeh-tables-1.2.0.min.css\"];\n",
       "\n",
       "  var inline_js = [\n",
       "    function(Bokeh) {\n",
       "      Bokeh.set_log_level(\"info\");\n",
       "    },\n",
       "    \n",
       "    function(Bokeh) {\n",
       "      \n",
       "    },\n",
       "    function(Bokeh) {} // ensure no trailing comma for IE\n",
       "  ];\n",
       "\n",
       "  function run_inline_js() {\n",
       "    \n",
       "    if ((root.Bokeh !== undefined) || (force === true)) {\n",
       "      for (var i = 0; i < inline_js.length; i++) {\n",
       "        inline_js[i].call(root, root.Bokeh);\n",
       "      }} else if (Date.now() < root._bokeh_timeout) {\n",
       "      setTimeout(run_inline_js, 100);\n",
       "    } else if (!root._bokeh_failed_load) {\n",
       "      console.log(\"Bokeh: BokehJS failed to load within specified timeout.\");\n",
       "      root._bokeh_failed_load = true;\n",
       "    } else if (force !== true) {\n",
       "      var cell = $(document.getElementById(null)).parents('.cell').data().cell;\n",
       "      cell.output_area.append_execute_result(NB_LOAD_WARNING)\n",
       "    }\n",
       "\n",
       "  }\n",
       "\n",
       "  if (root._bokeh_is_loading === 0) {\n",
       "    console.debug(\"Bokeh: BokehJS loaded, going straight to plotting\");\n",
       "    run_inline_js();\n",
       "  } else {\n",
       "    load_libs(css_urls, js_urls, function() {\n",
       "      console.debug(\"Bokeh: BokehJS plotting callback run at\", now());\n",
       "      run_inline_js();\n",
       "    });\n",
       "  }\n",
       "}(window));"
      ],
      "application/vnd.bokehjs_load.v0+json": "\n(function(root) {\n  function now() {\n    return new Date();\n  }\n\n  var force = true;\n\n  if (typeof root._bokeh_onload_callbacks === \"undefined\" || force === true) {\n    root._bokeh_onload_callbacks = [];\n    root._bokeh_is_loading = undefined;\n  }\n\n  \n\n  \n  if (typeof (root._bokeh_timeout) === \"undefined\" || force === true) {\n    root._bokeh_timeout = Date.now() + 5000;\n    root._bokeh_failed_load = false;\n  }\n\n  var NB_LOAD_WARNING = {'data': {'text/html':\n     \"<div style='background-color: #fdd'>\\n\"+\n     \"<p>\\n\"+\n     \"BokehJS does not appear to have successfully loaded. If loading BokehJS from CDN, this \\n\"+\n     \"may be due to a slow or bad network connection. Possible fixes:\\n\"+\n     \"</p>\\n\"+\n     \"<ul>\\n\"+\n     \"<li>re-rerun `output_notebook()` to attempt to load from CDN again, or</li>\\n\"+\n     \"<li>use INLINE resources instead, as so:</li>\\n\"+\n     \"</ul>\\n\"+\n     \"<code>\\n\"+\n     \"from bokeh.resources import INLINE\\n\"+\n     \"output_notebook(resources=INLINE)\\n\"+\n     \"</code>\\n\"+\n     \"</div>\"}};\n\n  function display_loaded() {\n    var el = document.getElementById(null);\n    if (el != null) {\n      el.textContent = \"BokehJS is loading...\";\n    }\n    if (root.Bokeh !== undefined) {\n      if (el != null) {\n        el.textContent = \"BokehJS \" + root.Bokeh.version + \" successfully loaded.\";\n      }\n    } else if (Date.now() < root._bokeh_timeout) {\n      setTimeout(display_loaded, 100)\n    }\n  }\n\n\n  function run_callbacks() {\n    try {\n      root._bokeh_onload_callbacks.forEach(function(callback) {\n        if (callback != null)\n          callback();\n      });\n    } finally {\n      delete root._bokeh_onload_callbacks\n    }\n    console.debug(\"Bokeh: all callbacks have finished\");\n  }\n\n  function load_libs(css_urls, js_urls, callback) {\n    if (css_urls == null) css_urls = [];\n    if (js_urls == null) js_urls = [];\n\n    root._bokeh_onload_callbacks.push(callback);\n    if (root._bokeh_is_loading > 0) {\n      console.debug(\"Bokeh: BokehJS is being loaded, scheduling callback at\", now());\n      return null;\n    }\n    if (js_urls == null || js_urls.length === 0) {\n      run_callbacks();\n      return null;\n    }\n    console.debug(\"Bokeh: BokehJS not loaded, scheduling load and callback at\", now());\n    root._bokeh_is_loading = css_urls.length + js_urls.length;\n\n    function on_load() {\n      root._bokeh_is_loading--;\n      if (root._bokeh_is_loading === 0) {\n        console.debug(\"Bokeh: all BokehJS libraries/stylesheets loaded\");\n        run_callbacks()\n      }\n    }\n\n    function on_error() {\n      console.error(\"failed to load \" + url);\n    }\n\n    for (var i = 0; i < css_urls.length; i++) {\n      var url = css_urls[i];\n      const element = document.createElement(\"link\");\n      element.onload = on_load;\n      element.onerror = on_error;\n      element.rel = \"stylesheet\";\n      element.type = \"text/css\";\n      element.href = url;\n      console.debug(\"Bokeh: injecting link tag for BokehJS stylesheet: \", url);\n      document.body.appendChild(element);\n    }\n\n    for (var i = 0; i < js_urls.length; i++) {\n      var url = js_urls[i];\n      var element = document.createElement('script');\n      element.onload = on_load;\n      element.onerror = on_error;\n      element.async = false;\n      element.src = url;\n      console.debug(\"Bokeh: injecting script tag for BokehJS library: \", url);\n      document.head.appendChild(element);\n    }\n  };\n\n  function inject_raw_css(css) {\n    const element = document.createElement(\"style\");\n    element.appendChild(document.createTextNode(css));\n    document.body.appendChild(element);\n  }\n\n  var js_urls = [\"https://cdn.pydata.org/bokeh/release/bokeh-1.2.0.min.js\", \"https://cdn.pydata.org/bokeh/release/bokeh-widgets-1.2.0.min.js\", \"https://cdn.pydata.org/bokeh/release/bokeh-tables-1.2.0.min.js\", \"https://cdn.pydata.org/bokeh/release/bokeh-gl-1.2.0.min.js\"];\n  var css_urls = [\"https://cdn.pydata.org/bokeh/release/bokeh-1.2.0.min.css\", \"https://cdn.pydata.org/bokeh/release/bokeh-widgets-1.2.0.min.css\", \"https://cdn.pydata.org/bokeh/release/bokeh-tables-1.2.0.min.css\"];\n\n  var inline_js = [\n    function(Bokeh) {\n      Bokeh.set_log_level(\"info\");\n    },\n    \n    function(Bokeh) {\n      \n    },\n    function(Bokeh) {} // ensure no trailing comma for IE\n  ];\n\n  function run_inline_js() {\n    \n    if ((root.Bokeh !== undefined) || (force === true)) {\n      for (var i = 0; i < inline_js.length; i++) {\n        inline_js[i].call(root, root.Bokeh);\n      }} else if (Date.now() < root._bokeh_timeout) {\n      setTimeout(run_inline_js, 100);\n    } else if (!root._bokeh_failed_load) {\n      console.log(\"Bokeh: BokehJS failed to load within specified timeout.\");\n      root._bokeh_failed_load = true;\n    } else if (force !== true) {\n      var cell = $(document.getElementById(null)).parents('.cell').data().cell;\n      cell.output_area.append_execute_result(NB_LOAD_WARNING)\n    }\n\n  }\n\n  if (root._bokeh_is_loading === 0) {\n    console.debug(\"Bokeh: BokehJS loaded, going straight to plotting\");\n    run_inline_js();\n  } else {\n    load_libs(css_urls, js_urls, function() {\n      console.debug(\"Bokeh: BokehJS plotting callback run at\", now());\n      run_inline_js();\n    });\n  }\n}(window));"
     },
     "metadata": {},
     "output_type": "display_data"
    }
   ],
   "source": [
    "import numpy as np\n",
    "\n",
    "import scipy.sparse as scsp\n",
    "\n",
    "import time\n",
    "\n",
    "from bokeh.io import show, output_notebook\n",
    "from bokeh.plotting import figure\n",
    "from bokeh.layouts import row, column\n",
    "\n",
    "from IPython.display import display, Math, Latex\n",
    "\n",
    "from numpy.linalg import solve, cond, inv, det, eig, qr, norm\n",
    "from scipy.linalg import lu_factor, lu_solve, lu, block_diag, solve_banded\n",
    "from scipy.sparse import csr_matrix\n",
    "from scipy.sparse.linalg import splu\n",
    "\n",
    "output_notebook(hide_banner=True)"
   ]
  },
  {
   "cell_type": "markdown",
   "metadata": {},
   "source": [
    "# Conditionnement"
   ]
  },
  {
   "cell_type": "markdown",
   "metadata": {},
   "source": [
    "Considérons l'exemple suivant :\n",
    "$$\n",
    "    A=\\begin{pmatrix}\n",
    "      10 & 1 & 4 & 0 \\\\\n",
    "      1  & 10& 5 & -1\\\\\n",
    "      4 & 5 & 10 & 7 \\\\\n",
    "      0 & -1 & 7 & 9\n",
    "    \\end{pmatrix}\n",
    "    \\text{ avec }\n",
    "    b_1 = \\begin{pmatrix}\n",
    "    15\\\\15\\\\26\\\\15\n",
    "    \\end{pmatrix}\n",
    "    \\text{ et }\n",
    "    b_2 = \\begin{pmatrix}\n",
    "    16\\\\16\\\\25\\\\16\n",
    "    \\end{pmatrix}\n",
    "$$"
   ]
  },
  {
   "cell_type": "markdown",
   "metadata": {},
   "source": [
    "**Calculez le déterminant de $A$ et l'inverse de $A$ avec les fonctions *numpy.linalg.inv* et *numpy.linalg.det***"
   ]
  },
  {
   "cell_type": "code",
   "execution_count": 2,
   "metadata": {},
   "outputs": [
    {
     "name": "stdout",
     "output_type": "stream",
     "text": [
      "[[ 105.  167. -304.  255.]\n",
      " [ 167.  266. -484.  406.]\n",
      " [-304. -484.  881. -739.]\n",
      " [ 255.  406. -739.  620.]]\n",
      "\r\n",
      "1.000000000001049\n",
      "\r\n",
      "(array([5.34260914e-04, 1.91224791e+01, 8.99416974e+00, 1.08828169e+01]), matrix([[-0.23674149,  0.35684188, -0.83667786, -0.3414491 ],\n",
      "        [-0.37692363,  0.38246091,  0.53571465, -0.65166099],\n",
      "        [ 0.68605301,  0.71820543,  0.07646032,  0.08755599],\n",
      "        [-0.57551135,  0.45887742,  0.08446173,  0.67162818]]))\n",
      "\r\n"
     ]
    }
   ],
   "source": [
    "A = np.mat([[10, 1, 4, 0], [1, 10, 5, -1], [4, 5, 10, 7], [0, -1, 7, 9]])\n",
    "b1 = np.array([15, 15, 26, 15])\n",
    "b2 = np.array([16, 16, 25, 16])\n",
    "\n",
    "print(np.linalg.inv(A))\n",
    "print(\"\\r\")\n",
    "print(np.linalg.det(A))\n",
    "print(\"\\r\")\n",
    "print(np.linalg.eig(A))\n",
    "print(\"\\r\")"
   ]
  },
  {
   "cell_type": "markdown",
   "metadata": {},
   "source": [
    "**Résolvez les systèmes $Ax_1=b_1$ et $Ax_2 = b_2$ en utilisant soit l'inverse trouvée ci-dessus, soit *numpy.linalg.solve*. Expliquez le comportement obtenu et donnez une borne inférieure pour le conditionnement de la matrice $A$.**"
   ]
  },
  {
   "cell_type": "code",
   "execution_count": 3,
   "metadata": {},
   "outputs": [
    {
     "name": "stdout",
     "output_type": "stream",
     "text": [
      "[1. 1. 1. 1.]\n",
      "\r\n",
      "[  832.  1324. -2407.  2021.]\n",
      "\r\n",
      "La valeur du conditionnement donnée par la borne inf :  32252.894883611825\n",
      "La valeur du conditionnement donnée par numpy :  35792.39762897281\n"
     ]
    }
   ],
   "source": [
    "x1 = solve(A,b1)\n",
    "print(x1)\n",
    "print(\"\\r\")\n",
    "x2 = solve(A,b2)\n",
    "print(x2)\n",
    "print(\"\\r\")\n",
    "\n",
    "borneInf = norm(x2-x1)*norm(b1)/norm(x1)/norm(b2-b1)\n",
    "print(\"La valeur du conditionnement donnée par la borne inf : \",borneInf)\n",
    "print(\"La valeur du conditionnement donnée par numpy : \", cond(A))\n"
   ]
  },
  {
   "cell_type": "markdown",
   "metadata": {},
   "source": [
    "**Calculez le conditionnement de $A$ par les deux méthodes suivantes :**\n",
    "* **calculez les valeurs propres de $A$ avec *numpy.linalg.eig* et utilisez le point précédent**\n",
    "* **utiliser *numpy.linalg.cond***\n"
   ]
  },
  {
   "cell_type": "markdown",
   "metadata": {},
   "source": [
    "# Décomposition QR et résolution de systèmes surdimensionnés"
   ]
  },
  {
   "cell_type": "markdown",
   "metadata": {},
   "source": [
    "On considère le système surdimensionné $Ax=b$, avec \n",
    "$$\n",
    "    A=\\begin{pmatrix}\n",
    "      10 & 1 & 4  \\\\\n",
    "      1  & 3 & 5 \\\\\n",
    "      4 & 5  & 10 \\\\\n",
    "      2 & 5  & 6 \\\\\n",
    "      1 & 8  & 6 \\\\\n",
    "      5 & 9  & -4 \\\\\n",
    "      0 & -1 & 7 \n",
    "    \\end{pmatrix}\\ \n",
    "    \\text{ et }\\ \n",
    "    b = \\begin{pmatrix}\n",
    "    14\\\\15\\\\26\\\\28\\\\47\\\\70 \\\\-15\n",
    "    \\end{pmatrix}\n",
    "$$\n",
    "\n",
    "**Utiliser la méthode de la question du sujet de PC pour résoudre le système linéaire surdimensionné. On pourra utiliser la fonction *numpy.linalg.qr*.**"
   ]
  },
  {
   "cell_type": "code",
   "execution_count": 4,
   "metadata": {},
   "outputs": [
    {
     "name": "stdout",
     "output_type": "stream",
     "text": [
      "x =  [ 1.210814    6.58773664 -1.18569127]\n"
     ]
    },
    {
     "data": {
      "text/latex": [
       "$\\displaystyle \\vert\\vert Ax-b \\vert\\vert_2$ = 0.36219631156771565$"
      ],
      "text/plain": [
       "<IPython.core.display.Math object>"
      ]
     },
     "metadata": {},
     "output_type": "display_data"
    }
   ],
   "source": [
    "A=np.array([[10,1,4],[1,3,5],[4,5,10],[2,5,6],[1,8,6],[5,9,-4],[0,-1,7]])\n",
    "b=np.array([14,15,26,28,47,70,-15])\n",
    "\n",
    "Q, R = qr(A, 'complete')\n",
    "#Q = np.mat(Q)\n",
    "#R = np.mat(R)\n",
    "#print(Q * R)\n",
    "\n",
    "bp = np.dot(Q.T, b)[:3]\n",
    "Rp = R[:3]\n",
    "#print(bp)\n",
    "#print(R[:3])\n",
    "#print(Q.T @ Q)\n",
    "#print(Q @ R)\n",
    "\n",
    "x = solve(Rp, bp)\n",
    "print(\"x = \",x)\n",
    "\n",
    "display(Math(r\"$\\vert\\vert Ax-b \\vert\\vert_2$ = {}\".format(norm(A.dot(x)-b))))\n"
   ]
  },
  {
   "cell_type": "markdown",
   "metadata": {},
   "source": [
    "# Stockage de matrice et Laplacien"
   ]
  },
  {
   "cell_type": "markdown",
   "metadata": {},
   "source": [
    " ## Cas 1D"
   ]
  },
  {
   "cell_type": "markdown",
   "metadata": {},
   "source": [
    " ### Matrice pleine\n",
    " \n",
    "On considère une matrice $A$ tridiagonale, *i.e.* dont les seuls coefficients non-nuls sont donnés par :\n",
    "$A_{i,j} \\neq 0 \\quad\\Rightarrow\\quad |i-j| \\le 1.$  \n",
    "\n",
    "On écrit cette matrice $A$ sous la forme\n",
    "  $$ A = \\left( \\begin{array}{cccccc}\n",
    "    a_1    & b_1    & 0       &\\dots   & 0 \\\\\n",
    "    c_2    & a_2    & b_2     & \\ddots& \\vdots  \\\\\n",
    "    0      & \\ddots & \\ddots &\\ddots  &0\\\\\n",
    "    \\vdots & \\ddots & \\ddots &\\ddots  & b_{N-1}\\\\\n",
    "    0      & \\dots  &  0   &   c_N  & a_N\n",
    "  \\end{array}\\right).$$\n",
    "  \n",
    "  \n",
    "Pour les applications numériques, on fixera :\n",
    "\\begin{equation} a_i = \\frac{-2}{h^2}, \\quad b_i = \\frac{1}{h^2} \\quad \\text{ et } c_i = \\frac{1}{h^2} \\text{ avec } h = \\frac{1}{N}, \\quad N = 2048.\n",
    "\\end{equation}\n",
    "\n",
    "Ici $h$ est un pas d'espace et $N$ un nombre de mailles. Cette matrice correspond à une discrétisation de l'opérateur $-\\Delta$, dont la construction sera vue plus tard dans le cours."
   ]
  },
  {
   "cell_type": "markdown",
   "metadata": {},
   "source": [
    "**On utilisera les valeurs numériques ci-dessus. Utiliser la fonction *scipy.linalg.lu_factor* pour construire deux matrices $L$ et $U$ respectivement triangulaire inférieure et supérieure telles que $A=LU$.**"
   ]
  },
  {
   "cell_type": "code",
   "execution_count": 5,
   "metadata": {},
   "outputs": [],
   "source": [
    "N = 2048\n",
    "h = 1/(N+2)\n",
    "d = [-2/(h**2) for i in range (0,N)] #ai\n",
    "d1 = [1/(h**2) for i in range (0,N-1)]#ci et bi\n",
    "\n",
    "diagonals = [d, d1, d1]\n",
    "\n",
    "A = np.eye(N,N) *(-2/(h**2))\n",
    "A[np.arange(N-1), np.arange(N-1)+1] = d1\n",
    "A[np.arange(N-1)+1, np.arange(N-1)] = d1\n",
    "#print(len(A[0]))\n",
    "#print(A)\n",
    "\n",
    "LU, piv = lu_factor(A)\n"
   ]
  },
  {
   "cell_type": "markdown",
   "metadata": {},
   "source": [
    "**Résoudre $-Au=f$ avec $f_i = x_i^3$ où $x_i = ih$ en utilisant la factorisation LU précédente et la fonction *scipy.linalg.lu_solve*.**"
   ]
  },
  {
   "cell_type": "code",
   "execution_count": 8,
   "metadata": {},
   "outputs": [
    {
     "name": "stdout",
     "output_type": "stream",
     "text": [
      "Test pour but de savoir si u est bien solution du système, valeur du test : \n",
      "\n",
      "\t\t\t\t\t True\n"
     ]
    }
   ],
   "source": [
    "x = [i*h for i in range (1, N+1)]\n",
    "f = [-xi**3 for xi in x]\n",
    "\n",
    "t1= time.time()\n",
    "u = lu_solve((LU, piv), f)\n",
    "t_resol_pleine = time.time()-t1\n",
    "\n",
    "print(\"Test pour but de savoir si u est bien solution du système, valeur du test : \\n\\n\\t\\t\\t\\t\\t\",\n",
    "      np.allclose(A @ u - f, np.zeros((N,))))"
   ]
  },
  {
   "cell_type": "markdown",
   "metadata": {},
   "source": [
    "**Calculer la solution analytique $x\\mapsto u(x)$ du problème $-\\Delta u = f$ et tracer les courbes $u(x_i)$ et $u_i$ en fonction de $x_i$.** <br>\n",
    "***\n",
    "\n",
    "\n",
    "##### Solution théorique :\n",
    "$$ u(x) = \\cfrac{x}{20} \\left(1 - x^4 \\right)$$<br>"
   ]
  },
  {
   "cell_type": "code",
   "execution_count": 9,
   "metadata": {},
   "outputs": [
    {
     "data": {
      "text/html": [
       "\n",
       "\n",
       "\n",
       "\n",
       "\n",
       "\n",
       "  <div class=\"bk-root\" id=\"7521410e-d4e6-404a-8b39-3fb42e7b36d4\" data-root-id=\"1001\"></div>\n"
      ]
     },
     "metadata": {},
     "output_type": "display_data"
    },
    {
     "data": {
      "application/javascript": [
       "(function(root) {\n",
       "  function embed_document(root) {\n",
       "    \n",
       "  var docs_json = {\"9b7f6b97-c47f-4504-b7d4-044f8ab35075\":{\"roots\":{\"references\":[{\"attributes\":{\"below\":[{\"id\":\"1012\",\"type\":\"LinearAxis\"}],\"center\":[{\"id\":\"1016\",\"type\":\"Grid\"},{\"id\":\"1021\",\"type\":\"Grid\"},{\"id\":\"1046\",\"type\":\"Legend\"}],\"left\":[{\"id\":\"1017\",\"type\":\"LinearAxis\"}],\"plot_height\":350,\"plot_width\":500,\"renderers\":[{\"id\":\"1038\",\"type\":\"GlyphRenderer\"},{\"id\":\"1051\",\"type\":\"GlyphRenderer\"}],\"title\":{\"id\":\"1002\",\"type\":\"Title\"},\"toolbar\":{\"id\":\"1028\",\"type\":\"Toolbar\"},\"x_range\":{\"id\":\"1004\",\"type\":\"DataRange1d\"},\"x_scale\":{\"id\":\"1008\",\"type\":\"LinearScale\"},\"y_range\":{\"id\":\"1006\",\"type\":\"DataRange1d\"},\"y_scale\":{\"id\":\"1010\",\"type\":\"LinearScale\"}},\"id\":\"1001\",\"subtype\":\"Figure\",\"type\":\"Plot\"},{\"attributes\":{},\"id\":\"1023\",\"type\":\"WheelZoomTool\"},{\"attributes\":{},\"id\":\"1042\",\"type\":\"BasicTickFormatter\"},{\"attributes\":{},\"id\":\"1044\",\"type\":\"BasicTickFormatter\"},{\"attributes\":{\"overlay\":{\"id\":\"1045\",\"type\":\"BoxAnnotation\"}},\"id\":\"1024\",\"type\":\"BoxZoomTool\"},{\"attributes\":{\"callback\":null,\"data\":{\"x\":[0.0004878048780487805,0.000975609756097561,0.0014634146341463415,0.001951219512195122,0.0024390243902439024,0.002926829268292683,0.0034146341463414634,0.003902439024390244,0.004390243902439025,0.004878048780487805,0.005365853658536585,0.005853658536585366,0.006341463414634147,0.006829268292682927,0.007317073170731707,0.007804878048780488,0.008292682926829269,0.00878048780487805,0.009268292682926829,0.00975609756097561,0.01024390243902439,0.01073170731707317,0.01121951219512195,0.011707317073170732,0.012195121951219513,0.012682926829268294,0.013170731707317073,0.013658536585365854,0.014146341463414635,0.014634146341463414,0.015121951219512195,0.015609756097560976,0.016097560975609757,0.016585365853658537,0.01707317073170732,0.0175609756097561,0.018048780487804877,0.018536585365853658,0.01902439024390244,0.01951219512195122,0.02,0.02048780487804878,0.020975609756097562,0.02146341463414634,0.02195121951219512,0.0224390243902439,0.022926829268292682,0.023414634146341463,0.023902439024390244,0.024390243902439025,0.024878048780487806,0.025365853658536587,0.025853658536585365,0.026341463414634145,0.026829268292682926,0.027317073170731707,0.027804878048780488,0.02829268292682927,0.02878048780487805,0.029268292682926828,0.02975609756097561,0.03024390243902439,0.03073170731707317,0.03121951219512195,0.03170731707317073,0.03219512195121951,0.032682926829268294,0.033170731707317075,0.033658536585365856,0.03414634146341464,0.03463414634146342,0.0351219512195122,0.03560975609756097,0.03609756097560975,0.036585365853658534,0.037073170731707315,0.037560975609756096,0.03804878048780488,0.03853658536585366,0.03902439024390244,0.03951219512195122,0.04,0.04048780487804878,0.04097560975609756,0.041463414634146344,0.041951219512195125,0.042439024390243905,0.04292682926829268,0.04341463414634146,0.04390243902439024,0.04439024390243902,0.0448780487804878,0.045365853658536584,0.045853658536585365,0.046341463414634146,0.04682926829268293,0.04731707317073171,0.04780487804878049,0.04829268292682927,0.04878048780487805,0.04926829268292683,0.04975609756097561,0.05024390243902439,0.050731707317073174,0.05121951219512195,0.05170731707317073,0.05219512195121951,0.05268292682926829,0.05317073170731707,0.05365853658536585,0.054146341463414634,0.054634146341463415,0.055121951219512196,0.055609756097560976,0.05609756097560976,0.05658536585365854,0.05707317073170732,0.0575609756097561,0.05804878048780488,0.058536585365853655,0.059024390243902436,0.05951219512195122,0.06,0.06048780487804878,0.06097560975609756,0.06146341463414634,0.06195121951219512,0.0624390243902439,0.06292682926829268,0.06341463414634146,0.06390243902439025,0.06439024390243903,0.06487804878048781,0.06536585365853659,0.06585365853658537,0.06634146341463415,0.06682926829268293,0.06731707317073171,0.06780487804878049,0.06829268292682927,0.06878048780487805,0.06926829268292684,0.06975609756097562,0.0702439024390244,0.07073170731707316,0.07121951219512195,0.07170731707317073,0.0721951219512195,0.07268292682926829,0.07317073170731707,0.07365853658536585,0.07414634146341463,0.07463414634146341,0.07512195121951219,0.07560975609756097,0.07609756097560975,0.07658536585365854,0.07707317073170732,0.0775609756097561,0.07804878048780488,0.07853658536585366,0.07902439024390244,0.07951219512195122,0.08,0.08048780487804878,0.08097560975609756,0.08146341463414634,0.08195121951219513,0.0824390243902439,0.08292682926829269,0.08341463414634147,0.08390243902439025,0.08439024390243903,0.08487804878048781,0.08536585365853659,0.08585365853658536,0.08634146341463414,0.08682926829268292,0.0873170731707317,0.08780487804878048,0.08829268292682926,0.08878048780487804,0.08926829268292683,0.0897560975609756,0.09024390243902439,0.09073170731707317,0.09121951219512195,0.09170731707317073,0.09219512195121951,0.09268292682926829,0.09317073170731707,0.09365853658536585,0.09414634146341463,0.09463414634146342,0.0951219512195122,0.09560975609756098,0.09609756097560976,0.09658536585365854,0.09707317073170732,0.0975609756097561,0.09804878048780488,0.09853658536585366,0.09902439024390244,0.09951219512195122,0.1,0.10048780487804879,0.10097560975609757,0.10146341463414635,0.10195121951219512,0.1024390243902439,0.10292682926829268,0.10341463414634146,0.10390243902439024,0.10439024390243902,0.1048780487804878,0.10536585365853658,0.10585365853658536,0.10634146341463414,0.10682926829268292,0.1073170731707317,0.10780487804878049,0.10829268292682927,0.10878048780487805,0.10926829268292683,0.10975609756097561,0.11024390243902439,0.11073170731707317,0.11121951219512195,0.11170731707317073,0.11219512195121951,0.1126829268292683,0.11317073170731708,0.11365853658536586,0.11414634146341464,0.11463414634146342,0.1151219512195122,0.11560975609756098,0.11609756097560976,0.11658536585365854,0.11707317073170731,0.11756097560975609,0.11804878048780487,0.11853658536585365,0.11902439024390243,0.11951219512195121,0.12,0.12048780487804878,0.12097560975609756,0.12146341463414634,0.12195121951219512,0.1224390243902439,0.12292682926829268,0.12341463414634146,0.12390243902439024,0.12439024390243902,0.1248780487804878,0.12536585365853659,0.12585365853658537,0.12634146341463415,0.12682926829268293,0.1273170731707317,0.1278048780487805,0.12829268292682927,0.12878048780487805,0.12926829268292683,0.12975609756097561,0.1302439024390244,0.13073170731707318,0.13121951219512196,0.13170731707317074,0.13219512195121952,0.1326829268292683,0.13317073170731708,0.13365853658536586,0.13414634146341464,0.13463414634146342,0.1351219512195122,0.13560975609756099,0.13609756097560977,0.13658536585365855,0.13707317073170733,0.1375609756097561,0.1380487804878049,0.13853658536585367,0.13902439024390245,0.13951219512195123,0.14,0.1404878048780488,0.14097560975609755,0.14146341463414633,0.1419512195121951,0.1424390243902439,0.14292682926829267,0.14341463414634145,0.14390243902439023,0.144390243902439,0.1448780487804878,0.14536585365853658,0.14585365853658536,0.14634146341463414,0.14682926829268292,0.1473170731707317,0.14780487804878048,0.14829268292682926,0.14878048780487804,0.14926829268292682,0.1497560975609756,0.15024390243902438,0.15073170731707317,0.15121951219512195,0.15170731707317073,0.1521951219512195,0.1526829268292683,0.15317073170731707,0.15365853658536585,0.15414634146341463,0.1546341463414634,0.1551219512195122,0.15560975609756098,0.15609756097560976,0.15658536585365854,0.15707317073170732,0.1575609756097561,0.15804878048780488,0.15853658536585366,0.15902439024390244,0.15951219512195122,0.16,0.16048780487804878,0.16097560975609757,0.16146341463414635,0.16195121951219513,0.1624390243902439,0.1629268292682927,0.16341463414634147,0.16390243902439025,0.16439024390243903,0.1648780487804878,0.1653658536585366,0.16585365853658537,0.16634146341463416,0.16682926829268294,0.16731707317073172,0.1678048780487805,0.16829268292682928,0.16878048780487806,0.16926829268292684,0.16975609756097562,0.1702439024390244,0.17073170731707318,0.17121951219512196,0.17170731707317072,0.1721951219512195,0.17268292682926828,0.17317073170731706,0.17365853658536584,0.17414634146341462,0.1746341463414634,0.17512195121951218,0.17560975609756097,0.17609756097560975,0.17658536585365853,0.1770731707317073,0.1775609756097561,0.17804878048780487,0.17853658536585365,0.17902439024390243,0.1795121951219512,0.18,0.18048780487804877,0.18097560975609756,0.18146341463414634,0.18195121951219512,0.1824390243902439,0.18292682926829268,0.18341463414634146,0.18390243902439024,0.18439024390243902,0.1848780487804878,0.18536585365853658,0.18585365853658536,0.18634146341463415,0.18682926829268293,0.1873170731707317,0.1878048780487805,0.18829268292682927,0.18878048780487805,0.18926829268292683,0.1897560975609756,0.1902439024390244,0.19073170731707317,0.19121951219512195,0.19170731707317074,0.19219512195121952,0.1926829268292683,0.19317073170731708,0.19365853658536586,0.19414634146341464,0.19463414634146342,0.1951219512195122,0.19560975609756098,0.19609756097560976,0.19658536585365854,0.19707317073170733,0.1975609756097561,0.1980487804878049,0.19853658536585367,0.19902439024390245,0.19951219512195123,0.2,0.2004878048780488,0.20097560975609757,0.20146341463414635,0.20195121951219513,0.20243902439024392,0.2029268292682927,0.20341463414634145,0.20390243902439023,0.204390243902439,0.2048780487804878,0.20536585365853657,0.20585365853658535,0.20634146341463414,0.20682926829268292,0.2073170731707317,0.20780487804878048,0.20829268292682926,0.20878048780487804,0.20926829268292682,0.2097560975609756,0.21024390243902438,0.21073170731707316,0.21121951219512194,0.21170731707317073,0.2121951219512195,0.2126829268292683,0.21317073170731707,0.21365853658536585,0.21414634146341463,0.2146341463414634,0.2151219512195122,0.21560975609756097,0.21609756097560975,0.21658536585365853,0.21707317073170732,0.2175609756097561,0.21804878048780488,0.21853658536585366,0.21902439024390244,0.21951219512195122,0.22,0.22048780487804878,0.22097560975609756,0.22146341463414634,0.22195121951219512,0.2224390243902439,0.2229268292682927,0.22341463414634147,0.22390243902439025,0.22439024390243903,0.2248780487804878,0.2253658536585366,0.22585365853658537,0.22634146341463415,0.22682926829268293,0.22731707317073171,0.2278048780487805,0.22829268292682928,0.22878048780487806,0.22926829268292684,0.22975609756097562,0.2302439024390244,0.23073170731707318,0.23121951219512196,0.23170731707317074,0.23219512195121952,0.2326829268292683,0.23317073170731709,0.23365853658536587,0.23414634146341462,0.2346341463414634,0.23512195121951218,0.23560975609756096,0.23609756097560974,0.23658536585365852,0.2370731707317073,0.2375609756097561,0.23804878048780487,0.23853658536585365,0.23902439024390243,0.2395121951219512,0.24,0.24048780487804877,0.24097560975609755,0.24146341463414633,0.24195121951219511,0.2424390243902439,0.24292682926829268,0.24341463414634146,0.24390243902439024,0.24439024390243902,0.2448780487804878,0.24536585365853658,0.24585365853658536,0.24634146341463414,0.24682926829268292,0.2473170731707317,0.24780487804878049,0.24829268292682927,0.24878048780487805,0.24926829268292683,0.2497560975609756,0.2502439024390244,0.25073170731707317,0.25121951219512195,0.25170731707317073,0.2521951219512195,0.2526829268292683,0.2531707317073171,0.25365853658536586,0.25414634146341464,0.2546341463414634,0.2551219512195122,0.255609756097561,0.25609756097560976,0.25658536585365854,0.2570731707317073,0.2575609756097561,0.2580487804878049,0.25853658536585367,0.25902439024390245,0.25951219512195123,0.26,0.2604878048780488,0.26097560975609757,0.26146341463414635,0.26195121951219513,0.2624390243902439,0.2629268292682927,0.2634146341463415,0.26390243902439026,0.26439024390243904,0.2648780487804878,0.2653658536585366,0.2658536585365854,0.26634146341463416,0.26682926829268294,0.2673170731707317,0.2678048780487805,0.2682926829268293,0.26878048780487807,0.26926829268292685,0.2697560975609756,0.2702439024390244,0.2707317073170732,0.27121951219512197,0.27170731707317075,0.27219512195121953,0.2726829268292683,0.2731707317073171,0.2736585365853659,0.27414634146341466,0.27463414634146344,0.2751219512195122,0.275609756097561,0.2760975609756098,0.27658536585365856,0.27707317073170734,0.2775609756097561,0.2780487804878049,0.2785365853658537,0.27902439024390246,0.27951219512195125,0.28,0.2804878048780488,0.2809756097560976,0.2814634146341463,0.2819512195121951,0.2824390243902439,0.28292682926829266,0.28341463414634144,0.2839024390243902,0.284390243902439,0.2848780487804878,0.28536585365853656,0.28585365853658534,0.2863414634146341,0.2868292682926829,0.2873170731707317,0.28780487804878047,0.28829268292682925,0.288780487804878,0.2892682926829268,0.2897560975609756,0.29024390243902437,0.29073170731707315,0.29121951219512193,0.2917073170731707,0.2921951219512195,0.2926829268292683,0.29317073170731706,0.29365853658536584,0.2941463414634146,0.2946341463414634,0.2951219512195122,0.29560975609756096,0.29609756097560974,0.2965853658536585,0.2970731707317073,0.2975609756097561,0.29804878048780487,0.29853658536585365,0.2990243902439024,0.2995121951219512,0.3,0.30048780487804877,0.30097560975609755,0.30146341463414633,0.3019512195121951,0.3024390243902439,0.3029268292682927,0.30341463414634146,0.30390243902439024,0.304390243902439,0.3048780487804878,0.3053658536585366,0.30585365853658536,0.30634146341463414,0.3068292682926829,0.3073170731707317,0.3078048780487805,0.30829268292682926,0.30878048780487805,0.3092682926829268,0.3097560975609756,0.3102439024390244,0.31073170731707317,0.31121951219512195,0.31170731707317073,0.3121951219512195,0.3126829268292683,0.3131707317073171,0.31365853658536585,0.31414634146341464,0.3146341463414634,0.3151219512195122,0.315609756097561,0.31609756097560976,0.31658536585365854,0.3170731707317073,0.3175609756097561,0.3180487804878049,0.31853658536585366,0.31902439024390244,0.3195121951219512,0.32,0.3204878048780488,0.32097560975609757,0.32146341463414635,0.32195121951219513,0.3224390243902439,0.3229268292682927,0.3234146341463415,0.32390243902439025,0.32439024390243903,0.3248780487804878,0.3253658536585366,0.3258536585365854,0.32634146341463416,0.32682926829268294,0.3273170731707317,0.3278048780487805,0.3282926829268293,0.32878048780487806,0.32926829268292684,0.3297560975609756,0.3302439024390244,0.3307317073170732,0.33121951219512197,0.33170731707317075,0.33219512195121953,0.3326829268292683,0.3331707317073171,0.3336585365853659,0.33414634146341465,0.33463414634146343,0.3351219512195122,0.335609756097561,0.3360975609756098,0.33658536585365856,0.33707317073170734,0.3375609756097561,0.3380487804878049,0.3385365853658537,0.33902439024390246,0.33951219512195124,0.34,0.3404878048780488,0.3409756097560976,0.34146341463414637,0.34195121951219515,0.34243902439024393,0.3429268292682927,0.34341463414634144,0.3439024390243902,0.344390243902439,0.3448780487804878,0.34536585365853656,0.34585365853658534,0.3463414634146341,0.3468292682926829,0.3473170731707317,0.34780487804878046,0.34829268292682924,0.348780487804878,0.3492682926829268,0.3497560975609756,0.35024390243902437,0.35073170731707315,0.35121951219512193,0.3517073170731707,0.3521951219512195,0.3526829268292683,0.35317073170731705,0.35365853658536583,0.3541463414634146,0.3546341463414634,0.3551219512195122,0.35560975609756096,0.35609756097560974,0.3565853658536585,0.3570731707317073,0.3575609756097561,0.35804878048780486,0.35853658536585364,0.3590243902439024,0.3595121951219512,0.36,0.36048780487804877,0.36097560975609755,0.36146341463414633,0.3619512195121951,0.3624390243902439,0.36292682926829267,0.36341463414634145,0.36390243902439023,0.364390243902439,0.3648780487804878,0.3653658536585366,0.36585365853658536,0.36634146341463414,0.3668292682926829,0.3673170731707317,0.3678048780487805,0.36829268292682926,0.36878048780487804,0.3692682926829268,0.3697560975609756,0.3702439024390244,0.37073170731707317,0.37121951219512195,0.37170731707317073,0.3721951219512195,0.3726829268292683,0.37317073170731707,0.37365853658536585,0.37414634146341463,0.3746341463414634,0.3751219512195122,0.375609756097561,0.37609756097560976,0.37658536585365854,0.3770731707317073,0.3775609756097561,0.3780487804878049,0.37853658536585366,0.37902439024390244,0.3795121951219512,0.38,0.3804878048780488,0.38097560975609757,0.38146341463414635,0.38195121951219513,0.3824390243902439,0.3829268292682927,0.38341463414634147,0.38390243902439025,0.38439024390243903,0.3848780487804878,0.3853658536585366,0.3858536585365854,0.38634146341463416,0.38682926829268294,0.3873170731707317,0.3878048780487805,0.3882926829268293,0.38878048780487806,0.38926829268292684,0.3897560975609756,0.3902439024390244,0.3907317073170732,0.39121951219512197,0.39170731707317075,0.3921951219512195,0.3926829268292683,0.3931707317073171,0.39365853658536587,0.39414634146341465,0.39463414634146343,0.3951219512195122,0.395609756097561,0.3960975609756098,0.39658536585365856,0.39707317073170734,0.3975609756097561,0.3980487804878049,0.3985365853658537,0.39902439024390246,0.39951219512195124,0.4,0.4004878048780488,0.4009756097560976,0.40146341463414636,0.40195121951219515,0.4024390243902439,0.4029268292682927,0.4034146341463415,0.40390243902439027,0.40439024390243905,0.40487804878048783,0.4053658536585366,0.4058536585365854,0.4063414634146341,0.4068292682926829,0.4073170731707317,0.40780487804878046,0.40829268292682924,0.408780487804878,0.4092682926829268,0.4097560975609756,0.41024390243902437,0.41073170731707315,0.41121951219512193,0.4117073170731707,0.4121951219512195,0.41268292682926827,0.41317073170731705,0.41365853658536583,0.4141463414634146,0.4146341463414634,0.4151219512195122,0.41560975609756096,0.41609756097560974,0.4165853658536585,0.4170731707317073,0.4175609756097561,0.41804878048780486,0.41853658536585364,0.4190243902439024,0.4195121951219512,0.42,0.42048780487804877,0.42097560975609755,0.4214634146341463,0.4219512195121951,0.4224390243902439,0.42292682926829267,0.42341463414634145,0.42390243902439023,0.424390243902439,0.4248780487804878,0.4253658536585366,0.42585365853658536,0.42634146341463414,0.4268292682926829,0.4273170731707317,0.4278048780487805,0.42829268292682926,0.42878048780487804,0.4292682926829268,0.4297560975609756,0.4302439024390244,0.43073170731707316,0.43121951219512195,0.4317073170731707,0.4321951219512195,0.4326829268292683,0.43317073170731707,0.43365853658536585,0.43414634146341463,0.4346341463414634,0.4351219512195122,0.435609756097561,0.43609756097560975,0.43658536585365854,0.4370731707317073,0.4375609756097561,0.4380487804878049,0.43853658536585366,0.43902439024390244,0.4395121951219512,0.44,0.4404878048780488,0.44097560975609756,0.44146341463414634,0.4419512195121951,0.4424390243902439,0.4429268292682927,0.44341463414634147,0.44390243902439025,0.44439024390243903,0.4448780487804878,0.4453658536585366,0.4458536585365854,0.44634146341463415,0.44682926829268294,0.4473170731707317,0.4478048780487805,0.4482926829268293,0.44878048780487806,0.44926829268292684,0.4497560975609756,0.4502439024390244,0.4507317073170732,0.45121951219512196,0.45170731707317074,0.4521951219512195,0.4526829268292683,0.4531707317073171,0.45365853658536587,0.45414634146341465,0.45463414634146343,0.4551219512195122,0.455609756097561,0.4560975609756098,0.45658536585365855,0.45707317073170733,0.4575609756097561,0.4580487804878049,0.4585365853658537,0.45902439024390246,0.45951219512195124,0.46,0.4604878048780488,0.4609756097560976,0.46146341463414636,0.46195121951219514,0.4624390243902439,0.4629268292682927,0.4634146341463415,0.46390243902439027,0.46439024390243905,0.46487804878048783,0.4653658536585366,0.4658536585365854,0.46634146341463417,0.46682926829268295,0.46731707317073173,0.4678048780487805,0.46829268292682924,0.468780487804878,0.4692682926829268,0.4697560975609756,0.47024390243902436,0.47073170731707314,0.4712195121951219,0.4717073170731707,0.4721951219512195,0.47268292682926827,0.47317073170731705,0.47365853658536583,0.4741463414634146,0.4746341463414634,0.4751219512195122,0.47560975609756095,0.47609756097560973,0.4765853658536585,0.4770731707317073,0.4775609756097561,0.47804878048780486,0.47853658536585364,0.4790243902439024,0.4795121951219512,0.48,0.48048780487804876,0.48097560975609754,0.4814634146341463,0.4819512195121951,0.4824390243902439,0.48292682926829267,0.48341463414634145,0.48390243902439023,0.484390243902439,0.4848780487804878,0.4853658536585366,0.48585365853658535,0.48634146341463413,0.4868292682926829,0.4873170731707317,0.4878048780487805,0.48829268292682926,0.48878048780487804,0.4892682926829268,0.4897560975609756,0.4902439024390244,0.49073170731707316,0.49121951219512194,0.4917073170731707,0.4921951219512195,0.4926829268292683,0.49317073170731707,0.49365853658536585,0.49414634146341463,0.4946341463414634,0.4951219512195122,0.49560975609756097,0.49609756097560975,0.49658536585365853,0.4970731707317073,0.4975609756097561,0.4980487804878049,0.49853658536585366,0.49902439024390244,0.4995121951219512,0.5,0.5004878048780488,0.5009756097560976,0.5014634146341463,0.5019512195121951,0.5024390243902439,0.5029268292682927,0.5034146341463415,0.5039024390243902,0.504390243902439,0.5048780487804878,0.5053658536585366,0.5058536585365854,0.5063414634146342,0.5068292682926829,0.5073170731707317,0.5078048780487805,0.5082926829268293,0.5087804878048781,0.5092682926829268,0.5097560975609756,0.5102439024390244,0.5107317073170732,0.511219512195122,0.5117073170731707,0.5121951219512195,0.5126829268292683,0.5131707317073171,0.5136585365853659,0.5141463414634146,0.5146341463414634,0.5151219512195122,0.515609756097561,0.5160975609756098,0.5165853658536586,0.5170731707317073,0.5175609756097561,0.5180487804878049,0.5185365853658537,0.5190243902439025,0.5195121951219512,0.52,0.5204878048780488,0.5209756097560976,0.5214634146341464,0.5219512195121951,0.5224390243902439,0.5229268292682927,0.5234146341463415,0.5239024390243903,0.524390243902439,0.5248780487804878,0.5253658536585366,0.5258536585365854,0.5263414634146342,0.526829268292683,0.5273170731707317,0.5278048780487805,0.5282926829268293,0.5287804878048781,0.5292682926829269,0.5297560975609756,0.5302439024390244,0.5307317073170732,0.531219512195122,0.5317073170731708,0.5321951219512195,0.5326829268292683,0.5331707317073171,0.5336585365853659,0.5341463414634147,0.5346341463414634,0.5351219512195122,0.535609756097561,0.5360975609756098,0.5365853658536586,0.5370731707317074,0.5375609756097561,0.5380487804878049,0.5385365853658537,0.5390243902439025,0.5395121951219513,0.54,0.5404878048780488,0.5409756097560976,0.5414634146341464,0.5419512195121952,0.5424390243902439,0.5429268292682927,0.5434146341463415,0.5439024390243903,0.5443902439024391,0.5448780487804878,0.5453658536585366,0.5458536585365854,0.5463414634146342,0.546829268292683,0.5473170731707317,0.5478048780487805,0.5482926829268293,0.5487804878048781,0.5492682926829269,0.5497560975609757,0.5502439024390244,0.5507317073170732,0.551219512195122,0.5517073170731708,0.5521951219512196,0.5526829268292683,0.5531707317073171,0.5536585365853659,0.5541463414634147,0.5546341463414635,0.5551219512195122,0.555609756097561,0.5560975609756098,0.5565853658536586,0.5570731707317074,0.5575609756097561,0.5580487804878049,0.5585365853658537,0.5590243902439025,0.5595121951219513,0.56,0.5604878048780488,0.5609756097560976,0.5614634146341464,0.5619512195121952,0.5624390243902438,0.5629268292682926,0.5634146341463414,0.5639024390243902,0.564390243902439,0.5648780487804878,0.5653658536585365,0.5658536585365853,0.5663414634146341,0.5668292682926829,0.5673170731707317,0.5678048780487804,0.5682926829268292,0.568780487804878,0.5692682926829268,0.5697560975609756,0.5702439024390243,0.5707317073170731,0.5712195121951219,0.5717073170731707,0.5721951219512195,0.5726829268292682,0.573170731707317,0.5736585365853658,0.5741463414634146,0.5746341463414634,0.5751219512195122,0.5756097560975609,0.5760975609756097,0.5765853658536585,0.5770731707317073,0.577560975609756,0.5780487804878048,0.5785365853658536,0.5790243902439024,0.5795121951219512,0.58,0.5804878048780487,0.5809756097560975,0.5814634146341463,0.5819512195121951,0.5824390243902439,0.5829268292682926,0.5834146341463414,0.5839024390243902,0.584390243902439,0.5848780487804878,0.5853658536585366,0.5858536585365853,0.5863414634146341,0.5868292682926829,0.5873170731707317,0.5878048780487805,0.5882926829268292,0.588780487804878,0.5892682926829268,0.5897560975609756,0.5902439024390244,0.5907317073170731,0.5912195121951219,0.5917073170731707,0.5921951219512195,0.5926829268292683,0.593170731707317,0.5936585365853658,0.5941463414634146,0.5946341463414634,0.5951219512195122,0.595609756097561,0.5960975609756097,0.5965853658536585,0.5970731707317073,0.5975609756097561,0.5980487804878049,0.5985365853658536,0.5990243902439024,0.5995121951219512,0.6,0.6004878048780488,0.6009756097560975,0.6014634146341463,0.6019512195121951,0.6024390243902439,0.6029268292682927,0.6034146341463414,0.6039024390243902,0.604390243902439,0.6048780487804878,0.6053658536585366,0.6058536585365853,0.6063414634146341,0.6068292682926829,0.6073170731707317,0.6078048780487805,0.6082926829268293,0.608780487804878,0.6092682926829268,0.6097560975609756,0.6102439024390244,0.6107317073170732,0.6112195121951219,0.6117073170731707,0.6121951219512195,0.6126829268292683,0.6131707317073171,0.6136585365853658,0.6141463414634146,0.6146341463414634,0.6151219512195122,0.615609756097561,0.6160975609756097,0.6165853658536585,0.6170731707317073,0.6175609756097561,0.6180487804878049,0.6185365853658537,0.6190243902439024,0.6195121951219512,0.62,0.6204878048780488,0.6209756097560976,0.6214634146341463,0.6219512195121951,0.6224390243902439,0.6229268292682927,0.6234146341463415,0.6239024390243902,0.624390243902439,0.6248780487804878,0.6253658536585366,0.6258536585365854,0.6263414634146341,0.6268292682926829,0.6273170731707317,0.6278048780487805,0.6282926829268293,0.628780487804878,0.6292682926829268,0.6297560975609756,0.6302439024390244,0.6307317073170732,0.631219512195122,0.6317073170731707,0.6321951219512195,0.6326829268292683,0.6331707317073171,0.6336585365853659,0.6341463414634146,0.6346341463414634,0.6351219512195122,0.635609756097561,0.6360975609756098,0.6365853658536585,0.6370731707317073,0.6375609756097561,0.6380487804878049,0.6385365853658537,0.6390243902439025,0.6395121951219512,0.64,0.6404878048780488,0.6409756097560976,0.6414634146341464,0.6419512195121951,0.6424390243902439,0.6429268292682927,0.6434146341463415,0.6439024390243903,0.644390243902439,0.6448780487804878,0.6453658536585366,0.6458536585365854,0.6463414634146342,0.646829268292683,0.6473170731707317,0.6478048780487805,0.6482926829268293,0.6487804878048781,0.6492682926829269,0.6497560975609756,0.6502439024390244,0.6507317073170732,0.651219512195122,0.6517073170731708,0.6521951219512195,0.6526829268292683,0.6531707317073171,0.6536585365853659,0.6541463414634147,0.6546341463414634,0.6551219512195122,0.655609756097561,0.6560975609756098,0.6565853658536586,0.6570731707317073,0.6575609756097561,0.6580487804878049,0.6585365853658537,0.6590243902439025,0.6595121951219513,0.66,0.6604878048780488,0.6609756097560976,0.6614634146341464,0.6619512195121952,0.6624390243902439,0.6629268292682927,0.6634146341463415,0.6639024390243903,0.6643902439024391,0.6648780487804878,0.6653658536585366,0.6658536585365854,0.6663414634146342,0.666829268292683,0.6673170731707317,0.6678048780487805,0.6682926829268293,0.6687804878048781,0.6692682926829269,0.6697560975609756,0.6702439024390244,0.6707317073170732,0.671219512195122,0.6717073170731708,0.6721951219512196,0.6726829268292683,0.6731707317073171,0.6736585365853659,0.6741463414634147,0.6746341463414635,0.6751219512195122,0.675609756097561,0.6760975609756098,0.6765853658536586,0.6770731707317074,0.6775609756097561,0.6780487804878049,0.6785365853658537,0.6790243902439025,0.6795121951219513,0.68,0.6804878048780488,0.6809756097560976,0.6814634146341464,0.6819512195121952,0.682439024390244,0.6829268292682927,0.6834146341463415,0.6839024390243903,0.6843902439024391,0.6848780487804879,0.6853658536585366,0.6858536585365854,0.6863414634146342,0.6868292682926829,0.6873170731707317,0.6878048780487804,0.6882926829268292,0.688780487804878,0.6892682926829268,0.6897560975609756,0.6902439024390243,0.6907317073170731,0.6912195121951219,0.6917073170731707,0.6921951219512195,0.6926829268292682,0.693170731707317,0.6936585365853658,0.6941463414634146,0.6946341463414634,0.6951219512195121,0.6956097560975609,0.6960975609756097,0.6965853658536585,0.6970731707317073,0.697560975609756,0.6980487804878048,0.6985365853658536,0.6990243902439024,0.6995121951219512,0.7,0.7004878048780487,0.7009756097560975,0.7014634146341463,0.7019512195121951,0.7024390243902439,0.7029268292682926,0.7034146341463414,0.7039024390243902,0.704390243902439,0.7048780487804878,0.7053658536585365,0.7058536585365853,0.7063414634146341,0.7068292682926829,0.7073170731707317,0.7078048780487805,0.7082926829268292,0.708780487804878,0.7092682926829268,0.7097560975609756,0.7102439024390244,0.7107317073170731,0.7112195121951219,0.7117073170731707,0.7121951219512195,0.7126829268292683,0.713170731707317,0.7136585365853658,0.7141463414634146,0.7146341463414634,0.7151219512195122,0.715609756097561,0.7160975609756097,0.7165853658536585,0.7170731707317073,0.7175609756097561,0.7180487804878048,0.7185365853658536,0.7190243902439024,0.7195121951219512,0.72,0.7204878048780488,0.7209756097560975,0.7214634146341463,0.7219512195121951,0.7224390243902439,0.7229268292682927,0.7234146341463414,0.7239024390243902,0.724390243902439,0.7248780487804878,0.7253658536585366,0.7258536585365853,0.7263414634146341,0.7268292682926829,0.7273170731707317,0.7278048780487805,0.7282926829268292,0.728780487804878,0.7292682926829268,0.7297560975609756,0.7302439024390244,0.7307317073170732,0.7312195121951219,0.7317073170731707,0.7321951219512195,0.7326829268292683,0.7331707317073171,0.7336585365853658,0.7341463414634146,0.7346341463414634,0.7351219512195122,0.735609756097561,0.7360975609756097,0.7365853658536585,0.7370731707317073,0.7375609756097561,0.7380487804878049,0.7385365853658536,0.7390243902439024,0.7395121951219512,0.74,0.7404878048780488,0.7409756097560976,0.7414634146341463,0.7419512195121951,0.7424390243902439,0.7429268292682927,0.7434146341463415,0.7439024390243902,0.744390243902439,0.7448780487804878,0.7453658536585366,0.7458536585365854,0.7463414634146341,0.7468292682926829,0.7473170731707317,0.7478048780487805,0.7482926829268293,0.748780487804878,0.7492682926829268,0.7497560975609756,0.7502439024390244,0.7507317073170732,0.751219512195122,0.7517073170731707,0.7521951219512195,0.7526829268292683,0.7531707317073171,0.7536585365853659,0.7541463414634146,0.7546341463414634,0.7551219512195122,0.755609756097561,0.7560975609756098,0.7565853658536585,0.7570731707317073,0.7575609756097561,0.7580487804878049,0.7585365853658537,0.7590243902439024,0.7595121951219512,0.76,0.7604878048780488,0.7609756097560976,0.7614634146341464,0.7619512195121951,0.7624390243902439,0.7629268292682927,0.7634146341463415,0.7639024390243903,0.764390243902439,0.7648780487804878,0.7653658536585366,0.7658536585365854,0.7663414634146342,0.7668292682926829,0.7673170731707317,0.7678048780487805,0.7682926829268293,0.7687804878048781,0.7692682926829268,0.7697560975609756,0.7702439024390244,0.7707317073170732,0.771219512195122,0.7717073170731708,0.7721951219512195,0.7726829268292683,0.7731707317073171,0.7736585365853659,0.7741463414634147,0.7746341463414634,0.7751219512195122,0.775609756097561,0.7760975609756098,0.7765853658536586,0.7770731707317073,0.7775609756097561,0.7780487804878049,0.7785365853658537,0.7790243902439025,0.7795121951219512,0.78,0.7804878048780488,0.7809756097560976,0.7814634146341464,0.7819512195121952,0.7824390243902439,0.7829268292682927,0.7834146341463415,0.7839024390243903,0.784390243902439,0.7848780487804878,0.7853658536585366,0.7858536585365854,0.7863414634146342,0.786829268292683,0.7873170731707317,0.7878048780487805,0.7882926829268293,0.7887804878048781,0.7892682926829269,0.7897560975609756,0.7902439024390244,0.7907317073170732,0.791219512195122,0.7917073170731708,0.7921951219512195,0.7926829268292683,0.7931707317073171,0.7936585365853659,0.7941463414634147,0.7946341463414635,0.7951219512195122,0.795609756097561,0.7960975609756098,0.7965853658536586,0.7970731707317074,0.7975609756097561,0.7980487804878049,0.7985365853658537,0.7990243902439025,0.7995121951219513,0.8,0.8004878048780488,0.8009756097560976,0.8014634146341464,0.8019512195121952,0.802439024390244,0.8029268292682927,0.8034146341463415,0.8039024390243903,0.8043902439024391,0.8048780487804879,0.8053658536585366,0.8058536585365854,0.8063414634146342,0.806829268292683,0.8073170731707318,0.8078048780487805,0.8082926829268293,0.8087804878048781,0.8092682926829269,0.8097560975609757,0.8102439024390244,0.8107317073170732,0.811219512195122,0.8117073170731708,0.8121951219512195,0.8126829268292682,0.813170731707317,0.8136585365853658,0.8141463414634146,0.8146341463414634,0.8151219512195121,0.8156097560975609,0.8160975609756097,0.8165853658536585,0.8170731707317073,0.817560975609756,0.8180487804878048,0.8185365853658536,0.8190243902439024,0.8195121951219512,0.82,0.8204878048780487,0.8209756097560975,0.8214634146341463,0.8219512195121951,0.8224390243902439,0.8229268292682926,0.8234146341463414,0.8239024390243902,0.824390243902439,0.8248780487804878,0.8253658536585365,0.8258536585365853,0.8263414634146341,0.8268292682926829,0.8273170731707317,0.8278048780487804,0.8282926829268292,0.828780487804878,0.8292682926829268,0.8297560975609756,0.8302439024390244,0.8307317073170731,0.8312195121951219,0.8317073170731707,0.8321951219512195,0.8326829268292683,0.833170731707317,0.8336585365853658,0.8341463414634146,0.8346341463414634,0.8351219512195122,0.8356097560975609,0.8360975609756097,0.8365853658536585,0.8370731707317073,0.8375609756097561,0.8380487804878048,0.8385365853658536,0.8390243902439024,0.8395121951219512,0.84,0.8404878048780487,0.8409756097560975,0.8414634146341463,0.8419512195121951,0.8424390243902439,0.8429268292682927,0.8434146341463414,0.8439024390243902,0.844390243902439,0.8448780487804878,0.8453658536585366,0.8458536585365853,0.8463414634146341,0.8468292682926829,0.8473170731707317,0.8478048780487805,0.8482926829268292,0.848780487804878,0.8492682926829268,0.8497560975609756,0.8502439024390244,0.8507317073170731,0.8512195121951219,0.8517073170731707,0.8521951219512195,0.8526829268292683,0.853170731707317,0.8536585365853658,0.8541463414634146,0.8546341463414634,0.8551219512195122,0.855609756097561,0.8560975609756097,0.8565853658536585,0.8570731707317073,0.8575609756097561,0.8580487804878049,0.8585365853658536,0.8590243902439024,0.8595121951219512,0.86,0.8604878048780488,0.8609756097560975,0.8614634146341463,0.8619512195121951,0.8624390243902439,0.8629268292682927,0.8634146341463415,0.8639024390243902,0.864390243902439,0.8648780487804878,0.8653658536585366,0.8658536585365854,0.8663414634146341,0.8668292682926829,0.8673170731707317,0.8678048780487805,0.8682926829268293,0.868780487804878,0.8692682926829268,0.8697560975609756,0.8702439024390244,0.8707317073170732,0.871219512195122,0.8717073170731707,0.8721951219512195,0.8726829268292683,0.8731707317073171,0.8736585365853659,0.8741463414634146,0.8746341463414634,0.8751219512195122,0.875609756097561,0.8760975609756098,0.8765853658536585,0.8770731707317073,0.8775609756097561,0.8780487804878049,0.8785365853658537,0.8790243902439024,0.8795121951219512,0.88,0.8804878048780488,0.8809756097560976,0.8814634146341463,0.8819512195121951,0.8824390243902439,0.8829268292682927,0.8834146341463415,0.8839024390243903,0.884390243902439,0.8848780487804878,0.8853658536585366,0.8858536585365854,0.8863414634146342,0.8868292682926829,0.8873170731707317,0.8878048780487805,0.8882926829268293,0.8887804878048781,0.8892682926829268,0.8897560975609756,0.8902439024390244,0.8907317073170732,0.891219512195122,0.8917073170731707,0.8921951219512195,0.8926829268292683,0.8931707317073171,0.8936585365853659,0.8941463414634147,0.8946341463414634,0.8951219512195122,0.895609756097561,0.8960975609756098,0.8965853658536586,0.8970731707317073,0.8975609756097561,0.8980487804878049,0.8985365853658537,0.8990243902439025,0.8995121951219512,0.9,0.9004878048780488,0.9009756097560976,0.9014634146341464,0.9019512195121951,0.9024390243902439,0.9029268292682927,0.9034146341463415,0.9039024390243903,0.904390243902439,0.9048780487804878,0.9053658536585366,0.9058536585365854,0.9063414634146342,0.906829268292683,0.9073170731707317,0.9078048780487805,0.9082926829268293,0.9087804878048781,0.9092682926829269,0.9097560975609756,0.9102439024390244,0.9107317073170732,0.911219512195122,0.9117073170731708,0.9121951219512195,0.9126829268292683,0.9131707317073171,0.9136585365853659,0.9141463414634147,0.9146341463414634,0.9151219512195122,0.915609756097561,0.9160975609756098,0.9165853658536586,0.9170731707317074,0.9175609756097561,0.9180487804878049,0.9185365853658537,0.9190243902439025,0.9195121951219513,0.92,0.9204878048780488,0.9209756097560976,0.9214634146341464,0.9219512195121952,0.922439024390244,0.9229268292682927,0.9234146341463415,0.9239024390243903,0.9243902439024391,0.9248780487804878,0.9253658536585366,0.9258536585365854,0.9263414634146342,0.926829268292683,0.9273170731707318,0.9278048780487805,0.9282926829268293,0.9287804878048781,0.9292682926829269,0.9297560975609757,0.9302439024390244,0.9307317073170732,0.931219512195122,0.9317073170731708,0.9321951219512196,0.9326829268292683,0.9331707317073171,0.9336585365853659,0.9341463414634147,0.9346341463414635,0.9351219512195122,0.935609756097561,0.9360975609756098,0.9365853658536585,0.9370731707317073,0.937560975609756,0.9380487804878048,0.9385365853658536,0.9390243902439024,0.9395121951219512,0.94,0.9404878048780487,0.9409756097560975,0.9414634146341463,0.9419512195121951,0.9424390243902439,0.9429268292682926,0.9434146341463414,0.9439024390243902,0.944390243902439,0.9448780487804878,0.9453658536585365,0.9458536585365853,0.9463414634146341,0.9468292682926829,0.9473170731707317,0.9478048780487804,0.9482926829268292,0.948780487804878,0.9492682926829268,0.9497560975609756,0.9502439024390243,0.9507317073170731,0.9512195121951219,0.9517073170731707,0.9521951219512195,0.9526829268292683,0.953170731707317,0.9536585365853658,0.9541463414634146,0.9546341463414634,0.9551219512195122,0.9556097560975609,0.9560975609756097,0.9565853658536585,0.9570731707317073,0.9575609756097561,0.9580487804878048,0.9585365853658536,0.9590243902439024,0.9595121951219512,0.96,0.9604878048780487,0.9609756097560975,0.9614634146341463,0.9619512195121951,0.9624390243902439,0.9629268292682926,0.9634146341463414,0.9639024390243902,0.964390243902439,0.9648780487804878,0.9653658536585366,0.9658536585365853,0.9663414634146341,0.9668292682926829,0.9673170731707317,0.9678048780487805,0.9682926829268292,0.968780487804878,0.9692682926829268,0.9697560975609756,0.9702439024390244,0.9707317073170731,0.9712195121951219,0.9717073170731707,0.9721951219512195,0.9726829268292683,0.973170731707317,0.9736585365853658,0.9741463414634146,0.9746341463414634,0.9751219512195122,0.975609756097561,0.9760975609756097,0.9765853658536585,0.9770731707317073,0.9775609756097561,0.9780487804878049,0.9785365853658536,0.9790243902439024,0.9795121951219512,0.98,0.9804878048780488,0.9809756097560975,0.9814634146341463,0.9819512195121951,0.9824390243902439,0.9829268292682927,0.9834146341463414,0.9839024390243902,0.984390243902439,0.9848780487804878,0.9853658536585366,0.9858536585365854,0.9863414634146341,0.9868292682926829,0.9873170731707317,0.9878048780487805,0.9882926829268293,0.988780487804878,0.9892682926829268,0.9897560975609756,0.9902439024390244,0.9907317073170732,0.9912195121951219,0.9917073170731707,0.9921951219512195,0.9926829268292683,0.9931707317073171,0.9936585365853658,0.9941463414634146,0.9946341463414634,0.9951219512195122,0.995609756097561,0.9960975609756098,0.9965853658536585,0.9970731707317073,0.9975609756097561,0.9980487804878049,0.9985365853658537,0.9990243902439024],\"y\":[2.4390243902437643e-05,4.878048780483386e-05,7.31707317069815e-05,9.756097560834192e-05,0.00012195121950787943,0.0001463414634038953,0.00017073170729386234,0.00019512195117425885,0.00021951219504040323,0.00024390243888628799,0.0002682926827044142,0.00029268292648562574,0.0003170731702189434,0.0003414634138913994,0.0003658536574878715,0.00039024390099091753,0.00041463414438060924,0.00043902438763436687,0.0004634146307267935,0.000487804873629509,0.0005121951163109849,0.0005365853587363776,0.0005609756008673641,0.0005853658426619752,0.0006097560840744294,0.0006341463250549692,0.0006585365655496927,0.0006829268055003903,0.000707317044844377,0.0007317072835143283,0.000756097521438113,0.0007804877585386291,0.0008048779947336365,0.0008292682299355921,0.0008536584640514841,0.000878048696982666,0.0009024389286246912,0.0009268291588671471,0.0009512193875934889,0.000975609614680875,0.00099999984,0.00102439006341493,0.0010487802847829364,0.00107317050395433,0.0010975607207722958,0.0011219509350727272,0.0011463411466840596,0.0011707313554271052,0.0011951215611148871,0.0012195117635524749,0.001243901962536816,0.0012682921578565734,0.0012926823492919563,0.0013170725366145586,0.0013414627195871887,0.001365852897963708,0.0013902430714888615,0.0014146332398981142,0.0014390234029174854,0.001463413560263382,0.0014878037116424336,0.0015121938567513264,0.001536583995276637,0.001560974126894668,0.0015853642512712808,0.0016097543680617307,0.0016341444769105012,0.001658534577451138,0.0016829246693060838,0.0017073147520865113,0.0017317048253921586,0.0017560948888111644,0.0017804849419198986,0.0018048749842828021,0.0018292650154522155,0.0018536550349682174,0.0018780450423584566,0.0019024350371379874,0.0019268250188091026,0.0019512149868611693,0.001975604940770463,0.00199999488,0.0020243848039993746,0.0020487747122045906,0.002073164604037897,0.0020975544789076234,0.002121944336208011,0.00214633417531905,0.0021707239956063134,0.0021951137964207885,0.002219503577098716,0.0022438933369614187,0.002268283075315141,0.002292672791450879,0.0023170624846442184,0.0023414521541551656,0.0023658417992279833,0.002390231419091026,0.0024146210129565716,0.002439010580020659,0.002463400119462918,0.002487789630446409,0.002512179112117453,0.0025365685636054664,0.0025609579840227973,0.002585347372464559,0.0026097367280084635,0.0026341260497146557,0.002658515336625548,0.0026829045877656563,0.002707293802141431,0.0027316829787410934,0.0027560721165344713,0.002780461214472829,0.002804850271488705,0.002829239286495747,0.0028536282583885423,0.0028780171860424554,0.002902406068313462,0.0029267949040379807,0.002951183692032711,0.002975572431094464,0.00299996112,0.00302434975750586,0.003048738342348201,0.0030731268732426317,0.0030975153488840435,0.003121903767946449,0.0031462921290828115,0.003170680430924884,0.003195068672083041,0.003219456851146111,0.0032438449666812147,0.0032682330172335975,0.0032926210013264636,0.0033170089174608085,0.003341396764115258,0.0033657845397458974,0.0033901722427861084,0.003414559871646404,0.0034389474247142615,0.0034633349003539557,0.0034877222969063966,0.0035121096126889593,0.003536496845995321,0.0035608839950952973,0.0035852710582346724,0.0036096580336350327,0.0036340449194936066,0.003658431713983095,0.003682818415251505,0.003707205021421985,0.003731591530592662,0.0037559779408364697,0.0037803642502009884,0.0038047504567082758,0.0038291365583547044,0.0038535225531107923,0.003877908438921039,0.0039022942137037614,0.003926679875350926,0.0039510654217279825,0.003975450850673699,0.003999836160000001,0.004024221347491793,0.004048606410906809,0.004072991347975435,0.004097376156400547,0.004121760833857345,0.004146145377993191,0.004170529786427434,0.004194914056751256,0.004219298186527496,0.004243682173290493,0.004268066014545911,0.004292449707770582,0.004316833250412335,0.004341216639889832,0.004365599873592404,0.004389982948879879,0.004414365863082424,0.004438748613500376,0.004463131197404074,0.004487513612033698,0.004511895854599099,0.0045362779222796355,0.0045606598122240076,0.004585041521550091,0.00460942304734477,0.004633804386663774,0.004658185536531513,0.004682566493940906,0.004706947255853221,0.004731327819197905,0.004755708180872425,0.004780088337742093,0.004804468286639909,0.0048288480243663875,0.0048532275476894,0.004877606853344001,0.004901985938032267,0.004926364798423132,0.0049507434311522195,0.0049751218328216735,0.0049995000000000005,0.005023877929221897,0.005048255616988088,0.005072633059765158,0.005097010253985388,0.0051213871960465885,0.005145763882311935,0.005170140309109798,0.005194516472733584,0.005218892369441564,0.005243267995456712,0.005267643346966537,0.005292018420122915,0.005316393211041929,0.005340767715803698,0.0053651419304522165,0.0053895158509951815,0.005413889473403835,0.005438262793612791,0.005462635807519877,0.005487008510985959,0.005511380899834786,0.005535752969852817,0.005560124716789057,0.005584496136354896,0.005608867224223933,0.0056332379760318215,0.005657608387376096,0.0056819784538160115,0.005706348170872374,0.005730717534027376,0.005755086538724431,0.0057794551803680054,0.00580382345432346,0.0058281913559168775,0.005852558880434894,0.005876926023124543,0.005901292779193086,0.00592565914380784,0.00595002511209602,0.005974390679144572,0.00599875584,0.006023120589668212,0.006047484923114345,0.006071848835262604,0.006096212320996094,0.006120575375156655,0.006144937992544697,0.006169300167919032,0.006193661895996712,0.00621802317145286,0.006242383988920505,0.0062667443429904185,0.0062911042282109446,0.0063154636390878385,0.0063398225700841,0.006364181015619801,0.006388538970071933,0.00641289642777423,0.006437253383017006,0.006461609830046991,0.006485965763067166,0.006510321176236592,0.0065346760636702484,0.006559030419438871,0.0065833842375687774,0.006607737512041706,0.0066320902367946535,0.006656442405719701,0.0066807940126638555,0.006705145051428883,0.0067294955157711405,0.006753845399401409,0.006778194695984734,0.0068025433991402515,0.0068268915024410305,0.006851238999413901,0.006875585883539294,0.006899932148251066,0.006924277786936344,0.006948622792935356,0.006972967159541266,0.0069973108800000005,0.0070216539475100965,0.007045996355222524,0.0070703380962405275,0.007094679163619458,0.007119019550366604,0.00714335924944103,0.00716769825375341,0.007192036556165862,0.00721637414949178,0.007240711026495671,0.007265047179892988,0.00728938260234996,0.00731371728648344,0.00733805122486072,0.007362384409999381,0.007386716834367123,0.00741104849038159,0.0074353793704102205,0.007459709466770067,0.007484038771727643,0.007508367277498743,0.00753269497624829,0.007557021860090165,0.007581347921087037,0.007605673151250203,0.00762999754253942,0.0076543210868627405,0.007678643776076345,0.0077029656019843755,0.0077272865563387735,0.007751606630839114,0.0077759258171324315,0.007800244106813066,0.00782456149142249,0.007848877962449149,0.007873193511328282,0.007897508129441774,0.00792182180811798,0.007946134538631557,0.007970446312203306,0.00799475712,0.008019066953134224,0.008043375802664201,0.008067683659593636,0.008091990514871543,0.00811629635939208,0.00814060118399439,0.008164904979462428,0.008189207736524796,0.00821350944585458,0.008237810098069185,0.008262109683730163,0.008286408193343055,0.008310705617357226,0.008335001946165686,0.00835929717010494,0.008383591279454814,0.008407884264438292,0.00843217611522135,0.008456466821912787,0.008480756374564063,0.008505044763169132,0.008529331977664277,0.008553618007927947,0.008577902843780582,0.00860218647498446,0.008626468891243518,0.008650750082203196,0.008675030037450269,0.008699308746512677,0.008723586198859368,0.008747862383900126,0.008772137290985398,0.00879641090940615,0.008820683228393678,0.008844954237119453,0.008869223924694958,0.00889349228017152,0.008917759292540137,0.00894202495073132,0.008966289243614927,0.00899055216,0.009014813688634585,0.009039073818205585,0.009063332537338582,0.009087589834597676,0.009111845698485315,0.009136100117442137,0.009160353079846799,0.009184604574015808,0.009208854588203363,0.009233103110601186,0.009257350129338352,0.00928159563248113,0.009305839608032813,0.009330082043933558,0.009354322928060209,0.009378562248226145,0.0094027999921811,0.00942703614761101,0.009451270702137844,0.00947550364331943,0.0094997349586493,0.00952396463555652,0.009548192661405521,0.009572419023495937,0.009596643709062446,0.009620866705274584,0.009645087999236603,0.009669307577987292,0.00969352542849981,0.009717741537681528,0.009741955892373857,0.009766168479352088,0.00979037928532522,0.009814588296935796,0.00983879550075974,0.009863000883306196,0.009887204431017342,0.009911406130268254,0.009935605967366711,0.009959803928553054,0.009984,0.010008194167812495,0.010032386418027525,0.01005657673661398,0.010080765109472459,0.010104951522435127,0.010129135961265533,0.010153318411658455,0.010177498859239732,0.010201677289566089,0.010225853688124988,0.010250028040334447,0.010274200331542882,0.010298370547028942,0.01032253867200134,0.010346704691598683,0.010370868590889318,0.010395030354871163,0.01041918996847153,0.010443347416546967,0.0104675026838831,0.010491655755194456,0.010515806615124303,0.010539955248244477,0.01056410163905523,0.010588245771985048,0.0106123876313905,0.010636527201556063,0.010660664466693958,0.010684799410943985,0.010708932018373363,0.01073306227297655,0.010757190158675087,0.010781315659317442,0.010805438758678823,0.010829559440461024,0.010853677688292264,0.010877793485727007,0.010901906816245813,0.010926017663255159,0.010950126010087281,0.01097423184,0.010998335136176568,0.011022435881725494,0.011046534059680379,0.011070629652999755,0.011094722644566913,0.01111881301718974,0.011142900753600552,0.011166985836455937,0.011191068248336575,0.011215147971747079,0.011239224989115833,0.011263299282794825,0.011287370835059473,0.01131143962810847,0.011335505644063609,0.011359568864969628,0.011383629272794031,0.011407686849426939,0.011431741576680907,0.011455793436290768,0.011479842409913467,0.01150388847912789,0.011527931625434707,0.011551971830256198,0.011576009074936092,0.011600043340739396,0.011624074608852236,0.011648102860381692,0.011672128076355618,0.0116961502377225,0.011720169325351266,0.01174418532003114,0.01176819820247146,0.011792207953301524,0.01181621455307042,0.011840217982246862,0.011864218221219018,0.011888215250294355,0.011912209049699463,0.011936199599579896,0.01196018688,0.011984170870942758,0.01200815155230961,0.0120321289039203,0.012056102905512704,0.012080073536742664,0.012104040777183822,0.012128004606327462,0.012151965003582328,0.01217592194827448,0.01219987541964711,0.012223825396860382,0.012247771858991268,0.012271714785033387,0.012295654153896829,0.01231958994440799,0.012343522135309417,0.012367450705259636,0.01239137563283298,0.012415296896519434,0.012439214474724463,0.012463128345768848,0.012487038487888517,0.012510944879234386,0.012534847497872193,0.012558746321782319,0.012582641328859636,0.012606532496913342,0.01263041980366679,0.012654303226757313,0.012678182743736083,0.012702058332067914,0.01272592996913113,0.012749797632217372,0.012773661298531445,0.012797520945191144,0.012821376549227098,0.012845228087582608,0.012869075537113462,0.012892918874587784,0.012916758076685863,0.012940593120000001,0.012964423981034317,0.012988250636204618,0.0130120730618382,0.013035891234173706,0.013059705129360949,0.01308351472346075,0.013107319992444775,0.013131120912195352,0.013154917458505333,0.013178709607077909,0.013202497333526447,0.013226280613374334,0.013250059422054794,0.013273833734910737,0.013297603527194588,0.013321368774068126,0.013345129450602303,0.013368885531777102,0.013392636992481352,0.013416383807512566,0.013440125951576783,0.0134638633992884,0.013487596125169993,0.013511324103652172,0.013535047309073404,0.013558765715679839,0.013582479297625166,0.013606188028970432,0.01362989188368387,0.013653590835640755,0.01367728485862322,0.013700973926320095,0.013724658012326746,0.013748337090144901,0.013772011133182499,0.013795680114753498,0.013819344008077739,0.013843002786280761,0.013866656422393644,0.013890304889352839,0.01391394816,0.01393758620708183,0.0139612190032499,0.01398484652106049,0.01400846873297443,0.014032085611356927,0.014055697128477393,0.014079303256509298,0.014102903967529978,0.014126499233520499,0.014150089026365466,0.014173673317852877,0.014197252079673938,0.014220825283422911,0.014244392900596948,0.014267954902595918,0.014291511260722246,0.014315061946180745,0.014338606930078457,0.014362146183424476,0.01438567967712979,0.014409207382007114,0.014432729268770723,0.014456245308036287,0.014479755470320705,0.014503259726041943,0.014526758045518859,0.014550250398971046,0.014573736756518666,0.01459721708818228,0.014620691363882683,0.014644159553440736,0.014667621626577207,0.014691077552912605,0.014714527301967003,0.014737970843159896,0.014761408145809993,0.014784839179135104,0.014808263912251938,0.014831682314175943,0.014855094353821149,0.0148785,0.014901899221423185,0.014925291986699469,0.014948678264335538,0.014972058022735824,0.014995431230202342,0.015018797854934532,0.015042157865029071,0.015065511228479735,0.015088857913177215,0.015112197886908962,0.015135531117359009,0.015158857572107814,0.015182177218632098,0.015205490024304663,0.015228795956394254,0.015252094982065359,0.015275387068378074,0.015298672182287911,0.015321950290645661,0.015345221360197198,0.015368485357583336,0.015391742249339651,0.015414992001896324,0.01543823458157797,0.015461469954603466,0.015484698087085799,0.015507918945031892,0.01553113249434244,0.015554338700811743,0.015577537530127541,0.01560072894787085,0.015623912919515795,0.015647089410429443,0.01567025838587164,0.015693419810994837,0.015716573650843946,0.01573971987035614,0.015762858434360722,0.01578598930757894,0.015809112454623814,0.015832227839999997,0.015855335428103592,0.015878435183221976,0.015901527069533655,0.015924611051108088,0.015947687091905523,0.015970755155776832,0.01599381520646334,0.016016867207596666,0.01603991112269856,0.016062946915180724,0.016085974548344657,0.016108993985381494,0.016132005189371815,0.01615500812328552,0.016178002749981626,0.016200989032208117,0.01622396693260178,0.01624693641368804,0.016269897437880775,0.01629284996748219,0.016315793964682607,0.01633872939156033,0.01636165621008146,0.016384574382099757,0.016407483869356428,0.016430384633480007,0.01645327663598617,0.016476159838277556,0.01649903420164364,0.01652189968726052,0.016544756256190785,0.016567603869383336,0.016590442487673218,0.016613272071781468,0.01663609258231493,0.016658903979766115,0.016681706224513,0.016704499276818892,0.016727283096832253,0.016750057644586532,0.016772822880000003,0.016795578762875584,0.016818325252900706,0.016841062309647114,0.016863789892570705,0.016886507961011384,0.016909216474192877,0.016931915391222574,0.016954604671091365,0.016977284272673466,0.01699995415472626,0.017022614275890136,0.01704526459468831,0.017067905069526663,0.017090535658693586,0.017113156320359812,0.017135767012578233,0.017158367693283747,0.0171809583202931,0.01720353885130471,0.017226109243898502,0.017248669455535735,0.017271219443558868,0.01729375916519134,0.017316288577537458,0.017338807637582204,0.017361316302191065,0.017383814528109894,0.017406302271964706,0.017428779490261552,0.017451246139386315,0.017473702175604577,0.017496147555061434,0.01751858223378134,0.017541006167667933,0.017563419312503874,0.017585821623950684,0.017608213057548575,0.017630593568716275,0.01765296311275088,0.01767532164482768,0.017697669120000002,0.017720005493199003,0.01774233071923358,0.017764644752790125,0.017786947548432415,0.017809239060601417,0.017831519243615142,0.017853788051668464,0.017876045438832956,0.017898291359056722,0.017920525766164257,0.01794274861385624,0.017964959855709405,0.01798715944517635,0.018009347335585384,0.01803152348014036,0.018053687831920504,0.018075840343880257,0.018097980968849098,0.018120109659531394,0.018142226368506223,0.01816433104822721,0.018186423651022358,0.018208504129093892,0.018230572434518085,0.018252628519245105,0.018274672335098822,0.018296703833776663,0.018318722966849464,0.018340729685761257,0.01836272394182914,0.018384705686243105,0.018406674870065868,0.0184286314442327,0.018450575359551268,0.018472506566701467,0.018494425016235258,0.01851633065857649,0.018538223444020747,0.01856010332273518,0.01858197024475834,0.01860382416,0.018625665018241016,0.01864749276913314,0.01866930736219886,0.01869110874683123,0.018712896872293716,0.01873467168772002,0.018756433142113917,0.018778181184349096,0.018799915763168976,0.018821636827186558,0.01884334432488426,0.018865038204613736,0.01888671841459572,0.018908384902919864,0.018930037617544564,0.018951676506296804,0.01897330151687197,0.018994912596833717,0.01901650969361377,0.01903809275451178,0.019059661726695147,0.01908121655719887,0.019102757192925347,0.01912428358064426,0.019145795666992364,0.019167293398473336,0.019188776721457627,0.01921024558218227,0.019231699926750723,0.01925313970113272,0.01927456485116407,0.01929597532254654,0.01931737106084764,0.019338752011500475,0.0193601181198036,0.019381469330920838,0.019402805589881097,0.019424126841578234,0.01944543303077087,0.01946672410208224,0.019488000000000002,0.0195092606688761,0.019530506052926583,0.019551736096231443,0.01957295074273444,0.01959414993624295,0.01961533362042779,0.01963650173882307,0.019657654234825992,0.019678791051696717,0.019699912132558187,0.01972101742039596,0.019742106858058044,0.01976318038825472,0.019784237953558412,0.019805279496403476,0.019826304959086063,0.019847314283763944,0.019868307412456352,0.0198892842870438,0.01991024484926793,0.019931189040731344,0.01995211680289744,0.01997302807709023,0.0199939228044942,0.020014800926154135,0.020035662382974943,0.020056507115721486,0.020077335065018444,0.02009814617135012,0.020118940375060287,0.020139717616352013,0.02016047783528751,0.02018122097178796,0.02020194696563334,0.02022265575646227,0.02024334728377185,0.020264021486917482,0.020284678305112706,0.02030531767742904,0.020325939542795816,0.020346543840000002,0.02036713050768605,0.020387699484355724,0.020408250708367937,0.02042878411793858,0.02044929965114036,0.02046979724590264,0.020490276840011257,0.020510738371108374,0.020531181776692296,0.020551606994117337,0.020572013960593605,0.020592402613186886,0.020612772888818444,0.020633124724264866,0.020653458056157904,0.02067377282098431,0.020694068955085635,0.020714346394658117,0.020734605075752484,0.020754844934273788,0.02077506590598125,0.020795267926488087,0.020815450931261352,0.020835614855621756,0.02085575963474352,0.0208758852036542,0.020895991497234517,0.020916078450218197,0.02093614599719181,0.020956194072594594,0.02097622261071829,0.020996231545706984,0.021016220811556942,0.021036190342116432,0.02105614007108557,0.021076069932016148,0.02109597985831147,0.02111586978322619,0.021135739639866147,0.021155589361188186,0.021175418879999998,0.021195228128959978,0.02121501704057702,0.021234785547210373,0.021254533581069483,0.02127426107421381,0.021293967958552665,0.021313654165845054,0.021333319627699514,0.021352964275573923,0.021372588040775364,0.021392190854459946,0.02141177264763263,0.021431333351147084,0.021450872895705495,0.02147039121185842,0.021489888230004618,0.021509363880390868,0.021528818093111822,0.02154825079810984,0.021567661925174803,0.02158705140394397,0.02160641916390181,0.021625765134379818,0.02164508924455636,0.02166439142345652,0.02168367159995192,0.021702929702760547,0.02172216566044661,0.021741379401420353,0.0217605708539379,0.02177973994610109,0.02179888660585731,0.021818010760999318,0.021837112339165098,0.02185619126783768,0.021875247474344973,0.021894280885859603,0.02191329142939876,0.021932279031824008,0.02195124361984114,0.02197018512,0.02198910345869432,0.022007998562161554,0.022026870356482722,0.02204571876758223,0.022064543721227705,0.02208334514302985,0.02210212295844225,0.022120877092761223,0.02213960747112565,0.022158314018516808,0.022176996659758214,0.022195655319515444,0.022214289922295967,0.022232900392449007,0.02225148665416534,0.022270048631477156,0.02228858624825787,0.02230709942822199,0.022325588094924905,0.02234405217176276,0.022362491581972278,0.022380906248630573,0.022399296094655026,0.022417661042803076,0.022436001015672082,0.022454315935699153,0.02247260572516097,0.02249087030617363,0.022509109600692488,0.022527323530511977,0.022545512017265436,0.02256367498242498,0.022581812347301288,0.02259992403304347,0.02261800996063889,0.022636070050912997,0.022654104224529164,0.022672112401988527,0.022690094503629816,0.022708050449629168,0.02272598016,0.022743883554592816,0.022761760553095055,0.022779611075030907,0.02279743503976117,0.022815232366483067,0.022833002974230097,0.022850746781871843,0.022868463708113844,0.022886153671497385,0.02290381659039937,0.022921452383032136,0.022939060967443286,0.022956642261515538,0.022974196182966547,0.02299172264934874,0.023009221578049154,0.02302669288628927,0.023044136491124845,0.023061552309445753,0.0230789402579758,0.02309630025327259,0.02311363221172733,0.023130936049564673,0.02314821168284257,0.023165459027452075,0.023182677999117197,0.023199868513394735,0.023217030485674108,0.023234163831177178,0.02325126846495811,0.023268344301903183,0.023285391256730643,0.02330240924399051,0.023319398178064454,0.02333635797316558,0.023353288543338305,0.023370189802458165,0.02338706166423167,0.02340390404219611,0.02342071684971942,0.0234375,0.023454253406066543,0.023470976980777877,0.02348767063682281,0.023504334286719934,0.023520967842817493,0.0235375712172932,0.023554144322154073,0.02357068706923626,0.023587199370204898,0.023603681136553926,0.02362013227960592,0.023636552710511946,0.023652942340251372,0.023669301079631708,0.023685628839288455,0.023701925529684923,0.023718191061112066,0.023734425343688328,0.023750628287359465,0.02376679980189839,0.02378293979690499,0.023799048181805987,0.023815124865854746,0.02383116975813112,0.023847182767541292,0.023863163802817597,0.023879112772518363,0.023895029585027747,0.023910914148555555,0.023926766371137095,0.023942586160633005,0.023958373424729083,0.02397412807093612,0.02398985000658974,0.024005539138850236,0.024021195374702403,0.024036818620955358,0.0240524087842424,0.02406796577102082,0.024083489487571753,0.02409897984,0.02411443673423387,0.024129860076025016,0.024145249770948247,0.02416060572440141,0.02417592784160516,0.024191216027602862,0.024206470187260375,0.02422169022526589,0.024236876046129806,0.02425202755418452,0.024267144653584274,0.024282227248305,0.02429727524214415,0.024312288538720514,0.024327267041474077,0.02434221065366584,0.024357119278377658,0.02437199281851208,0.02438683117679217,0.024401634255761348,0.024416401957783225,0.02443113418504145,0.02444583083953951,0.024460491823100606,0.024475117037367454,0.024489706383802136,0.024504259763685927,0.024518777078119145,0.02453325822802096,0.024547703114129245,0.024562111637000415,0.024576483697009238,0.024590819194348697,0.024605118029029795,0.024619380100881435,0.0246336053095502,0.024647793554500214,0.024661944735012986,0.024676058750187226,0.024690135498938687,0.024704174880000002,0.024718176791920503,0.02473214113306609,0.02474606780161901,0.024759956695577755,0.02477380771275684,0.024787620750786686,0.02480139570711341,0.024815132478998685,0.02482883096351958,0.024842491057568365,0.024856112657852376,0.02486969566089384,0.02488323996302969,0.024896745460411426,0.024910212049004947,0.02492363962459036,0.024937028082761842,0.024950377318927453,0.024963687228309,0.024976957705941823,0.02499018864667469,0.025003379945169584,0.025016531495901544,0.025029643193158528,0.025042714931041203,0.025055746603462832,0.025068738104149058,0.02508168932663777,0.025094600164278925,0.025107470510234382,0.025120300257477746,0.025133089298794188,0.02514583752678029,0.025158544833843877,0.02517121111220385,0.025183836253890025,0.025196420150742943,0.025208962694413743,0.02522146377636398,0.025233923287865438,0.025246341119999998,0.02525871716365946,0.025271051309545357,0.02528334344816882,0.025295593469850396,0.025307801264719886,0.02531996672271617,0.02533208973358707,0.025344170186889135,0.025356207971987538,0.025368202978055848,0.025380155094075908,0.025392064208837644,0.025403930210938917,0.025415752988785355,0.025427532430590167,0.025439268424374006,0.025450960857964777,0.0254626096189975,0.025474214594914113,0.025485775672963323,0.02549729274020045,0.025508765683487238,0.025520194389491706,0.025531578744687984,0.025542918635356127,0.025554213947581967,0.025565464567256956,0.025576670380077972,0.025587831271547172,0.025598947126971833,0.02561001783146416,0.025621043269941156,0.02563202332712442,0.025642957887540015,0.025653846835518256,0.02566469005519361,0.025675487430504473,0.025686238845193034,0.025696944182805086,0.025707603326689893,0.02571821616,0.025728782565691066,0.025739302426521716,0.025749775625053362,0.02576020204365003,0.02577058156447823,0.025780914069506732,0.02579119944050646,0.025801437559050282,0.025811628306512874,0.025821771564070534,0.025831867212701025,0.02584191513318342,0.025851915206097902,0.025861867311825642,0.025871771330548604,0.02588162714224938,0.025891434626711052,0.02590119366351699,0.025910904132050706,0.025920565911495684,0.02593017888083522,0.02593974291885224,0.025949257904129157,0.025958723715047698,0.025968140229788723,0.025977507326332062,0.025986824882456377,0.02599609277573898,0.02600531088355563,0.02601447908308045,0.02602359725128567,0.02603266526494153,0.026041683000616073,0.026050650334675008,0.026059567143281524,0.02606843330239613,0.026077248687776493,0.026086013174977267,0.026094726639349936,0.02610338895604264,0.026112000000000003,0.026120559645962983,0.0261290677684687,0.026137524241850264,0.026145928940236634,0.0261542817375524,0.026162582507517674,0.026170831123647896,0.026179027459253674,0.02618717138744061,0.026195262781109147,0.026203301512954393,0.026211287455465963,0.026219220480927806,0.026227100461418067,0.026234927268808855,0.026242700774766158,0.026250420850749617,0.026258087368012394,0.026265700197600987,0.02627325921035508,0.02628076427690737,0.026288215267683386,0.026295612052901346,0.026302954502571994,0.026310242486498416,0.02631747587427587,0.026324654535291647,0.026331778338724892,0.026338847153546424,0.026345860848518587,0.02635281929219509,0.026359722352920816,0.026366569898831682,0.02637336179785446,0.026380097917706624,0.026386778125896147,0.026393402289721403,0.026399970276270918,0.02640648195242328,0.02641293718484693,0.026419335840000002,0.026425677784130165,0.026431962883274457,0.026438191003259122,0.026444362009699417,0.026450475767999505,0.026456532143352217,0.02646253100073893,0.02646847220492942,0.026474355620481633,0.02648018111174158,0.02648594854284313,0.02649165777770788,0.02649730868004495,0.026502901113350852,0.02650843494090931,0.026513910025791083,0.026519326230853825,0.026524683418741896,0.026529981451886203,0.02653522019250405,0.026540399502598937,0.026545519243960442,0.026550579278164003,0.026555579466570806,0.026560519670327565,0.02656539975036639,0.02657021956740464,0.026574978981944698,0.02657967785427385,0.026584316044464117,0.026588893412372073,0.026593409817638684,0.026597865119689156,0.026602259177732745,0.02660659185076262,0.026610862997555655,0.02661507247667233,0.026619220146456492,0.02662330586503523,0.026627329490318707,0.026631290880000002,0.0266351898915549,0.026639026382241793,0.026642800209101453,0.026646511228956903,0.026650159298413235,0.02665374427385746,0.026657266011458326,0.026660724367166155,0.026664119196712688,0.02666745035561091,0.026670717699154876,0.026673921082419578,0.026677060360260733,0.026680135387314657,0.026683146017998077,0.02668609210650797,0.026688973506821412,0.026691790072695377,0.02669454165766661,0.02669722811505144,0.026699849297945628,0.026702405059224173,0.026704895251541173,0.026707319727329676,0.026709678338801453,0.02671197093794689,0.0267141973765348,0.026716357506112252,0.026718451178004428,0.026720478243314423,0.02672243855292311,0.026724331957488957,0.026726158307447866,0.026727917453013013,0.026729609244174675,0.026731233530700053,0.026732790162133147,0.026734278987794534,0.026735699856781252,0.0267370526179666,0.02673833712,0.026739553211306798,0.026740700740088136,0.026741779554320756,0.026742789501756847,0.026743730429923878,0.026744602186124435,0.026745404617436058,0.026746137570711058,0.026746800892576368,0.026747394429433375,0.026747918027457747,0.026748371532599274,0.026748754790581714,0.026749067646902585,0.02674930994683305,0.026749481535417723,0.026749582257474508,0.026749611957594434,0.02674957048014149,0.02674945766925247,0.026749273368836774,0.026749017422576286,0.02674868967392518,0.026748289966109756,0.02674781814212828,0.026747274044750836,0.02674665751651912,0.0267459683997463,0.02674520653651686,0.026744371768686402,0.02674346393788151,0.026742482885499585,0.02674142845270865,0.026740300480447194,0.02673909880942405,0.026737823280118155,0.02673647373277845,0.026735050007423666,0.026733551943842204,0.02673197938159192,0.02673033216,0.026728610118162778,0.02672681309494555,0.02672494092898246,0.026722993458676285,0.026720970522198295,0.02671887195748806,0.02671669760225333,0.02671444729396983,0.02671212086988111,0.02670971816699838,0.026707239022100336,0.026704683271732997,0.02670205075220955,0.026699341299610168,0.02669655474978186,0.026693690938338295,0.026690749700659627,0.026687730871892367,0.026684634286949154,0.02668145978050867,0.026678207187015395,0.02667487634067949,0.02667146707547663,0.026667979225147808,0.026664412623199206,0.026660767102901987,0.02665704249729217,0.026653238639170455,0.026649355361102033,0.026645392495416455,0.026641349874207427,0.02663722732933268,0.026633024692413788,0.026628741794836007,0.0266243784677481,0.02661993454206219,0.02661540984845357,0.026610804217360545,0.026606117478984292,0.026601349463288647,0.026596500000000002,0.026591568918607054,0.026586556048360736,0.026581461218273962,0.026576284257121534,0.02657102499343993,0.02656568325552715,0.026560258871442567,0.026554751669006726,0.02654916147580123,0.026543488119168523,0.02653773142621174,0.02653189122379456,0.026525967338541033,0.02651995959683539,0.026513867824821912,0.026507691848404735,0.026501431493247695,0.02649508658477418,0.026488656948166944,0.026482142408367944,0.02647554279007816,0.026468857917757473,0.026462087615624453,0.026455231707656218,0.02644829001758827,0.02644126236891431,0.02643414858488608,0.026426948488513215,0.026419661902563056,0.0264122886495605,0.02640482855178781,0.026397281431284485,0.026389647109847047,0.02638192540902894,0.026374116150140292,0.026366219154247805,0.02635823424217456,0.026350161234499868,0.026341999951559093,0.026333750213443467,0.02632541184,0.026316984650831203,0.026308468465295016,0.026299863102504595,0.02629116838132816,0.026282384120388823,0.02627351013806443,0.0262645462524874,0.026255492281544536,0.02624634804287688,0.026237113353879536,0.026227788031701525,0.0262183718932456,0.026208864755168076,0.02619926643387867,0.026189576745540344,0.026179795506069137,0.026169922531134,0.0261599576361566,0.026149900636311212,0.02613975134652451,0.02612950958147539,0.026119175155594872,0.026108747883065837,0.026098227577822958,0.02608761405355247,0.026076907123692022,0.026066106601430515,0.026055212299707954,0.026044224031215212,0.026033141608393977,0.026021964843436485,0.0260106935482854,0.02599932753463366,0.025987866613924278,0.025976310597350172,0.025964659295854058,0.02595291252012823,0.025941070080614397,0.025929131787503546,0.025917097450735744,0.02590496688,0.025892739884734083,0.025880416274124372,0.02586799585710566,0.025855478442361007,0.0258428638383216,0.02583015185316654,0.025817342294822705,0.025804434970964567,0.025791429689014055,0.02577832625614036,0.025765124479259778,0.025751824165035547,0.0257384251198777,0.02572492714994285,0.025711330061134068,0.025697633659100706,0.02568383774923823,0.025669942136688044,0.02565594662633735,0.02564185102281894,0.02562765513051108,0.02561335875353731,0.02559896169576629,0.025584463760811627,0.025569864752031723,0.025555164472529607,0.025540362725152747,0.02552545931249291,0.02551045403688599,0.02549534670041182,0.02548013710489407,0.025464825051899988,0.025449410342740307,0.02543389277846906,0.025418272159883393,0.025402548287523436,0.025386720961672098,0.025370789982354935,0.025354755149339964,0.025338616262137504,0.02532237312,0.025306025521921887,0.025289573266639394,0.02527301615263038,0.02525635397811419,0.025239586541051462,0.02522271363914399,0.025205735069834544,0.025188650630306685,0.02517146011748463,0.025154163328033073,0.025136760058357032,0.025119250104601653,0.02510163326265207,0.025083909328133237,0.02506607809640975,0.025048139362585698,0.025030092921504477,0.025011938567748655,0.024993676095639752,0.02497530529923816,0.024956825972342875,0.024938237908491406,0.024919540900959596,0.024900734742761423,0.02488181922664888,0.02486279414511177,0.02484365929037756,0.024824414454411223,0.024805059428915047,0.024785594005328496,0.024766017974828018,0.02474633112832691,0.024726533256475135,0.024706624149659136,0.024686603598001705,0.024666471391361817,0.02464622731933442,0.024625871171250334,0.024605402736176014,0.024584821802913465,0.024564128159999997,0.024543321595708108,0.024522401898045314,0.024501368854753965,0.024480222253311073,0.0244589618809282,0.024437587524551233,0.024416098970860226,0.024394496006269275,0.024372778416926318,0.02435094598871296,0.024328998507244338,0.024306935757868943,0.02428475752566845,0.02426246359545755,0.0242400537517838,0.02421752777892743,0.024194885460901205,0.024172126581450248,0.024149250924051867,0.024126258271915405,0.024103148407982063,0.024079921114924734,0.024056576175147837,0.02403311337078716,0.024009532483709697,0.023985833295513462,0.023962015587527332,0.023938079140810895,0.023914023736154276,0.02388984915407796,0.023865555174832635,0.02384114157839903,0.02381660814448776,0.023791954652539114,0.023767180881722954,0.023742286610938503,0.023717271618814185,0.023692135683707486,0.023666878583704754,0.023641500096621047,0.023615999999999998,0.02359037807111358,0.023564634086962015,0.02353876782427355,0.023512779059504323,0.023486667568838198,0.023460433128186582,0.023434075513188272,0.023407594499209282,0.023380989861342676,0.023354261374408433,0.023327408812953216,0.02330043195125028,0.023273330563299242,0.023246104422825983,0.023218753303282397,0.023191276977846318,0.023163675219421274,0.023135947800636384,0.023108094493846144,0.023080115071130284,0.023052009304293616,0.023023776964865843,0.022995417824101385,0.022966931652979267,0.022938318222202887,0.02290957730219989,0.022880708663121998,0.022851712074844828,0.022822587306967748,0.022793334128813705,0.022763952309429035,0.022734441617583333,0.02270480182176926,0.022675032690202403,0.02264513399082109,0.022615105491286223,0.02258494695898112,0.02255465816101135,0.02252423886420457,0.022493688835110347,0.022463007840000007,0.022432195644866447,0.022401252015423995,0.022370176717108243,0.02233896951507585,0.02230763017420442,0.022276158459092296,0.022244554134058424,0.022212816963142167,0.02218094671010316,0.02214894313842112,0.022116806011295703,0.02208453509164632,0.02205213014211198,0.022019590925051135,0.021986917202541485,0.021954108736379842,0.02192116528808195,0.021888086618882318,0.021854872489734067,0.02182152266130874,0.021788036893996162,0.02175441494790427,0.02172065658285892,0.021686761558403767,0.02165272963380006,0.02161856056802649,0.02158425411977903,0.021549810047470763,0.021515228109231725,0.02148050806290871,0.02144564966606515,0.02141065267598092,0.02137551684965217,0.021340241943791166,0.02130482771482614,0.021269273918901096,0.02123358031187566,0.02119774664932492,0.02116177268653924,0.021125658178524118,0.02108940288,0.021053006545402132,0.021016468928880386,0.020979789784299076,0.02094296886523683,0.020906005924986402,0.020868900716554492,0.02083165299266162,0.02079426250574192,0.020756729007943012,0.02071905225112578,0.020681231986864283,0.020643267966445514,0.02060515994086929,0.02056690766084806,0.02052851087680673,0.020489969338882547,0.020451282796924857,0.020412451000495005,0.02037347369886613,0.02033435064102303,0.020295081575661962,0.02025566625119051,0.02021610441572739,0.020176395817102306,0.020136540202855772,0.02009653732023895,0.020056386916213493,0.02001608873745135,0.019975642530334653,0.01993504804095549,0.019894305015115778,0.019853413198327088,0.019812372335810492,0.01977118217249637,0.01972984245302425,0.01968835292174268,0.019646713322709005,0.019604923399689243,0.0195629828961579,0.019520891555297824,0.019478649120000004,0.019436255332863438,0.019393709936194957,0.019351012672009053,0.01930816328202772,0.019265161507680276,0.019222007090103223,0.019178699770140056,0.019135239288341106,0.019091625384963375,0.019047857799970376,0.01900393627303195,0.018959860543524124,0.018915630350528925,0.018871245432834232,0.018826705528933587,0.01878201037702605,0.01873715971501603,0.018692153280513105,0.01864699081083188,0.018601672042991787,0.018556196713716964,0.018510564559436057,0.018464775316282052,0.01841882872009213,0.0183727245064075,0.018326462410473206,0.01828004216723799,0.01823346351135411,0.018186726177177197,0.01813982989876605,0.018092774409882505,0.018045559443991263,0.017998184734259702,0.017950650013557747,0.017902955014457662,0.017855099469233936,0.017807083109863064,0.017758905668023413,0.01771056687509506,0.017662066462159596,0.01761340416,0.017564579699100438,0.01751559280964612,0.017466443221523124,0.017417130664318235,0.017367654867318776,0.017318015559512435,0.01726821246958712,0.017218245325930776,0.01716811385663123,0.01711781778947601,0.017067356851952188,0.017016730771246224,0.01696593927424379,0.016914982087529604,0.016863858937387254,0.016812569549799063,0.016761113650445896,0.01670949096470701,0.016657701217659852,0.01660574413407997,0.016553619438440758,0.016501326854913356,0.016448866107366445,0.016396236919366113,0.01634343901417565,0.01629047211475543,0.01623733594376269,0.01618403022355144,0.016130554676172207,0.016076909023371926,0.016023092986593785,0.015969106286977,0.015914948645356728,0.01586061978226382,0.01580611941792471,0.01575144727226124,0.015696603064890482,0.01564158651512458,0.015586397341970573,0.015531035264130263,0.0154755,0.015419791267670544,0.015363908784926916,0.015307852269248195,0.015251621437807372,0.015195216007471191,0.015138635694799965,0.01508188021604743,0.015024949287160564,0.01496784262377942,0.014910559941236978,0.014853100954558968,0.01479546537846369,0.014737652927361882,0.014679663315356523,0.014621496256242683,0.014563151463507349,0.014504628650329272,0.014445927529578777,0.014387047813817644,0.01432798921529888,0.014268751445966602,0.014209334217455849,0.014149737241092416,0.014089960227892709,0.014030002888563552,0.013969864933502033,0.013909546072795344,0.013849046016220612,0.013788364473244722,0.013727501153024166,0.01366645576440487,0.013605228015922035,0.013543817615799956,0.013482224271951879,0.013420447691979812,0.01335848758317438,0.013296343652514638,0.013234015606667926,0.013171503151989691,0.013108805994523326,0.013045923839999998,0.012982856393838482,0.012919603361145015,0.012856164446713109,0.01279253935502338,0.012728727790243418,0.012664729456227573,0.012600544056516828,0.012536171294338604,0.012471610872606632,0.012406862493920746,0.012341925860566741,0.0122768006745162,0.012211486637426333,0.012145983450639806,0.012080290815184587,0.01201440843177375,0.011948336000805346,0.011882073222362222,0.01181561979621185,0.011748975421806166,0.011682139798281406,0.011615112624457937,0.011547893598840094,0.011480482419616014,0.011412878784657465,0.011345082391519693,0.011277092937441238,0.011208910119343784,0.011140533633831988,0.011071963177193313,0.01100319844539786,0.010934239134098214,0.010865084938629251,0.010795735554008033,0.01072619067493353,0.010656449995786585,0.010586513210629667,0.010516380013206728,0.010446050096943025,0.010375523154944988,0.010304798880000007,0.010233876964576305,0.010162757100822744,0.010091438980568686,0.01001992229532381,0.009948206736277948,0.009876291994300918,0.009804177759942368,0.00973186372343161,0.009659349574677427,0.009586635003267953,0.00951371969847047,0.009440603349231252,0.009367285644175412,0.009293766271606716,0.00922004491950745,0.009146121275538198,0.00907199502703774,0.008997665861022843,0.008923133464188117,0.008848397522905825,0.008773457723225759,0.008698313750875026,0.008622965291257917,0.008547412029455729,0.00847165365022659,0.008395689838005321,0.008319520276903237,0.008243144650708,0.008166562642883455,0.008089773936569452,0.008012778214581693,0.00793557515941156,0.007858164453225949,0.007780545777867101,0.007702718814852451,0.007624683245374443,0.007546438750300371,0.007467985010172229,0.007389321705206513,0.007310448515294091,0.0072313651200000065,0.007152071198563338,0.0070725664298970144,0.006992850492587655,0.006912923064895419,0.006832783824753809,0.006752432449769528,0.006671868617222314,0.0065910920040647665,0.0065101022869221755,0.006428899142092376,0.006347482245545552,0.0062658512729241046,0.006184005899542454,0.006101945800386908,0.0060196706501154645,0.00593718012305766,0.0058544738932144015,0.00577155163425782,0.005688413019531062,0.005605057722048157,0.005521485414493858,0.0054376957692234395,0.00535368845826257,0.005269463153307119,0.00518501952572301,0.00510035724654604,0.005015475986481731,0.004930375415905136,0.004845055204860717,0.004759515023062131,0.004673754539892092,0.004587773424402208,0.004501571345312801,0.00441514797101275,0.004328502969559321,0.004241636008678006,0.00415454675576235,0.004067234877873787,0.003979700041741498,0.0038919419137621964,0.0038039601600000058,0.0037157544461862693,0.0036273244377194114,0.0035386697996647363,0.0034497901967542816,0.0033606852933866565,0.003271354753626872,0.003181798241206167,0.0030920154195218526,0.003002005951637146,0.0029117695002809935,0.0028213057278479244,0.0027306142963978625,0.0026396948676559737,0.0025485471030125143,0.002457170663522624,0.002365565209906201,0.0022737304025477233,0.0021816659014960737,0.0020893713664643767,0.001996846456829844,0.0019040908316336068,0.0018111041495805294,0.001717886069039076,0.0016244362480411125,0.001530754344281774,0.0014368400151192585,0.001342692917574708,0.0012483127083320025,0.0011536990437376173,0.00105885157980045,0.0009637699721916467,0.0008684538762444664,0.0007729029469540673,0.0006771168389773902,0.0005810952066329547,0.00048483770390071994,0.0003883439844218928,0.0002916137014987993,0.0001946465080946759]},\"selected\":{\"id\":\"1059\",\"type\":\"Selection\"},\"selection_policy\":{\"id\":\"1060\",\"type\":\"UnionRenderers\"}},\"id\":\"1035\",\"type\":\"ColumnDataSource\"},{\"attributes\":{\"bottom_units\":\"screen\",\"fill_alpha\":{\"value\":0.5},\"fill_color\":{\"value\":\"lightgrey\"},\"left_units\":\"screen\",\"level\":\"overlay\",\"line_alpha\":{\"value\":1.0},\"line_color\":{\"value\":\"black\"},\"line_dash\":[4,4],\"line_width\":{\"value\":2},\"render_mode\":\"css\",\"right_units\":\"screen\",\"top_units\":\"screen\"},\"id\":\"1045\",\"type\":\"BoxAnnotation\"},{\"attributes\":{},\"id\":\"1025\",\"type\":\"SaveTool\"},{\"attributes\":{\"text\":\"Superposition de la solution th\\u00e9orique et num\\u00e9rique :\"},\"id\":\"1002\",\"type\":\"Title\"},{\"attributes\":{},\"id\":\"1026\",\"type\":\"ResetTool\"},{\"attributes\":{},\"id\":\"1027\",\"type\":\"HelpTool\"},{\"attributes\":{\"active_drag\":\"auto\",\"active_inspect\":\"auto\",\"active_multi\":null,\"active_scroll\":\"auto\",\"active_tap\":\"auto\",\"tools\":[{\"id\":\"1022\",\"type\":\"PanTool\"},{\"id\":\"1023\",\"type\":\"WheelZoomTool\"},{\"id\":\"1024\",\"type\":\"BoxZoomTool\"},{\"id\":\"1025\",\"type\":\"SaveTool\"},{\"id\":\"1026\",\"type\":\"ResetTool\"},{\"id\":\"1027\",\"type\":\"HelpTool\"}]},\"id\":\"1028\",\"type\":\"Toolbar\"},{\"attributes\":{\"source\":{\"id\":\"1035\",\"type\":\"ColumnDataSource\"}},\"id\":\"1039\",\"type\":\"CDSView\"},{\"attributes\":{\"callback\":null},\"id\":\"1006\",\"type\":\"DataRange1d\"},{\"attributes\":{\"items\":[{\"id\":\"1047\",\"type\":\"LegendItem\"},{\"id\":\"1061\",\"type\":\"LegendItem\"}]},\"id\":\"1046\",\"type\":\"Legend\"},{\"attributes\":{},\"id\":\"1008\",\"type\":\"LinearScale\"},{\"attributes\":{\"data_source\":{\"id\":\"1048\",\"type\":\"ColumnDataSource\"},\"glyph\":{\"id\":\"1049\",\"type\":\"Line\"},\"hover_glyph\":null,\"muted_glyph\":null,\"nonselection_glyph\":{\"id\":\"1050\",\"type\":\"Line\"},\"selection_glyph\":null,\"view\":{\"id\":\"1052\",\"type\":\"CDSView\"}},\"id\":\"1051\",\"type\":\"GlyphRenderer\"},{\"attributes\":{\"source\":{\"id\":\"1048\",\"type\":\"ColumnDataSource\"}},\"id\":\"1052\",\"type\":\"CDSView\"},{\"attributes\":{},\"id\":\"1010\",\"type\":\"LinearScale\"},{\"attributes\":{\"data_source\":{\"id\":\"1035\",\"type\":\"ColumnDataSource\"},\"glyph\":{\"id\":\"1036\",\"type\":\"Line\"},\"hover_glyph\":null,\"muted_glyph\":null,\"nonselection_glyph\":{\"id\":\"1037\",\"type\":\"Line\"},\"selection_glyph\":null,\"view\":{\"id\":\"1039\",\"type\":\"CDSView\"}},\"id\":\"1038\",\"type\":\"GlyphRenderer\"},{\"attributes\":{},\"id\":\"1059\",\"type\":\"Selection\"},{\"attributes\":{\"formatter\":{\"id\":\"1042\",\"type\":\"BasicTickFormatter\"},\"ticker\":{\"id\":\"1013\",\"type\":\"BasicTicker\"}},\"id\":\"1012\",\"type\":\"LinearAxis\"},{\"attributes\":{\"label\":{\"value\":\"Solution th\\u00e9orique\"},\"renderers\":[{\"id\":\"1038\",\"type\":\"GlyphRenderer\"}]},\"id\":\"1047\",\"type\":\"LegendItem\"},{\"attributes\":{},\"id\":\"1060\",\"type\":\"UnionRenderers\"},{\"attributes\":{},\"id\":\"1013\",\"type\":\"BasicTicker\"},{\"attributes\":{\"line_alpha\":0.1,\"line_color\":\"#1f77b4\",\"line_dash\":[5,10],\"line_width\":2,\"x\":{\"field\":\"x\"},\"y\":{\"field\":\"y\"}},\"id\":\"1037\",\"type\":\"Line\"},{\"attributes\":{\"label\":{\"value\":\"Solution num\\u00e9rique\"},\"renderers\":[{\"id\":\"1051\",\"type\":\"GlyphRenderer\"}]},\"id\":\"1061\",\"type\":\"LegendItem\"},{\"attributes\":{\"ticker\":{\"id\":\"1013\",\"type\":\"BasicTicker\"}},\"id\":\"1016\",\"type\":\"Grid\"},{\"attributes\":{\"formatter\":{\"id\":\"1044\",\"type\":\"BasicTickFormatter\"},\"ticker\":{\"id\":\"1018\",\"type\":\"BasicTicker\"}},\"id\":\"1017\",\"type\":\"LinearAxis\"},{\"attributes\":{},\"id\":\"1071\",\"type\":\"UnionRenderers\"},{\"attributes\":{},\"id\":\"1018\",\"type\":\"BasicTicker\"},{\"attributes\":{\"dimension\":1,\"ticker\":{\"id\":\"1018\",\"type\":\"BasicTicker\"}},\"id\":\"1021\",\"type\":\"Grid\"},{\"attributes\":{\"callback\":null},\"id\":\"1004\",\"type\":\"DataRange1d\"},{\"attributes\":{\"line_color\":\"red\",\"x\":{\"field\":\"x\"},\"y\":{\"field\":\"y\"}},\"id\":\"1049\",\"type\":\"Line\"},{\"attributes\":{\"line_alpha\":0.1,\"line_color\":\"#1f77b4\",\"x\":{\"field\":\"x\"},\"y\":{\"field\":\"y\"}},\"id\":\"1050\",\"type\":\"Line\"},{\"attributes\":{\"line_color\":\"blue\",\"line_dash\":[5,10],\"line_width\":2,\"x\":{\"field\":\"x\"},\"y\":{\"field\":\"y\"}},\"id\":\"1036\",\"type\":\"Line\"},{\"attributes\":{},\"id\":\"1070\",\"type\":\"Selection\"},{\"attributes\":{},\"id\":\"1022\",\"type\":\"PanTool\"},{\"attributes\":{\"callback\":null,\"data\":{\"x\":[0.0004878048780487805,0.000975609756097561,0.0014634146341463415,0.001951219512195122,0.0024390243902439024,0.002926829268292683,0.0034146341463414634,0.003902439024390244,0.004390243902439025,0.004878048780487805,0.005365853658536585,0.005853658536585366,0.006341463414634147,0.006829268292682927,0.007317073170731707,0.007804878048780488,0.008292682926829269,0.00878048780487805,0.009268292682926829,0.00975609756097561,0.01024390243902439,0.01073170731707317,0.01121951219512195,0.011707317073170732,0.012195121951219513,0.012682926829268294,0.013170731707317073,0.013658536585365854,0.014146341463414635,0.014634146341463414,0.015121951219512195,0.015609756097560976,0.016097560975609757,0.016585365853658537,0.01707317073170732,0.0175609756097561,0.018048780487804877,0.018536585365853658,0.01902439024390244,0.01951219512195122,0.02,0.02048780487804878,0.020975609756097562,0.02146341463414634,0.02195121951219512,0.0224390243902439,0.022926829268292682,0.023414634146341463,0.023902439024390244,0.024390243902439025,0.024878048780487806,0.025365853658536587,0.025853658536585365,0.026341463414634145,0.026829268292682926,0.027317073170731707,0.027804878048780488,0.02829268292682927,0.02878048780487805,0.029268292682926828,0.02975609756097561,0.03024390243902439,0.03073170731707317,0.03121951219512195,0.03170731707317073,0.03219512195121951,0.032682926829268294,0.033170731707317075,0.033658536585365856,0.03414634146341464,0.03463414634146342,0.0351219512195122,0.03560975609756097,0.03609756097560975,0.036585365853658534,0.037073170731707315,0.037560975609756096,0.03804878048780488,0.03853658536585366,0.03902439024390244,0.03951219512195122,0.04,0.04048780487804878,0.04097560975609756,0.041463414634146344,0.041951219512195125,0.042439024390243905,0.04292682926829268,0.04341463414634146,0.04390243902439024,0.04439024390243902,0.0448780487804878,0.045365853658536584,0.045853658536585365,0.046341463414634146,0.04682926829268293,0.04731707317073171,0.04780487804878049,0.04829268292682927,0.04878048780487805,0.04926829268292683,0.04975609756097561,0.05024390243902439,0.050731707317073174,0.05121951219512195,0.05170731707317073,0.05219512195121951,0.05268292682926829,0.05317073170731707,0.05365853658536585,0.054146341463414634,0.054634146341463415,0.055121951219512196,0.055609756097560976,0.05609756097560976,0.05658536585365854,0.05707317073170732,0.0575609756097561,0.05804878048780488,0.058536585365853655,0.059024390243902436,0.05951219512195122,0.06,0.06048780487804878,0.06097560975609756,0.06146341463414634,0.06195121951219512,0.0624390243902439,0.06292682926829268,0.06341463414634146,0.06390243902439025,0.06439024390243903,0.06487804878048781,0.06536585365853659,0.06585365853658537,0.06634146341463415,0.06682926829268293,0.06731707317073171,0.06780487804878049,0.06829268292682927,0.06878048780487805,0.06926829268292684,0.06975609756097562,0.0702439024390244,0.07073170731707316,0.07121951219512195,0.07170731707317073,0.0721951219512195,0.07268292682926829,0.07317073170731707,0.07365853658536585,0.07414634146341463,0.07463414634146341,0.07512195121951219,0.07560975609756097,0.07609756097560975,0.07658536585365854,0.07707317073170732,0.0775609756097561,0.07804878048780488,0.07853658536585366,0.07902439024390244,0.07951219512195122,0.08,0.08048780487804878,0.08097560975609756,0.08146341463414634,0.08195121951219513,0.0824390243902439,0.08292682926829269,0.08341463414634147,0.08390243902439025,0.08439024390243903,0.08487804878048781,0.08536585365853659,0.08585365853658536,0.08634146341463414,0.08682926829268292,0.0873170731707317,0.08780487804878048,0.08829268292682926,0.08878048780487804,0.08926829268292683,0.0897560975609756,0.09024390243902439,0.09073170731707317,0.09121951219512195,0.09170731707317073,0.09219512195121951,0.09268292682926829,0.09317073170731707,0.09365853658536585,0.09414634146341463,0.09463414634146342,0.0951219512195122,0.09560975609756098,0.09609756097560976,0.09658536585365854,0.09707317073170732,0.0975609756097561,0.09804878048780488,0.09853658536585366,0.09902439024390244,0.09951219512195122,0.1,0.10048780487804879,0.10097560975609757,0.10146341463414635,0.10195121951219512,0.1024390243902439,0.10292682926829268,0.10341463414634146,0.10390243902439024,0.10439024390243902,0.1048780487804878,0.10536585365853658,0.10585365853658536,0.10634146341463414,0.10682926829268292,0.1073170731707317,0.10780487804878049,0.10829268292682927,0.10878048780487805,0.10926829268292683,0.10975609756097561,0.11024390243902439,0.11073170731707317,0.11121951219512195,0.11170731707317073,0.11219512195121951,0.1126829268292683,0.11317073170731708,0.11365853658536586,0.11414634146341464,0.11463414634146342,0.1151219512195122,0.11560975609756098,0.11609756097560976,0.11658536585365854,0.11707317073170731,0.11756097560975609,0.11804878048780487,0.11853658536585365,0.11902439024390243,0.11951219512195121,0.12,0.12048780487804878,0.12097560975609756,0.12146341463414634,0.12195121951219512,0.1224390243902439,0.12292682926829268,0.12341463414634146,0.12390243902439024,0.12439024390243902,0.1248780487804878,0.12536585365853659,0.12585365853658537,0.12634146341463415,0.12682926829268293,0.1273170731707317,0.1278048780487805,0.12829268292682927,0.12878048780487805,0.12926829268292683,0.12975609756097561,0.1302439024390244,0.13073170731707318,0.13121951219512196,0.13170731707317074,0.13219512195121952,0.1326829268292683,0.13317073170731708,0.13365853658536586,0.13414634146341464,0.13463414634146342,0.1351219512195122,0.13560975609756099,0.13609756097560977,0.13658536585365855,0.13707317073170733,0.1375609756097561,0.1380487804878049,0.13853658536585367,0.13902439024390245,0.13951219512195123,0.14,0.1404878048780488,0.14097560975609755,0.14146341463414633,0.1419512195121951,0.1424390243902439,0.14292682926829267,0.14341463414634145,0.14390243902439023,0.144390243902439,0.1448780487804878,0.14536585365853658,0.14585365853658536,0.14634146341463414,0.14682926829268292,0.1473170731707317,0.14780487804878048,0.14829268292682926,0.14878048780487804,0.14926829268292682,0.1497560975609756,0.15024390243902438,0.15073170731707317,0.15121951219512195,0.15170731707317073,0.1521951219512195,0.1526829268292683,0.15317073170731707,0.15365853658536585,0.15414634146341463,0.1546341463414634,0.1551219512195122,0.15560975609756098,0.15609756097560976,0.15658536585365854,0.15707317073170732,0.1575609756097561,0.15804878048780488,0.15853658536585366,0.15902439024390244,0.15951219512195122,0.16,0.16048780487804878,0.16097560975609757,0.16146341463414635,0.16195121951219513,0.1624390243902439,0.1629268292682927,0.16341463414634147,0.16390243902439025,0.16439024390243903,0.1648780487804878,0.1653658536585366,0.16585365853658537,0.16634146341463416,0.16682926829268294,0.16731707317073172,0.1678048780487805,0.16829268292682928,0.16878048780487806,0.16926829268292684,0.16975609756097562,0.1702439024390244,0.17073170731707318,0.17121951219512196,0.17170731707317072,0.1721951219512195,0.17268292682926828,0.17317073170731706,0.17365853658536584,0.17414634146341462,0.1746341463414634,0.17512195121951218,0.17560975609756097,0.17609756097560975,0.17658536585365853,0.1770731707317073,0.1775609756097561,0.17804878048780487,0.17853658536585365,0.17902439024390243,0.1795121951219512,0.18,0.18048780487804877,0.18097560975609756,0.18146341463414634,0.18195121951219512,0.1824390243902439,0.18292682926829268,0.18341463414634146,0.18390243902439024,0.18439024390243902,0.1848780487804878,0.18536585365853658,0.18585365853658536,0.18634146341463415,0.18682926829268293,0.1873170731707317,0.1878048780487805,0.18829268292682927,0.18878048780487805,0.18926829268292683,0.1897560975609756,0.1902439024390244,0.19073170731707317,0.19121951219512195,0.19170731707317074,0.19219512195121952,0.1926829268292683,0.19317073170731708,0.19365853658536586,0.19414634146341464,0.19463414634146342,0.1951219512195122,0.19560975609756098,0.19609756097560976,0.19658536585365854,0.19707317073170733,0.1975609756097561,0.1980487804878049,0.19853658536585367,0.19902439024390245,0.19951219512195123,0.2,0.2004878048780488,0.20097560975609757,0.20146341463414635,0.20195121951219513,0.20243902439024392,0.2029268292682927,0.20341463414634145,0.20390243902439023,0.204390243902439,0.2048780487804878,0.20536585365853657,0.20585365853658535,0.20634146341463414,0.20682926829268292,0.2073170731707317,0.20780487804878048,0.20829268292682926,0.20878048780487804,0.20926829268292682,0.2097560975609756,0.21024390243902438,0.21073170731707316,0.21121951219512194,0.21170731707317073,0.2121951219512195,0.2126829268292683,0.21317073170731707,0.21365853658536585,0.21414634146341463,0.2146341463414634,0.2151219512195122,0.21560975609756097,0.21609756097560975,0.21658536585365853,0.21707317073170732,0.2175609756097561,0.21804878048780488,0.21853658536585366,0.21902439024390244,0.21951219512195122,0.22,0.22048780487804878,0.22097560975609756,0.22146341463414634,0.22195121951219512,0.2224390243902439,0.2229268292682927,0.22341463414634147,0.22390243902439025,0.22439024390243903,0.2248780487804878,0.2253658536585366,0.22585365853658537,0.22634146341463415,0.22682926829268293,0.22731707317073171,0.2278048780487805,0.22829268292682928,0.22878048780487806,0.22926829268292684,0.22975609756097562,0.2302439024390244,0.23073170731707318,0.23121951219512196,0.23170731707317074,0.23219512195121952,0.2326829268292683,0.23317073170731709,0.23365853658536587,0.23414634146341462,0.2346341463414634,0.23512195121951218,0.23560975609756096,0.23609756097560974,0.23658536585365852,0.2370731707317073,0.2375609756097561,0.23804878048780487,0.23853658536585365,0.23902439024390243,0.2395121951219512,0.24,0.24048780487804877,0.24097560975609755,0.24146341463414633,0.24195121951219511,0.2424390243902439,0.24292682926829268,0.24341463414634146,0.24390243902439024,0.24439024390243902,0.2448780487804878,0.24536585365853658,0.24585365853658536,0.24634146341463414,0.24682926829268292,0.2473170731707317,0.24780487804878049,0.24829268292682927,0.24878048780487805,0.24926829268292683,0.2497560975609756,0.2502439024390244,0.25073170731707317,0.25121951219512195,0.25170731707317073,0.2521951219512195,0.2526829268292683,0.2531707317073171,0.25365853658536586,0.25414634146341464,0.2546341463414634,0.2551219512195122,0.255609756097561,0.25609756097560976,0.25658536585365854,0.2570731707317073,0.2575609756097561,0.2580487804878049,0.25853658536585367,0.25902439024390245,0.25951219512195123,0.26,0.2604878048780488,0.26097560975609757,0.26146341463414635,0.26195121951219513,0.2624390243902439,0.2629268292682927,0.2634146341463415,0.26390243902439026,0.26439024390243904,0.2648780487804878,0.2653658536585366,0.2658536585365854,0.26634146341463416,0.26682926829268294,0.2673170731707317,0.2678048780487805,0.2682926829268293,0.26878048780487807,0.26926829268292685,0.2697560975609756,0.2702439024390244,0.2707317073170732,0.27121951219512197,0.27170731707317075,0.27219512195121953,0.2726829268292683,0.2731707317073171,0.2736585365853659,0.27414634146341466,0.27463414634146344,0.2751219512195122,0.275609756097561,0.2760975609756098,0.27658536585365856,0.27707317073170734,0.2775609756097561,0.2780487804878049,0.2785365853658537,0.27902439024390246,0.27951219512195125,0.28,0.2804878048780488,0.2809756097560976,0.2814634146341463,0.2819512195121951,0.2824390243902439,0.28292682926829266,0.28341463414634144,0.2839024390243902,0.284390243902439,0.2848780487804878,0.28536585365853656,0.28585365853658534,0.2863414634146341,0.2868292682926829,0.2873170731707317,0.28780487804878047,0.28829268292682925,0.288780487804878,0.2892682926829268,0.2897560975609756,0.29024390243902437,0.29073170731707315,0.29121951219512193,0.2917073170731707,0.2921951219512195,0.2926829268292683,0.29317073170731706,0.29365853658536584,0.2941463414634146,0.2946341463414634,0.2951219512195122,0.29560975609756096,0.29609756097560974,0.2965853658536585,0.2970731707317073,0.2975609756097561,0.29804878048780487,0.29853658536585365,0.2990243902439024,0.2995121951219512,0.3,0.30048780487804877,0.30097560975609755,0.30146341463414633,0.3019512195121951,0.3024390243902439,0.3029268292682927,0.30341463414634146,0.30390243902439024,0.304390243902439,0.3048780487804878,0.3053658536585366,0.30585365853658536,0.30634146341463414,0.3068292682926829,0.3073170731707317,0.3078048780487805,0.30829268292682926,0.30878048780487805,0.3092682926829268,0.3097560975609756,0.3102439024390244,0.31073170731707317,0.31121951219512195,0.31170731707317073,0.3121951219512195,0.3126829268292683,0.3131707317073171,0.31365853658536585,0.31414634146341464,0.3146341463414634,0.3151219512195122,0.315609756097561,0.31609756097560976,0.31658536585365854,0.3170731707317073,0.3175609756097561,0.3180487804878049,0.31853658536585366,0.31902439024390244,0.3195121951219512,0.32,0.3204878048780488,0.32097560975609757,0.32146341463414635,0.32195121951219513,0.3224390243902439,0.3229268292682927,0.3234146341463415,0.32390243902439025,0.32439024390243903,0.3248780487804878,0.3253658536585366,0.3258536585365854,0.32634146341463416,0.32682926829268294,0.3273170731707317,0.3278048780487805,0.3282926829268293,0.32878048780487806,0.32926829268292684,0.3297560975609756,0.3302439024390244,0.3307317073170732,0.33121951219512197,0.33170731707317075,0.33219512195121953,0.3326829268292683,0.3331707317073171,0.3336585365853659,0.33414634146341465,0.33463414634146343,0.3351219512195122,0.335609756097561,0.3360975609756098,0.33658536585365856,0.33707317073170734,0.3375609756097561,0.3380487804878049,0.3385365853658537,0.33902439024390246,0.33951219512195124,0.34,0.3404878048780488,0.3409756097560976,0.34146341463414637,0.34195121951219515,0.34243902439024393,0.3429268292682927,0.34341463414634144,0.3439024390243902,0.344390243902439,0.3448780487804878,0.34536585365853656,0.34585365853658534,0.3463414634146341,0.3468292682926829,0.3473170731707317,0.34780487804878046,0.34829268292682924,0.348780487804878,0.3492682926829268,0.3497560975609756,0.35024390243902437,0.35073170731707315,0.35121951219512193,0.3517073170731707,0.3521951219512195,0.3526829268292683,0.35317073170731705,0.35365853658536583,0.3541463414634146,0.3546341463414634,0.3551219512195122,0.35560975609756096,0.35609756097560974,0.3565853658536585,0.3570731707317073,0.3575609756097561,0.35804878048780486,0.35853658536585364,0.3590243902439024,0.3595121951219512,0.36,0.36048780487804877,0.36097560975609755,0.36146341463414633,0.3619512195121951,0.3624390243902439,0.36292682926829267,0.36341463414634145,0.36390243902439023,0.364390243902439,0.3648780487804878,0.3653658536585366,0.36585365853658536,0.36634146341463414,0.3668292682926829,0.3673170731707317,0.3678048780487805,0.36829268292682926,0.36878048780487804,0.3692682926829268,0.3697560975609756,0.3702439024390244,0.37073170731707317,0.37121951219512195,0.37170731707317073,0.3721951219512195,0.3726829268292683,0.37317073170731707,0.37365853658536585,0.37414634146341463,0.3746341463414634,0.3751219512195122,0.375609756097561,0.37609756097560976,0.37658536585365854,0.3770731707317073,0.3775609756097561,0.3780487804878049,0.37853658536585366,0.37902439024390244,0.3795121951219512,0.38,0.3804878048780488,0.38097560975609757,0.38146341463414635,0.38195121951219513,0.3824390243902439,0.3829268292682927,0.38341463414634147,0.38390243902439025,0.38439024390243903,0.3848780487804878,0.3853658536585366,0.3858536585365854,0.38634146341463416,0.38682926829268294,0.3873170731707317,0.3878048780487805,0.3882926829268293,0.38878048780487806,0.38926829268292684,0.3897560975609756,0.3902439024390244,0.3907317073170732,0.39121951219512197,0.39170731707317075,0.3921951219512195,0.3926829268292683,0.3931707317073171,0.39365853658536587,0.39414634146341465,0.39463414634146343,0.3951219512195122,0.395609756097561,0.3960975609756098,0.39658536585365856,0.39707317073170734,0.3975609756097561,0.3980487804878049,0.3985365853658537,0.39902439024390246,0.39951219512195124,0.4,0.4004878048780488,0.4009756097560976,0.40146341463414636,0.40195121951219515,0.4024390243902439,0.4029268292682927,0.4034146341463415,0.40390243902439027,0.40439024390243905,0.40487804878048783,0.4053658536585366,0.4058536585365854,0.4063414634146341,0.4068292682926829,0.4073170731707317,0.40780487804878046,0.40829268292682924,0.408780487804878,0.4092682926829268,0.4097560975609756,0.41024390243902437,0.41073170731707315,0.41121951219512193,0.4117073170731707,0.4121951219512195,0.41268292682926827,0.41317073170731705,0.41365853658536583,0.4141463414634146,0.4146341463414634,0.4151219512195122,0.41560975609756096,0.41609756097560974,0.4165853658536585,0.4170731707317073,0.4175609756097561,0.41804878048780486,0.41853658536585364,0.4190243902439024,0.4195121951219512,0.42,0.42048780487804877,0.42097560975609755,0.4214634146341463,0.4219512195121951,0.4224390243902439,0.42292682926829267,0.42341463414634145,0.42390243902439023,0.424390243902439,0.4248780487804878,0.4253658536585366,0.42585365853658536,0.42634146341463414,0.4268292682926829,0.4273170731707317,0.4278048780487805,0.42829268292682926,0.42878048780487804,0.4292682926829268,0.4297560975609756,0.4302439024390244,0.43073170731707316,0.43121951219512195,0.4317073170731707,0.4321951219512195,0.4326829268292683,0.43317073170731707,0.43365853658536585,0.43414634146341463,0.4346341463414634,0.4351219512195122,0.435609756097561,0.43609756097560975,0.43658536585365854,0.4370731707317073,0.4375609756097561,0.4380487804878049,0.43853658536585366,0.43902439024390244,0.4395121951219512,0.44,0.4404878048780488,0.44097560975609756,0.44146341463414634,0.4419512195121951,0.4424390243902439,0.4429268292682927,0.44341463414634147,0.44390243902439025,0.44439024390243903,0.4448780487804878,0.4453658536585366,0.4458536585365854,0.44634146341463415,0.44682926829268294,0.4473170731707317,0.4478048780487805,0.4482926829268293,0.44878048780487806,0.44926829268292684,0.4497560975609756,0.4502439024390244,0.4507317073170732,0.45121951219512196,0.45170731707317074,0.4521951219512195,0.4526829268292683,0.4531707317073171,0.45365853658536587,0.45414634146341465,0.45463414634146343,0.4551219512195122,0.455609756097561,0.4560975609756098,0.45658536585365855,0.45707317073170733,0.4575609756097561,0.4580487804878049,0.4585365853658537,0.45902439024390246,0.45951219512195124,0.46,0.4604878048780488,0.4609756097560976,0.46146341463414636,0.46195121951219514,0.4624390243902439,0.4629268292682927,0.4634146341463415,0.46390243902439027,0.46439024390243905,0.46487804878048783,0.4653658536585366,0.4658536585365854,0.46634146341463417,0.46682926829268295,0.46731707317073173,0.4678048780487805,0.46829268292682924,0.468780487804878,0.4692682926829268,0.4697560975609756,0.47024390243902436,0.47073170731707314,0.4712195121951219,0.4717073170731707,0.4721951219512195,0.47268292682926827,0.47317073170731705,0.47365853658536583,0.4741463414634146,0.4746341463414634,0.4751219512195122,0.47560975609756095,0.47609756097560973,0.4765853658536585,0.4770731707317073,0.4775609756097561,0.47804878048780486,0.47853658536585364,0.4790243902439024,0.4795121951219512,0.48,0.48048780487804876,0.48097560975609754,0.4814634146341463,0.4819512195121951,0.4824390243902439,0.48292682926829267,0.48341463414634145,0.48390243902439023,0.484390243902439,0.4848780487804878,0.4853658536585366,0.48585365853658535,0.48634146341463413,0.4868292682926829,0.4873170731707317,0.4878048780487805,0.48829268292682926,0.48878048780487804,0.4892682926829268,0.4897560975609756,0.4902439024390244,0.49073170731707316,0.49121951219512194,0.4917073170731707,0.4921951219512195,0.4926829268292683,0.49317073170731707,0.49365853658536585,0.49414634146341463,0.4946341463414634,0.4951219512195122,0.49560975609756097,0.49609756097560975,0.49658536585365853,0.4970731707317073,0.4975609756097561,0.4980487804878049,0.49853658536585366,0.49902439024390244,0.4995121951219512,0.5,0.5004878048780488,0.5009756097560976,0.5014634146341463,0.5019512195121951,0.5024390243902439,0.5029268292682927,0.5034146341463415,0.5039024390243902,0.504390243902439,0.5048780487804878,0.5053658536585366,0.5058536585365854,0.5063414634146342,0.5068292682926829,0.5073170731707317,0.5078048780487805,0.5082926829268293,0.5087804878048781,0.5092682926829268,0.5097560975609756,0.5102439024390244,0.5107317073170732,0.511219512195122,0.5117073170731707,0.5121951219512195,0.5126829268292683,0.5131707317073171,0.5136585365853659,0.5141463414634146,0.5146341463414634,0.5151219512195122,0.515609756097561,0.5160975609756098,0.5165853658536586,0.5170731707317073,0.5175609756097561,0.5180487804878049,0.5185365853658537,0.5190243902439025,0.5195121951219512,0.52,0.5204878048780488,0.5209756097560976,0.5214634146341464,0.5219512195121951,0.5224390243902439,0.5229268292682927,0.5234146341463415,0.5239024390243903,0.524390243902439,0.5248780487804878,0.5253658536585366,0.5258536585365854,0.5263414634146342,0.526829268292683,0.5273170731707317,0.5278048780487805,0.5282926829268293,0.5287804878048781,0.5292682926829269,0.5297560975609756,0.5302439024390244,0.5307317073170732,0.531219512195122,0.5317073170731708,0.5321951219512195,0.5326829268292683,0.5331707317073171,0.5336585365853659,0.5341463414634147,0.5346341463414634,0.5351219512195122,0.535609756097561,0.5360975609756098,0.5365853658536586,0.5370731707317074,0.5375609756097561,0.5380487804878049,0.5385365853658537,0.5390243902439025,0.5395121951219513,0.54,0.5404878048780488,0.5409756097560976,0.5414634146341464,0.5419512195121952,0.5424390243902439,0.5429268292682927,0.5434146341463415,0.5439024390243903,0.5443902439024391,0.5448780487804878,0.5453658536585366,0.5458536585365854,0.5463414634146342,0.546829268292683,0.5473170731707317,0.5478048780487805,0.5482926829268293,0.5487804878048781,0.5492682926829269,0.5497560975609757,0.5502439024390244,0.5507317073170732,0.551219512195122,0.5517073170731708,0.5521951219512196,0.5526829268292683,0.5531707317073171,0.5536585365853659,0.5541463414634147,0.5546341463414635,0.5551219512195122,0.555609756097561,0.5560975609756098,0.5565853658536586,0.5570731707317074,0.5575609756097561,0.5580487804878049,0.5585365853658537,0.5590243902439025,0.5595121951219513,0.56,0.5604878048780488,0.5609756097560976,0.5614634146341464,0.5619512195121952,0.5624390243902438,0.5629268292682926,0.5634146341463414,0.5639024390243902,0.564390243902439,0.5648780487804878,0.5653658536585365,0.5658536585365853,0.5663414634146341,0.5668292682926829,0.5673170731707317,0.5678048780487804,0.5682926829268292,0.568780487804878,0.5692682926829268,0.5697560975609756,0.5702439024390243,0.5707317073170731,0.5712195121951219,0.5717073170731707,0.5721951219512195,0.5726829268292682,0.573170731707317,0.5736585365853658,0.5741463414634146,0.5746341463414634,0.5751219512195122,0.5756097560975609,0.5760975609756097,0.5765853658536585,0.5770731707317073,0.577560975609756,0.5780487804878048,0.5785365853658536,0.5790243902439024,0.5795121951219512,0.58,0.5804878048780487,0.5809756097560975,0.5814634146341463,0.5819512195121951,0.5824390243902439,0.5829268292682926,0.5834146341463414,0.5839024390243902,0.584390243902439,0.5848780487804878,0.5853658536585366,0.5858536585365853,0.5863414634146341,0.5868292682926829,0.5873170731707317,0.5878048780487805,0.5882926829268292,0.588780487804878,0.5892682926829268,0.5897560975609756,0.5902439024390244,0.5907317073170731,0.5912195121951219,0.5917073170731707,0.5921951219512195,0.5926829268292683,0.593170731707317,0.5936585365853658,0.5941463414634146,0.5946341463414634,0.5951219512195122,0.595609756097561,0.5960975609756097,0.5965853658536585,0.5970731707317073,0.5975609756097561,0.5980487804878049,0.5985365853658536,0.5990243902439024,0.5995121951219512,0.6,0.6004878048780488,0.6009756097560975,0.6014634146341463,0.6019512195121951,0.6024390243902439,0.6029268292682927,0.6034146341463414,0.6039024390243902,0.604390243902439,0.6048780487804878,0.6053658536585366,0.6058536585365853,0.6063414634146341,0.6068292682926829,0.6073170731707317,0.6078048780487805,0.6082926829268293,0.608780487804878,0.6092682926829268,0.6097560975609756,0.6102439024390244,0.6107317073170732,0.6112195121951219,0.6117073170731707,0.6121951219512195,0.6126829268292683,0.6131707317073171,0.6136585365853658,0.6141463414634146,0.6146341463414634,0.6151219512195122,0.615609756097561,0.6160975609756097,0.6165853658536585,0.6170731707317073,0.6175609756097561,0.6180487804878049,0.6185365853658537,0.6190243902439024,0.6195121951219512,0.62,0.6204878048780488,0.6209756097560976,0.6214634146341463,0.6219512195121951,0.6224390243902439,0.6229268292682927,0.6234146341463415,0.6239024390243902,0.624390243902439,0.6248780487804878,0.6253658536585366,0.6258536585365854,0.6263414634146341,0.6268292682926829,0.6273170731707317,0.6278048780487805,0.6282926829268293,0.628780487804878,0.6292682926829268,0.6297560975609756,0.6302439024390244,0.6307317073170732,0.631219512195122,0.6317073170731707,0.6321951219512195,0.6326829268292683,0.6331707317073171,0.6336585365853659,0.6341463414634146,0.6346341463414634,0.6351219512195122,0.635609756097561,0.6360975609756098,0.6365853658536585,0.6370731707317073,0.6375609756097561,0.6380487804878049,0.6385365853658537,0.6390243902439025,0.6395121951219512,0.64,0.6404878048780488,0.6409756097560976,0.6414634146341464,0.6419512195121951,0.6424390243902439,0.6429268292682927,0.6434146341463415,0.6439024390243903,0.644390243902439,0.6448780487804878,0.6453658536585366,0.6458536585365854,0.6463414634146342,0.646829268292683,0.6473170731707317,0.6478048780487805,0.6482926829268293,0.6487804878048781,0.6492682926829269,0.6497560975609756,0.6502439024390244,0.6507317073170732,0.651219512195122,0.6517073170731708,0.6521951219512195,0.6526829268292683,0.6531707317073171,0.6536585365853659,0.6541463414634147,0.6546341463414634,0.6551219512195122,0.655609756097561,0.6560975609756098,0.6565853658536586,0.6570731707317073,0.6575609756097561,0.6580487804878049,0.6585365853658537,0.6590243902439025,0.6595121951219513,0.66,0.6604878048780488,0.6609756097560976,0.6614634146341464,0.6619512195121952,0.6624390243902439,0.6629268292682927,0.6634146341463415,0.6639024390243903,0.6643902439024391,0.6648780487804878,0.6653658536585366,0.6658536585365854,0.6663414634146342,0.666829268292683,0.6673170731707317,0.6678048780487805,0.6682926829268293,0.6687804878048781,0.6692682926829269,0.6697560975609756,0.6702439024390244,0.6707317073170732,0.671219512195122,0.6717073170731708,0.6721951219512196,0.6726829268292683,0.6731707317073171,0.6736585365853659,0.6741463414634147,0.6746341463414635,0.6751219512195122,0.675609756097561,0.6760975609756098,0.6765853658536586,0.6770731707317074,0.6775609756097561,0.6780487804878049,0.6785365853658537,0.6790243902439025,0.6795121951219513,0.68,0.6804878048780488,0.6809756097560976,0.6814634146341464,0.6819512195121952,0.682439024390244,0.6829268292682927,0.6834146341463415,0.6839024390243903,0.6843902439024391,0.6848780487804879,0.6853658536585366,0.6858536585365854,0.6863414634146342,0.6868292682926829,0.6873170731707317,0.6878048780487804,0.6882926829268292,0.688780487804878,0.6892682926829268,0.6897560975609756,0.6902439024390243,0.6907317073170731,0.6912195121951219,0.6917073170731707,0.6921951219512195,0.6926829268292682,0.693170731707317,0.6936585365853658,0.6941463414634146,0.6946341463414634,0.6951219512195121,0.6956097560975609,0.6960975609756097,0.6965853658536585,0.6970731707317073,0.697560975609756,0.6980487804878048,0.6985365853658536,0.6990243902439024,0.6995121951219512,0.7,0.7004878048780487,0.7009756097560975,0.7014634146341463,0.7019512195121951,0.7024390243902439,0.7029268292682926,0.7034146341463414,0.7039024390243902,0.704390243902439,0.7048780487804878,0.7053658536585365,0.7058536585365853,0.7063414634146341,0.7068292682926829,0.7073170731707317,0.7078048780487805,0.7082926829268292,0.708780487804878,0.7092682926829268,0.7097560975609756,0.7102439024390244,0.7107317073170731,0.7112195121951219,0.7117073170731707,0.7121951219512195,0.7126829268292683,0.713170731707317,0.7136585365853658,0.7141463414634146,0.7146341463414634,0.7151219512195122,0.715609756097561,0.7160975609756097,0.7165853658536585,0.7170731707317073,0.7175609756097561,0.7180487804878048,0.7185365853658536,0.7190243902439024,0.7195121951219512,0.72,0.7204878048780488,0.7209756097560975,0.7214634146341463,0.7219512195121951,0.7224390243902439,0.7229268292682927,0.7234146341463414,0.7239024390243902,0.724390243902439,0.7248780487804878,0.7253658536585366,0.7258536585365853,0.7263414634146341,0.7268292682926829,0.7273170731707317,0.7278048780487805,0.7282926829268292,0.728780487804878,0.7292682926829268,0.7297560975609756,0.7302439024390244,0.7307317073170732,0.7312195121951219,0.7317073170731707,0.7321951219512195,0.7326829268292683,0.7331707317073171,0.7336585365853658,0.7341463414634146,0.7346341463414634,0.7351219512195122,0.735609756097561,0.7360975609756097,0.7365853658536585,0.7370731707317073,0.7375609756097561,0.7380487804878049,0.7385365853658536,0.7390243902439024,0.7395121951219512,0.74,0.7404878048780488,0.7409756097560976,0.7414634146341463,0.7419512195121951,0.7424390243902439,0.7429268292682927,0.7434146341463415,0.7439024390243902,0.744390243902439,0.7448780487804878,0.7453658536585366,0.7458536585365854,0.7463414634146341,0.7468292682926829,0.7473170731707317,0.7478048780487805,0.7482926829268293,0.748780487804878,0.7492682926829268,0.7497560975609756,0.7502439024390244,0.7507317073170732,0.751219512195122,0.7517073170731707,0.7521951219512195,0.7526829268292683,0.7531707317073171,0.7536585365853659,0.7541463414634146,0.7546341463414634,0.7551219512195122,0.755609756097561,0.7560975609756098,0.7565853658536585,0.7570731707317073,0.7575609756097561,0.7580487804878049,0.7585365853658537,0.7590243902439024,0.7595121951219512,0.76,0.7604878048780488,0.7609756097560976,0.7614634146341464,0.7619512195121951,0.7624390243902439,0.7629268292682927,0.7634146341463415,0.7639024390243903,0.764390243902439,0.7648780487804878,0.7653658536585366,0.7658536585365854,0.7663414634146342,0.7668292682926829,0.7673170731707317,0.7678048780487805,0.7682926829268293,0.7687804878048781,0.7692682926829268,0.7697560975609756,0.7702439024390244,0.7707317073170732,0.771219512195122,0.7717073170731708,0.7721951219512195,0.7726829268292683,0.7731707317073171,0.7736585365853659,0.7741463414634147,0.7746341463414634,0.7751219512195122,0.775609756097561,0.7760975609756098,0.7765853658536586,0.7770731707317073,0.7775609756097561,0.7780487804878049,0.7785365853658537,0.7790243902439025,0.7795121951219512,0.78,0.7804878048780488,0.7809756097560976,0.7814634146341464,0.7819512195121952,0.7824390243902439,0.7829268292682927,0.7834146341463415,0.7839024390243903,0.784390243902439,0.7848780487804878,0.7853658536585366,0.7858536585365854,0.7863414634146342,0.786829268292683,0.7873170731707317,0.7878048780487805,0.7882926829268293,0.7887804878048781,0.7892682926829269,0.7897560975609756,0.7902439024390244,0.7907317073170732,0.791219512195122,0.7917073170731708,0.7921951219512195,0.7926829268292683,0.7931707317073171,0.7936585365853659,0.7941463414634147,0.7946341463414635,0.7951219512195122,0.795609756097561,0.7960975609756098,0.7965853658536586,0.7970731707317074,0.7975609756097561,0.7980487804878049,0.7985365853658537,0.7990243902439025,0.7995121951219513,0.8,0.8004878048780488,0.8009756097560976,0.8014634146341464,0.8019512195121952,0.802439024390244,0.8029268292682927,0.8034146341463415,0.8039024390243903,0.8043902439024391,0.8048780487804879,0.8053658536585366,0.8058536585365854,0.8063414634146342,0.806829268292683,0.8073170731707318,0.8078048780487805,0.8082926829268293,0.8087804878048781,0.8092682926829269,0.8097560975609757,0.8102439024390244,0.8107317073170732,0.811219512195122,0.8117073170731708,0.8121951219512195,0.8126829268292682,0.813170731707317,0.8136585365853658,0.8141463414634146,0.8146341463414634,0.8151219512195121,0.8156097560975609,0.8160975609756097,0.8165853658536585,0.8170731707317073,0.817560975609756,0.8180487804878048,0.8185365853658536,0.8190243902439024,0.8195121951219512,0.82,0.8204878048780487,0.8209756097560975,0.8214634146341463,0.8219512195121951,0.8224390243902439,0.8229268292682926,0.8234146341463414,0.8239024390243902,0.824390243902439,0.8248780487804878,0.8253658536585365,0.8258536585365853,0.8263414634146341,0.8268292682926829,0.8273170731707317,0.8278048780487804,0.8282926829268292,0.828780487804878,0.8292682926829268,0.8297560975609756,0.8302439024390244,0.8307317073170731,0.8312195121951219,0.8317073170731707,0.8321951219512195,0.8326829268292683,0.833170731707317,0.8336585365853658,0.8341463414634146,0.8346341463414634,0.8351219512195122,0.8356097560975609,0.8360975609756097,0.8365853658536585,0.8370731707317073,0.8375609756097561,0.8380487804878048,0.8385365853658536,0.8390243902439024,0.8395121951219512,0.84,0.8404878048780487,0.8409756097560975,0.8414634146341463,0.8419512195121951,0.8424390243902439,0.8429268292682927,0.8434146341463414,0.8439024390243902,0.844390243902439,0.8448780487804878,0.8453658536585366,0.8458536585365853,0.8463414634146341,0.8468292682926829,0.8473170731707317,0.8478048780487805,0.8482926829268292,0.848780487804878,0.8492682926829268,0.8497560975609756,0.8502439024390244,0.8507317073170731,0.8512195121951219,0.8517073170731707,0.8521951219512195,0.8526829268292683,0.853170731707317,0.8536585365853658,0.8541463414634146,0.8546341463414634,0.8551219512195122,0.855609756097561,0.8560975609756097,0.8565853658536585,0.8570731707317073,0.8575609756097561,0.8580487804878049,0.8585365853658536,0.8590243902439024,0.8595121951219512,0.86,0.8604878048780488,0.8609756097560975,0.8614634146341463,0.8619512195121951,0.8624390243902439,0.8629268292682927,0.8634146341463415,0.8639024390243902,0.864390243902439,0.8648780487804878,0.8653658536585366,0.8658536585365854,0.8663414634146341,0.8668292682926829,0.8673170731707317,0.8678048780487805,0.8682926829268293,0.868780487804878,0.8692682926829268,0.8697560975609756,0.8702439024390244,0.8707317073170732,0.871219512195122,0.8717073170731707,0.8721951219512195,0.8726829268292683,0.8731707317073171,0.8736585365853659,0.8741463414634146,0.8746341463414634,0.8751219512195122,0.875609756097561,0.8760975609756098,0.8765853658536585,0.8770731707317073,0.8775609756097561,0.8780487804878049,0.8785365853658537,0.8790243902439024,0.8795121951219512,0.88,0.8804878048780488,0.8809756097560976,0.8814634146341463,0.8819512195121951,0.8824390243902439,0.8829268292682927,0.8834146341463415,0.8839024390243903,0.884390243902439,0.8848780487804878,0.8853658536585366,0.8858536585365854,0.8863414634146342,0.8868292682926829,0.8873170731707317,0.8878048780487805,0.8882926829268293,0.8887804878048781,0.8892682926829268,0.8897560975609756,0.8902439024390244,0.8907317073170732,0.891219512195122,0.8917073170731707,0.8921951219512195,0.8926829268292683,0.8931707317073171,0.8936585365853659,0.8941463414634147,0.8946341463414634,0.8951219512195122,0.895609756097561,0.8960975609756098,0.8965853658536586,0.8970731707317073,0.8975609756097561,0.8980487804878049,0.8985365853658537,0.8990243902439025,0.8995121951219512,0.9,0.9004878048780488,0.9009756097560976,0.9014634146341464,0.9019512195121951,0.9024390243902439,0.9029268292682927,0.9034146341463415,0.9039024390243903,0.904390243902439,0.9048780487804878,0.9053658536585366,0.9058536585365854,0.9063414634146342,0.906829268292683,0.9073170731707317,0.9078048780487805,0.9082926829268293,0.9087804878048781,0.9092682926829269,0.9097560975609756,0.9102439024390244,0.9107317073170732,0.911219512195122,0.9117073170731708,0.9121951219512195,0.9126829268292683,0.9131707317073171,0.9136585365853659,0.9141463414634147,0.9146341463414634,0.9151219512195122,0.915609756097561,0.9160975609756098,0.9165853658536586,0.9170731707317074,0.9175609756097561,0.9180487804878049,0.9185365853658537,0.9190243902439025,0.9195121951219513,0.92,0.9204878048780488,0.9209756097560976,0.9214634146341464,0.9219512195121952,0.922439024390244,0.9229268292682927,0.9234146341463415,0.9239024390243903,0.9243902439024391,0.9248780487804878,0.9253658536585366,0.9258536585365854,0.9263414634146342,0.926829268292683,0.9273170731707318,0.9278048780487805,0.9282926829268293,0.9287804878048781,0.9292682926829269,0.9297560975609757,0.9302439024390244,0.9307317073170732,0.931219512195122,0.9317073170731708,0.9321951219512196,0.9326829268292683,0.9331707317073171,0.9336585365853659,0.9341463414634147,0.9346341463414635,0.9351219512195122,0.935609756097561,0.9360975609756098,0.9365853658536585,0.9370731707317073,0.937560975609756,0.9380487804878048,0.9385365853658536,0.9390243902439024,0.9395121951219512,0.94,0.9404878048780487,0.9409756097560975,0.9414634146341463,0.9419512195121951,0.9424390243902439,0.9429268292682926,0.9434146341463414,0.9439024390243902,0.944390243902439,0.9448780487804878,0.9453658536585365,0.9458536585365853,0.9463414634146341,0.9468292682926829,0.9473170731707317,0.9478048780487804,0.9482926829268292,0.948780487804878,0.9492682926829268,0.9497560975609756,0.9502439024390243,0.9507317073170731,0.9512195121951219,0.9517073170731707,0.9521951219512195,0.9526829268292683,0.953170731707317,0.9536585365853658,0.9541463414634146,0.9546341463414634,0.9551219512195122,0.9556097560975609,0.9560975609756097,0.9565853658536585,0.9570731707317073,0.9575609756097561,0.9580487804878048,0.9585365853658536,0.9590243902439024,0.9595121951219512,0.96,0.9604878048780487,0.9609756097560975,0.9614634146341463,0.9619512195121951,0.9624390243902439,0.9629268292682926,0.9634146341463414,0.9639024390243902,0.964390243902439,0.9648780487804878,0.9653658536585366,0.9658536585365853,0.9663414634146341,0.9668292682926829,0.9673170731707317,0.9678048780487805,0.9682926829268292,0.968780487804878,0.9692682926829268,0.9697560975609756,0.9702439024390244,0.9707317073170731,0.9712195121951219,0.9717073170731707,0.9721951219512195,0.9726829268292683,0.973170731707317,0.9736585365853658,0.9741463414634146,0.9746341463414634,0.9751219512195122,0.975609756097561,0.9760975609756097,0.9765853658536585,0.9770731707317073,0.9775609756097561,0.9780487804878049,0.9785365853658536,0.9790243902439024,0.9795121951219512,0.98,0.9804878048780488,0.9809756097560975,0.9814634146341463,0.9819512195121951,0.9824390243902439,0.9829268292682927,0.9834146341463414,0.9839024390243902,0.984390243902439,0.9848780487804878,0.9853658536585366,0.9858536585365854,0.9863414634146341,0.9868292682926829,0.9873170731707317,0.9878048780487805,0.9882926829268293,0.988780487804878,0.9892682926829268,0.9897560975609756,0.9902439024390244,0.9907317073170732,0.9912195121951219,0.9917073170731707,0.9921951219512195,0.9926829268292683,0.9931707317073171,0.9936585365853658,0.9941463414634146,0.9946341463414634,0.9951219512195122,0.995609756097561,0.9960975609756098,0.9965853658536585,0.9970731707317073,0.9975609756097561,0.9980487804878049,0.9985365853658537,0.9990243902439024],\"y\":{\"__ndarray__\":\"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\",\"dtype\":\"float64\",\"shape\":[2048]}},\"selected\":{\"id\":\"1070\",\"type\":\"Selection\"},\"selection_policy\":{\"id\":\"1071\",\"type\":\"UnionRenderers\"}},\"id\":\"1048\",\"type\":\"ColumnDataSource\"}],\"root_ids\":[\"1001\"]},\"title\":\"Bokeh Application\",\"version\":\"1.2.0\"}};\n",
       "  var render_items = [{\"docid\":\"9b7f6b97-c47f-4504-b7d4-044f8ab35075\",\"roots\":{\"1001\":\"7521410e-d4e6-404a-8b39-3fb42e7b36d4\"}}];\n",
       "  root.Bokeh.embed.embed_items_notebook(docs_json, render_items);\n",
       "\n",
       "  }\n",
       "  if (root.Bokeh !== undefined) {\n",
       "    embed_document(root);\n",
       "  } else {\n",
       "    var attempts = 0;\n",
       "    var timer = setInterval(function(root) {\n",
       "      if (root.Bokeh !== undefined) {\n",
       "        embed_document(root);\n",
       "        clearInterval(timer);\n",
       "      }\n",
       "      attempts++;\n",
       "      if (attempts > 100) {\n",
       "        console.log(\"Bokeh: ERROR: Unable to run BokehJS code because BokehJS library is missing\");\n",
       "        clearInterval(timer);\n",
       "      }\n",
       "    }, 10, root)\n",
       "  }\n",
       "})(window);"
      ],
      "application/vnd.bokehjs_exec.v0+json": ""
     },
     "metadata": {
      "application/vnd.bokehjs_exec.v0+json": {
       "id": "1001"
      }
     },
     "output_type": "display_data"
    }
   ],
   "source": [
    "def fu(x):# solution théorique\n",
    "    return x*(1 - x**4)/20\n",
    "\n",
    "u_th = [fu(xi) for xi in x]\n",
    "\n",
    "\n",
    "fig = figure(title=\"Superposition de la solution théorique et numérique :\", width=500, height=350)\n",
    "fig.line(x, u_th, color=\"blue\", line_width=2, legend=\"Solution théorique\", line_dash= [5,10])\n",
    "fig.line(x, u,  color=\"red\", legend=\"Solution numérique\")\n",
    "show(fig)"
   ]
  },
  {
   "cell_type": "markdown",
   "metadata": {},
   "source": [
    "### Matrice tridiagonale\n",
    "\n",
    "**Implémenter l'algorithme de décomposition LU basé sur un stockage tridiagonal de la matrice, c'est-à-dire qu'on ne stocke que les composantes non-triviales des matrice $A$, $L$ et $U$. On écrira pour cela :**\n",
    "\n",
    "\\begin{gather}\n",
    "      \\tilde{A} = \\left( \\begin{array}{c|c|c|c} 0 & b_{1} & \\dots & b_{N-1}\\\\ \\hline  a_{1} & a_{2} & \\dots & a_{N} \\\\ \\hline c_{2} & c_{3} & \\dots  & 0 \\end{array} \\right) = \\left( \\begin{array}{l} b \\\\ a \\\\ c \\end{array}\\right) \\in \\mathbb{R}^{3,N}, \\nonumber \\\\\n",
    "      \\tilde{L} = \\left( \\gamma_{2}, \\gamma_{3}, \\dots, \\gamma_{N}, 0 \\right) \\in\\mathbb{R}^{1,N}, \\qquad\n",
    "      \\tilde{U} = \\left( \\begin{array}{c|c|c|c|c} 0 & \\beta_2 & \\beta_3 & \\dots & \\beta_N \\\\ \\hline \\alpha_{1} & \\alpha_{2} & \\alpha_{3} & \\dots & \\alpha_{N} \\end{array} \\right) \\in\\mathbb{R}^{2,N}.\n",
    "      %\\tilde{A} = \\left( \\begin{array}{c|c|c} 0 & A_{1,1} & A_{1,2} \\\\ A_{2,1} & A_{2,2} & A_{2,3} \\\\ \\vdots & \\vdots & \\vdots \\\\  A_{N,N-1} & A_{N,N} & 0 \\end{array} \\right) \\in \\mathbb{R}^{3,N}, \\nonumber \\\\\n",
    "      %\\tilde{L} = \\left( \\begin{array}{c} 0 \\\\ L_{2,1} \\\\ L_{3,2} \\\\ \\vdots \\\\ L_{N,N-1}\\end{array}\\right) \\in\\mathbb{R}^{N,1}, \\qquad\n",
    "      %\\tilde{U} = \\left( \\begin{array}{c|c} U_{1,1} & U_{1,2} \\\\ \\vdots & \\vdots \\\\ U_{N-1,N-1} & U_{N-1,N} \\\\ U_{N,N} & 0\\end{array} \\right) \\in\\mathbb{R}^{N,2}.\n",
    "        %= (0, \\ A_{1,1},\\ A_{1,2}), \\quad \\tilde{A}_{1,i} = (A_{i,i-1}, \\ A_{i,i}, \\ A_{i,i+1}), \\quad \\tilde{A}_{N,:} = (A_{N,N-1},\\ A_{N,N}, \\ 0).\n",
    "\\end{gather}"
   ]
  },
  {
   "cell_type": "code",
   "execution_count": 10,
   "metadata": {},
   "outputs": [],
   "source": [
    "def LU_modif(A):# N'accepte que des matrices tridiagonales carrées de type n*n où n>=3\n",
    "    \n",
    "    n, m = len(A),len(A[0])    \n",
    "\n",
    "    if(n<=2):\n",
    "        raise Exception(\"La matrice n'est pas bonne ! \", A)\n",
    "    if(n!=m):\n",
    "        raise Exception(\"La matrice n'est pas carré !\", A)\n",
    "    \n",
    "    a, c, b = np.diag(A, 0), np.diag(A, -1), np.diag(A, 1)\n",
    "    A_th = np.diag(a,0) + np.diag(c,-1) + np.diag(b,1) # Construction de ce que devrait être une matrice tridiag\n",
    "    \n",
    "    if(np.allclose(A - A_th, np.zeros((n,))) != True):\n",
    "        raise Exception(\"La matrice n'est pas tridiag !\", A)\n",
    "    \n",
    "    Beta = [bi for bi in b] # Beta_i = b_i\n",
    "    Alpha = [a[0]]\n",
    "    Gamma = []\n",
    "    \n",
    "    for i in range(0,n-1):\n",
    "        Gamma += [c[i]/Alpha[i]]\n",
    "        Alpha += [a[i+1] - Gamma[i]*Beta[i]] \n",
    "    Gamma += [0]\n",
    "    L = np.array(Gamma)\n",
    "    Beta = [0] + Beta\n",
    "    U = np.array([Beta, Alpha])\n",
    "    \n",
    "    c = np.array(0) + c\n",
    "    A_tilde = np.array([np.array(Beta), a, c])\n",
    "    \n",
    "    return A_tilde, L, U\n",
    "    \n",
    "    "
   ]
  },
  {
   "cell_type": "markdown",
   "metadata": {},
   "source": [
    "**Tester votre algorithme sur la matrice :**\n",
    "\n",
    "\\begin{equation} \n",
    "A = \\left(\\begin{array}{ccc} 2 & 1 & 0 \\\\ -1 & 3 & 1 \\\\ 0 & 1 & 4 \\end{array}\\right).\n",
    "\\end{equation}"
   ]
  },
  {
   "cell_type": "code",
   "execution_count": 79,
   "metadata": {},
   "outputs": [
    {
     "data": {
      "text/latex": [
       "$\\displaystyle \\tilde A = [array([0, 1, 1]) array([2, 3, 4]) array([-1,  1])] $"
      ],
      "text/plain": [
       "<IPython.core.display.Math object>"
      ]
     },
     "metadata": {},
     "output_type": "display_data"
    },
    {
     "data": {
      "text/latex": [
       "$\\displaystyle \\tilde L = [-0.5         0.28571429  0.        ]$"
      ],
      "text/plain": [
       "<IPython.core.display.Math object>"
      ]
     },
     "metadata": {},
     "output_type": "display_data"
    },
    {
     "data": {
      "text/latex": [
       "$\\displaystyle \\tilde U = [[0.         1.         1.        ]\n",
       " [2.         3.5        3.71428571]]$"
      ],
      "text/plain": [
       "<IPython.core.display.Math object>"
      ]
     },
     "metadata": {},
     "output_type": "display_data"
    },
    {
     "name": "stdout",
     "output_type": "stream",
     "text": [
      "Reconstitution de A ave LU : \n",
      " [[ 2.  1.  0.]\n",
      " [-1.  3.  1.]\n",
      " [ 0.  1.  4.]]\n"
     ]
    }
   ],
   "source": [
    "A = np.array([[2, 1, 0], [-1, 3, 1], [0, 1, 4]])\n",
    "\n",
    "try:\n",
    "    A_tilde, L, U = LU_modif(A)\n",
    "except AssertionError as error :\n",
    "    print(error)\n",
    "\n",
    "display(Math(r\"\\tilde A = {0} \".format( A_tilde)))\n",
    "display(Math(r\"\\tilde L = {0}\".format(L)))\n",
    "display(Math(r\"\\tilde U = {0}\".format(U)))\n",
    "\n",
    "#P_t, L_t, U_t = lu(A)\n",
    "#print(L_t, \"\\n\", U_t)\n",
    "L_rec = np.diag(L[:-1], -1) +np.eye(3,3)\n",
    "U_rec = np.diag(U[0][1:],1) + np.diag(U[1],0) \n",
    "print(\"Reconstitution de A ave LU : \\n\",L_rec @ U_rec)#Modèle de stockage est bon!\n",
    "\n",
    "##Je test le modele de test que j'ai conçu pour reconnaître les matrices tridiag\n",
    "#print(np.diag(A, 0), np.diag(A, -1), np.diag(A, 1))\n",
    "#A_th = np.diag(np.diag(A,0),0) + np.diag(np.diag(A,-1),-1) + np.diag(np.diag(A,1),1)\n",
    "#print(A_th)\n",
    "#print(np.allclose(A - A_th, np.zeros((3,))))\n"
   ]
  },
  {
   "cell_type": "markdown",
   "metadata": {},
   "source": [
    "**Adapter et implémenter les algorithmes de remontée et de descente adaptés aux matrices triangulaires stockées sous forme tridiagonale. Tester votre algorithme pour la résolution de $A u = -f$ avec la matrice $A$ de question précedente et $f = (1,\\ 1,\\ 1)^T$, en utilisant la décomposition $LU$ de $A$ obtenue à la question précédente.**"
   ]
  },
  {
   "cell_type": "code",
   "execution_count": 80,
   "metadata": {},
   "outputs": [
    {
     "name": "stdout",
     "output_type": "stream",
     "text": [
      "Test pour but de savoir si u est bien solution du système, valeur du test : \n",
      "\n",
      "\t\t\t\t\t True\n"
     ]
    }
   ],
   "source": [
    "f =[-1, -1, -1]\n",
    "\n",
    "\n",
    "def Solve_modif(L,U,f):\n",
    "    ##On résoud d'abord LY = f\n",
    "    N = len(L)\n",
    "    Y = [0 for i in range (0,N)]\n",
    "    Y[0]= f[0]\n",
    "    for i in range (1,N):\n",
    "        Y[i] = f[i] - L[i-1]*Y[i-1]\n",
    "        \n",
    "    ## Puis on résoud UX = Y, c'est une remonté de bas en haut, contrairement à Y\n",
    "    X = [0 for i in range (0,N)]\n",
    "    X[-1]= Y[-1]/U[1][-1] # X_n = f_n/alpha_n\n",
    "    for i in range (1,N):\n",
    "        X[-i-1] = (Y[-i-1] - U[0][-i]*X[-i])/ U[1][-i-1]    \n",
    "    return X\n",
    "\n",
    "A = np.array([[2, 1, 0], [-1, 3, 1], [0, 1, 4]])\n",
    "\n",
    "t1 = time.time()\n",
    "try:\n",
    "    A_tilde, L, U = LU_modif(A)\n",
    "except AssertionError as error :\n",
    "    print(error)\n",
    "    \n",
    "X = np.array(Solve_modif(L, U, f))\n",
    "\n",
    "t_resol_tridiag = t1 - time.time()\n",
    "\n",
    "print(\"Test pour but de savoir si u est bien solution du système, valeur du test : \\n\\n\\t\\t\\t\\t\\t\",\n",
    "      np.allclose(A @ X - f, np.zeros((3,))))"
   ]
  },
  {
   "cell_type": "markdown",
   "metadata": {},
   "source": [
    "**Résoudre le système $Au = -f$ avec la matrice $A$ issue de la discrétisation de l'opérateur $-\\Delta$ . Comparer la précision des résultats et les temps d'execution (en utilisant *time.time*) avec ceux obtenus avec la matrice pleine. Commenter les avantages et inconvénients de ce stockage.**"
   ]
  },
  {
   "cell_type": "code",
   "execution_count": 82,
   "metadata": {},
   "outputs": [
    {
     "name": "stdout",
     "output_type": "stream",
     "text": [
      "Temps de résolution pour une matrice pleine 1D :  0.0029916763305664062\n",
      "\n",
      "Temps de résolution pour le stockage en matrice tridiag :  0.0\n"
     ]
    }
   ],
   "source": [
    "print(\"Temps de résolution pour une matrice pleine 1D : \", t_resol_pleine)\n",
    "print(\"\\nTemps de résolution pour le stockage en matrice tridiag : \", t_resol_tridiag)"
   ]
  },
  {
   "cell_type": "markdown",
   "metadata": {},
   "source": [
    "##### Remarques :\n",
    "<ol>\n",
    "<li>Les calculs de la méthode tridiag sont plus rapides mais la précision est la même.</li>\n",
    "<li>Stockage inutile pour des petites matrices. On optimise grandement le stockage en mémoire en utilisant le stockage tridiagonale pour des matrices de grande taille et tridiagonale.</li>\n",
    "<li>Un désavantage serait de recoder la résolution de système...</li>\n",
    "</ol>"
   ]
  },
  {
   "cell_type": "markdown",
   "metadata": {},
   "source": [
    "## Cas 2D\n",
    "\n",
    "On considère maintenant une matrice bande, *i.e.* dont les coefficients satisfont si $|i-j| < K$ alors$A_{i,j} = 0,$ où $K>0$ est appelée la largeur de bande.\n",
    "\n",
    "  On utilisera pour les applications numériques la matrice $A$ définie par :\n",
    "  \n",
    "\\begin{align}\n",
    "    A &= \\left( \\begin{array}{c|c|c|c}\n",
    "      D    & I/h^2    &\\dots   & 0 \\\\ \\hline\n",
    "      I/h^2    & D    & \\ddots& \\vdots  \\\\ \\hline\n",
    "      \\vdots   & \\ddots &\\ddots  &I/h^2\\\\ \\hline\n",
    "      0      & \\dots  &   I/h^2  & D\n",
    "    \\end{array}\\right), \\quad %\\in\\mathbb{R}^{N^2\\times N^2}, \\\n",
    "    D = \\left( \\begin{array}{cccc}\n",
    "      -4/h^2    & 1/h^2    & \\dots   & 0 \\\\\n",
    "      1/h^2    & -4/h^2    & \\ddots& \\vdots  \\\\\n",
    "      0      & \\ddots & \\ddots  &1/h^2\\\\\n",
    "      0      & \\dots  &  1/h^2  & -4/h^2\n",
    "    \\end{array}\\right) \\in\\mathbb{R}^{N\\times N},\n",
    "    \\label{Lapl_2D}\n",
    "\\end{align}\n",
    "\n",
    "où $I$ est la matrice identité de taille $N=64$ et $h = \\frac{1}{N+2}$. Cette matrice correspond à une discrétisation de l'opérateur $-\\Delta$ en 2D."
   ]
  },
  {
   "cell_type": "markdown",
   "metadata": {},
   "source": [
    "### Matrices pleines"
   ]
  },
  {
   "cell_type": "markdown",
   "metadata": {},
   "source": [
    "**Je suis la covention 2^10 bits = 1 Kilo Bites = 1Kb**.\n",
    "\n",
    "***\n",
    "##### Commentaires :\n",
    "\n",
    "<ol>\n",
    "<li>Le temps d'éxécution est assez long, 1.8 s en moyennee.</li>\n",
    "<li>La matrice A est de taille $N^2 \\times N^2$ avec N = 64 = $2^6$, soit $2^{24}$ flotants stockés dans la matrice A. Or les flottants sont codés sur 64 bits par défaut $\\Rightarrow$ la matrice prend en mémoire RAM $2^{30} bits$, soit <b>1 Gb.</b> </li>\n",
    "<li>La matrice est <b>très creuse</b>, c'est pour cela que nous envisageons dans les prochaines questions de réduire le nombre de zéros que nous enregistrons. Il y a $5N^2 -4N$ valeurs non nul (les 5 diagonales) sur $N^4$ valeurs stockées.</li>\n",
    "</ol>\n"
   ]
  },
  {
   "cell_type": "code",
   "execution_count": 13,
   "metadata": {},
   "outputs": [
    {
     "name": "stdout",
     "output_type": "stream",
     "text": [
      "On trouve la solution en 1.6364178657531738 s\n",
      "\n",
      "[3.18511192e-05 6.38265061e-05 9.60499897e-05 ... 1.63901243e-03\n",
      " 1.25201956e-03 7.34946405e-04]\n"
     ]
    }
   ],
   "source": [
    "N = 64 \n",
    "h = 1/(N+2)\n",
    "\n",
    "t1 = time.time()\n",
    "\n",
    "I = np.eye(N)/(h**2)\n",
    "\n",
    "d1 = [1/(h**2) for i in range (0,N-1)]\n",
    "d  = [-4/(h**2) for i in range (0,N)]\n",
    "D = np.diag(d,0) + np.diag(d1,-1) + np.diag(d1,1)\n",
    "\n",
    "\n",
    "##Construction de A manuellement:\n",
    "A = np.zeros((N**2,N**2))\n",
    "\n",
    "for i in range(0, N**2):\n",
    "    for j in range((i//N-1)*N,(i//N+2)*N):\n",
    "        if(j<0):\n",
    "            a=0\n",
    "        elif(j>=N**2):\n",
    "            break\n",
    "            \n",
    "        elif((i//N-1)*N <= j < i//N*N):\n",
    "            A[i][j] = I[i%N][j%N]\n",
    "        \n",
    "        elif(i//N*N <= j < (i//N+1)*N):\n",
    "            A[i][j] = D[i%N][j%N]\n",
    "            \n",
    "        elif((i//N+1)*N <= j < (i//N+2)*N):\n",
    "            A[i][j] = I[i%N][j%N]\n",
    "\n",
    "\n",
    "x = [i*h for i in range(1,N+1)]\n",
    "y = [i*h for i in range(1,N+1)]\n",
    "fi = [-(x[i]**3 + y[i]**3) for i in range (0, N) ]\n",
    "\n",
    "f = []\n",
    "for i in range (0,N):\n",
    "    f += fi\n",
    "\n",
    "    \n",
    "u = solve(A,f)\n",
    "\n",
    "t2 = time.time()\n",
    "f = np.array(f)\n",
    "\n",
    "print(\"On trouve la solution en {} s\\n\".format(t2-t1))\n",
    "print(u)\n",
    "## La matrice stock"
   ]
  },
  {
   "cell_type": "markdown",
   "metadata": {},
   "source": [
    "### Matrices bandes"
   ]
  },
  {
   "cell_type": "markdown",
   "metadata": {},
   "source": [
    "On stocke désormais la matrice sous forme bande, c'est-à-dire qu'on écrit :\n",
    "\n",
    "\\begin{align*}\n",
    "      \\tilde{A} = \\left(\n",
    "      \\begin{array}{c|c|c|c|c|c}\n",
    "        0             & \\dots & 0        & A_{1,K+1} & \\dots   & A_{N-K,N}\\\\\n",
    "        \\hline \\vdots &       &  & A_{2,K+1} &\\dots   & A_{N-K+1,N}\\\\\n",
    "        \\hline 0      & A_{1,2} &          &          &         & \\vdots    \\\\\n",
    "        \\hline A_{1,1} & A_{2,2} & \\dots  & \\dots     & \\dots   & A_{N,N} \\\\\n",
    "        \\hline A_{2,1} & A_{3,2} & \\dots   & \\dots    & A_{N,N-1} & 0 \\\\\n",
    "        \\hline \\vdots &        &         &          &         & \\vdots \\\\\n",
    "        \\hline A_{K+1,1} & \\dots & A_{N,N-K} & 0       & \\dots   &  0\n",
    "      \\end{array} \\right) \\in \\mathbb{R}^{2K+1,N^2}.\n",
    "\\end{align*}"
   ]
  },
  {
   "cell_type": "markdown",
   "metadata": {},
   "source": [
    "##### Commentaires :\n",
    "\n",
    "<ol>\n",
    "<li>On remarque que K = N parce que la dernière diagonale non nulle est la N$^{ème}$.</li>\n",
    "<li>Le temps d'éxécution est beaucoup moin long, 0.02 s en moyennee comparer à 1.8 s.</li>\n",
    "<li>La matrice $\\tilde A$ est de taille $(2N+1) \\times N^2$ avec N = 64 = $2^6$, soit $2^{19} + 2^{12}$ flotants stockés dans la matrice A. Or les flottants sont codés sur 64 bits par défaut $\\Rightarrow$ la matrice prend en mémoire RAM $2^{25} + 2^{18} bits$, soit <b>32.25 Mb</b>. </li>\n",
    "<li>La matrice reste <b>creuse</b>. Il y a cette fois-ci $5N^2 -4N$ valeurs non nulles (les 5 diagonales) sur $2N^3 + N^2$ valeurs stockées. Moin qu'avant certes, mais on peut mieux faire.</li>\n",
    "</ol>\n"
   ]
  },
  {
   "cell_type": "code",
   "execution_count": 46,
   "metadata": {},
   "outputs": [
    {
     "name": "stdout",
     "output_type": "stream",
     "text": [
      "On trouve la solution en 0.018950223922729492 s\n",
      "\n",
      "[3.18511192e-05 6.38265061e-05 9.60499897e-05 ... 1.63901243e-03\n",
      " 1.25201956e-03 7.34946405e-04]\n"
     ]
    }
   ],
   "source": [
    "def A_banded(A, N, h):\n",
    "    #Une erreur dans la donnée, A tilde est dans M2k+1,n^2(R), sinon la sol n'est pas de la bonne dimension\n",
    "    A_tilde = np.zeros((2*N+1,N**2)) \n",
    "    \n",
    "    \n",
    "    \n",
    "    # la bande est de largeur N\n",
    "    c = 0\n",
    "    ## On définit la Nième et -Nieme diagonale\n",
    "    d = [1/(h**2) for i in range (0,N**2 - N)]\n",
    "    \n",
    "    A_tilde[0][N:] = d\n",
    "    A_tilde[2*N][:(N**2-N)] = d\n",
    "    \n",
    "    ## La diagonale de la matrice\n",
    "    \n",
    "    d = [-4/(h**2) for i in range (0,N**2)]\n",
    "    A_tilde[N] = d[:(N**2)]\n",
    "    \n",
    "    ## On s'attaque aux diagonales -1 et 1\n",
    "    \n",
    "    d = [1/(h**2)*(0 if i%N==(N-1) else 1) for i in range (0,N**2)]\n",
    "\n",
    "    A_tilde[N-1][1:] = d[:(N**2 - 1)]\n",
    "        \n",
    "    A_tilde[N+1][:(N**2-1)] = d[:(N**2 - 1)]\n",
    "    \n",
    "    return A_tilde\n",
    "\n",
    "t1 = time.time()\n",
    "A_tilde = A_banded(A, N, h)\n",
    "u_banded = solve_banded((N,N), A_tilde, f)\n",
    "t2 = time.time()\n",
    "\n",
    "print(\"On trouve la solution en {} s\\n\".format(t2-t1))\n",
    "print(u_banded)"
   ]
  },
  {
   "cell_type": "markdown",
   "metadata": {},
   "source": [
    "### Matrices creuses CSR"
   ]
  },
  {
   "cell_type": "markdown",
   "metadata": {},
   "source": [
    "**Bonus. Construire la matrice $A$ de la discrétisation de l'opérateur $-\\Delta$ en format CSR (utiliser scipy.sparse.csr matrix) avec Scipy (https://docs.scipy.org/doc/scipy/reference/generated/scipy.sparse.csr_matrix.html).**"
   ]
  },
  {
   "cell_type": "code",
   "execution_count": 64,
   "metadata": {},
   "outputs": [
    {
     "name": "stdout",
     "output_type": "stream",
     "text": [
      "Nombre de valeurs non nuls est :  20224\n"
     ]
    },
    {
     "data": {
      "text/latex": [
       "\n",
       "Il est bien égale à $5N^2-4N$ =       20224"
      ],
      "text/plain": [
       "<IPython.core.display.Latex object>"
      ]
     },
     "metadata": {},
     "output_type": "display_data"
    }
   ],
   "source": [
    "t1 = time.time()\n",
    "A_csr = csr_matrix(A)\n",
    "u_csr = splu(A).solve(f)\n",
    "t2 = time.time()\n",
    "\n",
    "t= t2-t1\n",
    "\n",
    "#print(A_csr, \"\\n\")\n",
    "## Elle stock les indices i et j des valeurs non nuls de A ainsi que la valeur associé.\n",
    "\n",
    "print(\"Nombre de valeurs non nuls est : \", np.count_nonzero(A))\n",
    "\n",
    "Str = \"   {}\".format(5*N**2-4*N)\n",
    "\n",
    "display(Latex(\"\\nIl est bien égale à $5N^2-4N$ =    \"+ Str))"
   ]
  },
  {
   "cell_type": "markdown",
   "metadata": {},
   "source": [
    "##### Commentaires :\n",
    "\n",
    "<ol>\n",
    "<li>Le temps d'éxécution est un peu plus long que celui des matrices bandes, 0.19 s en moyennee comparer à 0.02 s.</li>\n",
    "<li>Ceci dit, la matrice CSR de A est de taille $3 \\times (5N^2 -4N)$ soit 60672 flotants stockés dans la matrice CSR de A $\\Rightarrow$ la matrice prend en mémoire RAM <br>3 883 008 $bits$, soit <b>3.7 Mb</b>. </li>\n",
    "<li>La matrice reste <b>creuse</b>. Il y a cette fois-ci 3 fois plus de valeurs stockées que de valeurs non nulles. </li>\n",
    "<li>Le stockage est donc de l'ordre de $N^2\\times  2^6$, une amélioration conséquente % aux matrices bandes. Ce qui pourrait défois justifié l'utilisation de la matrice CSR lorsqu'on est réstraint en mémoire et le temps de calcul n'est pas une contrainte.</li>\n",
    "<li>Malgré avoir éliminer les 0, il reste beaucoup de redondance dans la matrice, finalement il n'y a que 3 valeurs différentes. On pourrait modifier le stockage CSR, en stockant seulement les 3 différentes valeurs et leurs emplacements respectifs. On peut aussi imaginer une manière de stocker les redondances dans le même esprit d'algorithme de ZIP. On fera plus de calcul, mais on utilisera beaucoup moin de mémoire!</li>    \n",
    "</ol>\n"
   ]
  },
  {
   "cell_type": "code",
   "execution_count": 47,
   "metadata": {},
   "outputs": [
    {
     "name": "stdout",
     "output_type": "stream",
     "text": [
      "On trouve la solution en 0.19211649894714355 s\n",
      "\n",
      "[3.18511192e-05 6.38265061e-05 9.60499897e-05 ... 1.63901243e-03\n",
      " 1.25201956e-03 7.34946405e-04]\n"
     ]
    }
   ],
   "source": [
    "u_csr = splu(A).solve(f)\n",
    "\n",
    "print(\"On trouve la solution en {} s\\n\".format(t))\n",
    "\n",
    "print(u_csr)"
   ]
  }
 ],
 "metadata": {
  "@webio": {
   "lastCommId": null,
   "lastKernelId": null
  },
  "kernelspec": {
   "display_name": "Python 3",
   "language": "python",
   "name": "python3"
  },
  "language_info": {
   "codemirror_mode": {
    "name": "ipython",
    "version": 3
   },
   "file_extension": ".py",
   "mimetype": "text/x-python",
   "name": "python",
   "nbconvert_exporter": "python",
   "pygments_lexer": "ipython3",
   "version": "3.7.3"
  },
  "latex_envs": {
   "LaTeX_envs_menu_present": true,
   "autoclose": false,
   "autocomplete": true,
   "bibliofile": "biblio.bib",
   "cite_by": "apalike",
   "current_citInitial": 1,
   "eqLabelWithNumbers": true,
   "eqNumInitial": 1,
   "hotkeys": {
    "equation": "Ctrl-E",
    "itemize": "Ctrl-I"
   },
   "labels_anchors": false,
   "latex_user_defs": false,
   "report_style_numbering": false,
   "user_envs_cfg": false
  }
 },
 "nbformat": 4,
 "nbformat_minor": 2
}
