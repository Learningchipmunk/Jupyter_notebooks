{
 "cells": [
  {
   "cell_type": "markdown",
   "metadata": {},
   "source": [
    "<div style=\"text-align: center; font-weight: bold; font-size: 300%\">Solution au Problème Posé</div>                                                        <br />      \n",
    "<div style=\"text-align: center; font-size: 150%\">octobre 2019</div><br />  \n",
    "<div style=\"text-align: center; font-size: 120%\">Jean-Charles Layoun</div>\n"
   ]
  },
  {
   "cell_type": "code",
   "execution_count": 1,
   "metadata": {},
   "outputs": [],
   "source": [
    "import numpy.random as npr\n",
    "from matplotlib import pyplot as plt"
   ]
  },
  {
   "cell_type": "markdown",
   "metadata": {},
   "source": [
    "# Énoncé :\n",
    "\n",
    "<i>À chaque instant \"k\", je ne peux garder en mémoire que l'un des k premiers messages passés. À l'instant N on arrête le processus et en mémoire doit se trouver l'un des N message, chaque message ayant la même probabilité d'être présent. </i>\n",
    "\n",
    "***"
   ]
  },
  {
   "cell_type": "markdown",
   "metadata": {},
   "source": [
    "# Proposition de résolution :\n",
    "\n",
    "<br>\n",
    "Soit $n\\in \\mathbb{N}^*$ et $i \\in [\\![1,n ]\\!]$, on définit $S_{i}^{n}$ comme étant l'évènement le $i^{ème}$ message est stocké après avoir reçu $n$ messages. <br><br>\n",
    "<b>Notre objectif </b> est donc d'avoir $\\forall i \\in [\\![1,n ]\\!]/\\mathbb{P}(S_{i}^{n}) = \\cfrac{1}{n}$, et pour cela on va prendre $\\mathbb{P}(S_{n}^{n} / S_{i}^{n-1}) = \\cfrac{1}{n}.$ <br><br>\n",
    "\n",
    "Montrons par récurrence que $P_n $ : {les $S_{i}^{n}$ sont équiprobables avec $\\forall (k,i) \\in [\\![2,n ]\\!]\\times[\\![1,k-1 ]\\!]; \\mathbb{P}(S_{k}^{k} / S_{i}^{k-1}) = \\cfrac{1}{k}$}, est vrai $\\forall n\\in \\mathbb{N}^* $ : <br>\n",
    "<ul>\n",
    "<li>$P_1 : $ est vrai car $\\mathbb{P}(S_{1}^{1}) = 1$.</li>\n",
    "<li>\n",
    "Supposons que $P_{n}$ est vrai et prenons $\\mathbb{P}(S_{n+1}^{n+1} / S_{i}^{n}) = \\cfrac{1}{n+1}$ :<br>    \n",
    "<ol>\n",
    "<li>$\\mathbb{P}(S_{n+1}^{n+1}) = \\sum_{i=1}^{n} \\mathbb{P}(S_{n+1}^{n+1} \\cap S_{i}^{n}) = \\sum_{i=1}^{n} \\mathbb{P}(S_{n+1}^{n+1} / S_{i}^{n}) \\mathbb{P}(S_{i}^{n}) = \\sum_{i=1}^{n}\\cfrac{1}{n+1}\\times \\cfrac{1}{n} = \\cfrac{1}{n+1}$</li><br>\n",
    "<li>pour $i\\in [\\![1,n ]\\!]$ on a $\\mathbb{P}(S_{i}^{n+1}) = \\mathbb{P}(S_{i}^{n} \\cap \\bar S_{n+1}^{n+1}) = \\mathbb{P}(S_{i}^{n})\\times \\mathbb{P}( \\bar S_{n+1}^{n+1}) = \\cfrac{1}{n} \\times \\cfrac{n}{n+1} = \\cfrac{1}{n+1}$</li>\n",
    "</ol>\n",
    "</li>\n",
    "    <br>\n",
    "On obtient donc que les $S_{i}^{n+1}$ sont équiprobables, $P_{n} \\Rightarrow P_{n+1}.$\n",
    "</ul>\n",
    "\n",
    "\n",
    "$$CQFD$$\n",
    "\n",
    "***"
   ]
  },
  {
   "cell_type": "code",
   "execution_count": 2,
   "metadata": {},
   "outputs": [
    {
     "data": {
      "image/png": "[encoded data removed]",
      "text/plain": [
       "<Figure size 1152x360 with 2 Axes>"
      ]
     },
     "metadata": {
      "needs_background": "light"
     },
     "output_type": "display_data"
    }
   ],
   "source": [
    "def Sol_F(N):\n",
    "    Message = 1\n",
    "    for i in range (2,N+1):\n",
    "        if(npr.rand() < 1/i): Message = i \n",
    "    return Message\n",
    "\n",
    "# Nombres de messages reçu\n",
    "N = 50\n",
    "# Nombres de tirages\n",
    "n = 10000\n",
    "\n",
    "## Test d'uniformité\n",
    "def Test(N, n):\n",
    "    if(N<=0 or n<1):\n",
    "        print(\"No messages were received. Thus we return 0\")\n",
    "        return 0\n",
    "    \n",
    "    ## On répète n fois l'experience et on stock les résultats \n",
    "    l = []\n",
    "    for i in range (0, n):\n",
    "        l += [Sol_F(N)]\n",
    "    \n",
    "    \n",
    "    ## Représentation des n tirages par histogramme\n",
    "    fig, (ax1 , ax2) = plt.subplots(1, 2, figsize=(16, 5))\n",
    "\n",
    "\n",
    "    ## La moyenne d'occurence par message = freq * nombre de tirages = 1/N * n\n",
    "    ax1.hist(l, N*2, density=False, facecolor='g')\n",
    "    ax1.axhline(y = 1/N*n, color='r', linestyle='dashed', linewidth=2, label=f\"Moyenne des occurences\")\n",
    "    ax1.set_xlabel('Valeurs des derniers messages stockés')\n",
    "    ax1.set_ylabel('Occurences')\n",
    "    ax1.set_title(r'Répartition des messages non normalisés :')\n",
    "\n",
    "    ax2.hist(l, N, density=True, facecolor='g')\n",
    "    ax2.axhline(y = 1/N, color='r', linestyle='dashed', linewidth=2, label=f\"répartition uniforme de U(0,{N})\")\n",
    "    ax2.set_xlabel('Valeurs des derniers messages stockés')\n",
    "    ax2.set_ylabel('Occurences')\n",
    "    ax2.set_title(r'Répartition des messages normalisés :')\n",
    "\n",
    "    ax1.legend()\n",
    "    ax2.legend()\n",
    "    plt.show()\n",
    "\n",
    "\n",
    "Test(N,n)"
   ]
  }
 ],
 "metadata": {
  "kernelspec": {
   "display_name": "Python 3",
   "language": "python",
   "name": "python3"
  },
  "language_info": {
   "codemirror_mode": {
    "name": "ipython",
    "version": 3
   },
   "file_extension": ".py",
   "mimetype": "text/x-python",
   "name": "python",
   "nbconvert_exporter": "python",
   "pygments_lexer": "ipython3",
   "version": "3.7.3"
  }
 },
 "nbformat": 4,
 "nbformat_minor": 2
}
