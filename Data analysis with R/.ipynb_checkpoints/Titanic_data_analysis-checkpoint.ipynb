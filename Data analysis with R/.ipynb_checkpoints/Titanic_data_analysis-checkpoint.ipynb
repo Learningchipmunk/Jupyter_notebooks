{
 "cells": [
  {
   "cell_type": "markdown",
   "metadata": {},
   "source": [
    "<div style=\"text-align: center; font-weight: bold; font-size: 300%\">Analyse des données du Titanic</div>                                                        <br />      \n",
    "<div style=\"text-align: center; font-size: 150%\">octobre 2019</div><br />  \n",
    "<div style=\"text-align: center; font-size: 120%\">Jean-Charles Layoun</div>\n",
    "\n"
   ]
  },
  {
   "cell_type": "code",
   "execution_count": 1,
   "metadata": {},
   "outputs": [
    {
     "name": "stderr",
     "output_type": "stream",
     "text": [
      "Registered S3 method overwritten by 'rvest':\n",
      "  method            from\n",
      "  read_xml.response xml2\n",
      "-- Attaching packages --------------------------------------- tidyverse 1.2.1 --\n",
      "v ggplot2 3.2.1       v purrr   0.3.2  \n",
      "v tibble  2.1.1       v dplyr   0.8.0.1\n",
      "v tidyr   0.8.3       v stringr 1.4.0  \n",
      "v readr   1.3.1       v forcats 0.4.0  \n",
      "-- Conflicts ------------------------------------------ tidyverse_conflicts() --\n",
      "x tidyr::extract()   masks magrittr::extract()\n",
      "x dplyr::filter()    masks stats::filter()\n",
      "x dplyr::lag()       masks stats::lag()\n",
      "x purrr::set_names() masks magrittr::set_names()\n",
      "Loading required package: lattice\n",
      "Loading required package: survival\n",
      "Loading required package: Formula\n",
      "\n",
      "Attaching package: 'Hmisc'\n",
      "\n",
      "The following objects are masked from 'package:dplyr':\n",
      "\n",
      "    src, summarize\n",
      "\n",
      "The following objects are masked from 'package:base':\n",
      "\n",
      "    format.pval, units\n",
      "\n",
      "------------------------------------------------------------------------------\n",
      "You have loaded plyr after dplyr - this is likely to cause problems.\n",
      "If you need functions from both plyr and dplyr, please load plyr first, then dplyr:\n",
      "library(plyr); library(dplyr)\n",
      "------------------------------------------------------------------------------\n",
      "\n",
      "Attaching package: 'plyr'\n",
      "\n",
      "The following objects are masked from 'package:Hmisc':\n",
      "\n",
      "    is.discrete, summarize\n",
      "\n",
      "The following objects are masked from 'package:dplyr':\n",
      "\n",
      "    arrange, count, desc, failwith, id, mutate, rename, summarise,\n",
      "    summarize\n",
      "\n",
      "The following object is masked from 'package:purrr':\n",
      "\n",
      "    compact\n",
      "\n",
      "corrplot 0.84 loaded\n"
     ]
    }
   ],
   "source": [
    "library(magrittr)\n",
    "library(tidyverse)\n",
    "library(Hmisc)\n",
    "library(plyr)\n",
    "library(corrplot)"
   ]
  },
  {
   "cell_type": "markdown",
   "metadata": {},
   "source": [
    "\n",
    "<div style=\"text-align: left; font-weight: bold; font-size: 200%\">Objectifs :</div>                                                        <br />      \n",
    "\n",
    "<br>\n",
    "<font face=\"Tahoma\"><div style=\"text-align: justify; font-size: 105%\">L’une des catastrophes maritimes les plus célèbres s’est produite lors du voyage inaugural du paquebot Titanic, qui a heurté un iceberg dans l’Atlantique Nord et a coulé le 15 avril 1912. De nombreux articles, livres et films ont raconté l’histoire de ce désastre, mais une analyse statistique relativement simple raconte l’histoire d’une manière particulièrement évocatrice. Notre objectif est d'expliquer la survie des passagers grâce aux différentes données qu'on possède gâce au fichier titanic.csv. Aussi, on souhaite calculer la probabilité de survie d’un homme et d’une femme âgé de 22 ans sans famille et voyageant en 1ère classe .</div></font>\n",
    "\n",
    "***"
   ]
  },
  {
   "cell_type": "code",
   "execution_count": 2,
   "metadata": {},
   "outputs": [
    {
     "name": "stdout",
     "output_type": "stream",
     "text": [
      "L'âge moyen est égale à :"
     ]
    },
    {
     "data": {
      "text/html": [
       "29.6991176470588"
      ],
      "text/latex": [
       "29.6991176470588"
      ],
      "text/markdown": [
       "29.6991176470588"
      ],
      "text/plain": [
       "[1] 29.69912"
      ]
     },
     "metadata": {},
     "output_type": "display_data"
    }
   ],
   "source": [
    "titanic <- read.csv(\"titanic.csv\")\n",
    "# élimination des attributs non utilisé dans notre modèle\n",
    "titanic <- titanic %>% select(-PassengerId, -Ticket, -Cabin, -Embarked) \n",
    "# calcul de l'âge moyen\n",
    "average_missing <- mean(titanic$Age, na.rm=TRUE)\n",
    "cat(\"L'âge moyen est égale à :\")\n",
    "average_missing\n",
    "#titanic[5]\n"
   ]
  },
  {
   "cell_type": "code",
   "execution_count": 3,
   "metadata": {},
   "outputs": [],
   "source": [
    "# remplacement des âges manquants par l'âge moyen\n",
    "titanic$Age[is.na(titanic$Age)]<-average_missing\n",
    "# On peut s'assurer qu'il n'y a plus de valeurs NA en affichant le tableau : (il est mis en commentaire)\n",
    "#titanic$Age"
   ]
  },
  {
   "cell_type": "markdown",
   "metadata": {},
   "source": [
    "# Partie 1"
   ]
  },
  {
   "cell_type": "code",
   "execution_count": 4,
   "metadata": {},
   "outputs": [
    {
     "name": "stdout",
     "output_type": "stream",
     "text": [
      "Le nombre de survivants est égale à :"
     ]
    },
    {
     "data": {
      "text/html": [
       "342"
      ],
      "text/latex": [
       "342"
      ],
      "text/markdown": [
       "342"
      ],
      "text/plain": [
       "[1] 342"
      ]
     },
     "metadata": {},
     "output_type": "display_data"
    }
   ],
   "source": [
    "surv <- sum(titanic$Survived, na.rm = FALSE)\n",
    "cat(\"Le nombre de survivants est égale à :\")\n",
    "surv"
   ]
  },
  {
   "cell_type": "code",
   "execution_count": 5,
   "metadata": {},
   "outputs": [
    {
     "name": "stdout",
     "output_type": "stream",
     "text": [
      "Le nombre de morts est égale à : [1] 549\n"
     ]
    }
   ],
   "source": [
    "n <- length(titanic$Survived)\n",
    "dead <- n - surv\n",
    "\n",
    "# nombre de morts\n",
    "cat(\"Le nombre de morts est égale à : \")\n",
    "print(dead) "
   ]
  },
  {
   "cell_type": "code",
   "execution_count": 6,
   "metadata": {},
   "outputs": [
    {
     "name": "stdout",
     "output_type": "stream",
     "text": [
      "La proportion de morts est égale à : [1] 0.6161616\n"
     ]
    }
   ],
   "source": [
    "cat(\"La proportion de morts est égale à : \")\n",
    "print(dead/n) # proportion"
   ]
  },
  {
   "cell_type": "markdown",
   "metadata": {},
   "source": [
    "# Partie 2"
   ]
  },
  {
   "cell_type": "code",
   "execution_count": 7,
   "metadata": {},
   "outputs": [
    {
     "data": {
      "text/html": [
       "<table>\n",
       "<thead><tr><th scope=col>Sex</th><th scope=col>Survived</th><th scope=col>freq</th></tr></thead>\n",
       "<tbody>\n",
       "\t<tr><td>female</td><td>0     </td><td> 81   </td></tr>\n",
       "\t<tr><td>female</td><td>1     </td><td>233   </td></tr>\n",
       "\t<tr><td>male  </td><td>0     </td><td>468   </td></tr>\n",
       "\t<tr><td>male  </td><td>1     </td><td>109   </td></tr>\n",
       "</tbody>\n",
       "</table>\n"
      ],
      "text/latex": [
       "\\begin{tabular}{r|lll}\n",
       " Sex & Survived & freq\\\\\n",
       "\\hline\n",
       "\t female & 0      &  81   \\\\\n",
       "\t female & 1      & 233   \\\\\n",
       "\t male   & 0      & 468   \\\\\n",
       "\t male   & 1      & 109   \\\\\n",
       "\\end{tabular}\n"
      ],
      "text/markdown": [
       "\n",
       "| Sex | Survived | freq |\n",
       "|---|---|---|\n",
       "| female | 0      |  81    |\n",
       "| female | 1      | 233    |\n",
       "| male   | 0      | 468    |\n",
       "| male   | 1      | 109    |\n",
       "\n"
      ],
      "text/plain": [
       "  Sex    Survived freq\n",
       "1 female 0         81 \n",
       "2 female 1        233 \n",
       "3 male   0        468 \n",
       "4 male   1        109 "
      ]
     },
     "metadata": {},
     "output_type": "display_data"
    },
    {
     "name": "stdout",
     "output_type": "stream",
     "text": [
      "La proportion d'hommes morts est égale à : [1] 0.8110919\n",
      "\n",
      "La proportion de femmes mortes est égale à : [1] 0.2579618\n"
     ]
    }
   ],
   "source": [
    "statSex <- plyr::count(titanic, c(\"Sex\", \"Survived\"))\n",
    "statSex\n",
    "\n",
    "cat(\"La proportion d'hommes morts est égale à : \")\n",
    "print(statSex[3,3]/(statSex[3,3]+statSex[4,3]))\n",
    "cat(\"\\n\")\n",
    "cat(\"La proportion de femmes mortes est égale à : \")\n",
    "print(statSex[1,3]/(statSex[1,3]+statSex[2,3]))"
   ]
  },
  {
   "cell_type": "markdown",
   "metadata": {},
   "source": [
    "##### Remarques :\n",
    "<ol>\n",
    "<li>On remarque que les hommes ont moins survécu en proportion que les femmes. La raison est simple, les femmes et les enfants ont été évacuer en priorité du bateau. Et qui sait, peut-être qu'il y avait d'autres héros qui se sont, comme Jack, sacrifiés pour la survie de leur dulciné? </li> \n",
    "<li>On peut dès à présent anticipé que le sexe sera une variable explicative... #égalitéDesSexes</li>\n",
    "</ol>"
   ]
  },
  {
   "cell_type": "markdown",
   "metadata": {},
   "source": [
    "# Partie 3"
   ]
  },
  {
   "cell_type": "code",
   "execution_count": 8,
   "metadata": {},
   "outputs": [
    {
     "data": {
      "text/html": [
       "<table>\n",
       "<thead><tr><th scope=col>Pclass</th><th scope=col>freq</th></tr></thead>\n",
       "<tbody>\n",
       "\t<tr><td>1  </td><td>216</td></tr>\n",
       "\t<tr><td>2  </td><td>184</td></tr>\n",
       "\t<tr><td>3  </td><td>491</td></tr>\n",
       "</tbody>\n",
       "</table>\n"
      ],
      "text/latex": [
       "\\begin{tabular}{r|ll}\n",
       " Pclass & freq\\\\\n",
       "\\hline\n",
       "\t 1   & 216\\\\\n",
       "\t 2   & 184\\\\\n",
       "\t 3   & 491\\\\\n",
       "\\end{tabular}\n"
      ],
      "text/markdown": [
       "\n",
       "| Pclass | freq |\n",
       "|---|---|\n",
       "| 1   | 216 |\n",
       "| 2   | 184 |\n",
       "| 3   | 491 |\n",
       "\n"
      ],
      "text/plain": [
       "  Pclass freq\n",
       "1 1      216 \n",
       "2 2      184 \n",
       "3 3      491 "
      ]
     },
     "metadata": {},
     "output_type": "display_data"
    }
   ],
   "source": [
    "repClasse <- plyr::count(titanic, \"Pclass\")\n",
    "statClasse <- plyr::count(titanic, c(\"Pclass\", \"Survived\"))\n",
    "repClasse"
   ]
  },
  {
   "cell_type": "code",
   "execution_count": 9,
   "metadata": {},
   "outputs": [
    {
     "data": {
      "text/html": [
       "<table>\n",
       "<thead><tr><th scope=col>Pclass</th><th scope=col>Survived</th><th scope=col>freq</th></tr></thead>\n",
       "<tbody>\n",
       "\t<tr><td>1  </td><td>0  </td><td> 80</td></tr>\n",
       "\t<tr><td>1  </td><td>1  </td><td>136</td></tr>\n",
       "\t<tr><td>2  </td><td>0  </td><td> 97</td></tr>\n",
       "\t<tr><td>2  </td><td>1  </td><td> 87</td></tr>\n",
       "\t<tr><td>3  </td><td>0  </td><td>372</td></tr>\n",
       "\t<tr><td>3  </td><td>1  </td><td>119</td></tr>\n",
       "</tbody>\n",
       "</table>\n"
      ],
      "text/latex": [
       "\\begin{tabular}{r|lll}\n",
       " Pclass & Survived & freq\\\\\n",
       "\\hline\n",
       "\t 1   & 0   &  80\\\\\n",
       "\t 1   & 1   & 136\\\\\n",
       "\t 2   & 0   &  97\\\\\n",
       "\t 2   & 1   &  87\\\\\n",
       "\t 3   & 0   & 372\\\\\n",
       "\t 3   & 1   & 119\\\\\n",
       "\\end{tabular}\n"
      ],
      "text/markdown": [
       "\n",
       "| Pclass | Survived | freq |\n",
       "|---|---|---|\n",
       "| 1   | 0   |  80 |\n",
       "| 1   | 1   | 136 |\n",
       "| 2   | 0   |  97 |\n",
       "| 2   | 1   |  87 |\n",
       "| 3   | 0   | 372 |\n",
       "| 3   | 1   | 119 |\n",
       "\n"
      ],
      "text/plain": [
       "  Pclass Survived freq\n",
       "1 1      0         80 \n",
       "2 1      1        136 \n",
       "3 2      0         97 \n",
       "4 2      1         87 \n",
       "5 3      0        372 \n",
       "6 3      1        119 "
      ]
     },
     "metadata": {},
     "output_type": "display_data"
    },
    {
     "name": "stdout",
     "output_type": "stream",
     "text": [
      "La proportion de personnes mortes qui ont un ticket de Cat.3 est égale à : [1] 0.7576375\n",
      "\n",
      "La proportion de personnes mortes qui ont un ticket de Cat.2 est égale à : [1] 0.5271739\n",
      "\n",
      "La proportion de personnes mortes qui ont un ticket de Cat.1 est égale à : [1] 0.3703704\n"
     ]
    }
   ],
   "source": [
    "statClasse\n",
    "\n",
    "cat(\"La proportion de personnes mortes qui ont un ticket de Cat.3 est égale à : \")\n",
    "print(statClasse[5,3]/(statClasse[5,3]+statClasse[6,3]))\n",
    "cat(\"\\n\")\n",
    "cat(\"La proportion de personnes mortes qui ont un ticket de Cat.2 est égale à : \")\n",
    "print(statClasse[3,3]/(statClasse[3,3]+statClasse[4,3]))\n",
    "cat(\"\\n\")\n",
    "cat(\"La proportion de personnes mortes qui ont un ticket de Cat.1 est égale à : \")\n",
    "print(statClasse[1,3]/(statClasse[1,3]+statClasse[2,3]))"
   ]
  },
  {
   "cell_type": "markdown",
   "metadata": {},
   "source": [
    "##### Remarques :\n",
    "<ol>\n",
    "<li>On remarque que plus on monte en catégorie plus la proportion de personnes de cette catégorie qui ont survécu augmente. Comme quoi les personnes qui ont dépensés un peu plus d'argent sur leur ticket ont eu le retour sur investissement de leur vie.  </li> \n",
    "<li>On peut d'ores et déjà anticipé que la classe du passager sera une variable explicative... #égalitéDesClasses</li>\n",
    "</ol>"
   ]
  },
  {
   "cell_type": "markdown",
   "metadata": {},
   "source": [
    "# Partie 4"
   ]
  },
  {
   "cell_type": "code",
   "execution_count": 10,
   "metadata": {},
   "outputs": [
    {
     "data": {
      "text/plain": [
       "\n",
       "  0   1 \n",
       "314 577 "
      ]
     },
     "metadata": {},
     "output_type": "display_data"
    }
   ],
   "source": [
    "# On cree des variables muettes pour le sexe du passager et Pclass afin de les rendre de type numeric:\n",
    "titanic$SexD <- titanic$Sex\n",
    "levels(titanic$SexD) <- c(0,1)\n",
    "titanic$SexD <- as.numeric((as.character((titanic$SexD))))\n",
    "table(titanic$SexD)\n",
    "# Donc femme = 0 et homme = 1"
   ]
  },
  {
   "cell_type": "code",
   "execution_count": 11,
   "metadata": {},
   "outputs": [
    {
     "data": {
      "text/plain": [
       "\n",
       "  1   2   3 \n",
       "216 184 491 "
      ]
     },
     "metadata": {},
     "output_type": "display_data"
    }
   ],
   "source": [
    "titanic$PclassD <- titanic$Pclass\n",
    "#class(titanic$Pclass)\n",
    "levels(titanic$PclassD) <- c(1,2,3)\n",
    "titanic$PclassD <- as.numeric((as.character((titanic$PclassD))))\n",
    "table(titanic$PclassD)\n",
    "#class(titanic$PclassD)"
   ]
  },
  {
   "cell_type": "code",
   "execution_count": 12,
   "metadata": {},
   "outputs": [],
   "source": [
    "#On elimine toutes les donnees non numeriques\n",
    "titanic_cor <- titanic %>% select(-Sex, -Pclass)\n",
    "titanic_cor <- titanic_cor %>% select(-Name)"
   ]
  },
  {
   "cell_type": "code",
   "execution_count": 13,
   "metadata": {},
   "outputs": [
    {
     "name": "stdout",
     "output_type": "stream",
     "text": [
      "Matrice de corrélation : "
     ]
    },
    {
     "data": {
      "text/html": [
       "<table>\n",
       "<thead><tr><th></th><th scope=col>Survived</th><th scope=col>Age</th><th scope=col>SibSp</th><th scope=col>Parch</th><th scope=col>Fare</th><th scope=col>SexD</th><th scope=col>PclassD</th></tr></thead>\n",
       "<tbody>\n",
       "\t<tr><th scope=row>Survived</th><td> 1.00000000</td><td>-0.06980852</td><td>-0.03532250</td><td> 0.08162941</td><td> 0.25730652</td><td>-0.54335138</td><td>-0.33848104</td></tr>\n",
       "\t<tr><th scope=row>Age</th><td>-0.06980852</td><td> 1.00000000</td><td>-0.23262459</td><td>-0.17919092</td><td> 0.09156609</td><td> 0.08415344</td><td>-0.33133877</td></tr>\n",
       "\t<tr><th scope=row>SibSp</th><td>-0.03532250</td><td>-0.23262459</td><td> 1.00000000</td><td> 0.41483770</td><td> 0.15965104</td><td>-0.11463081</td><td> 0.08308136</td></tr>\n",
       "\t<tr><th scope=row>Parch</th><td> 0.08162941</td><td>-0.17919092</td><td> 0.41483770</td><td> 1.00000000</td><td> 0.21622494</td><td>-0.24548896</td><td> 0.01844267</td></tr>\n",
       "\t<tr><th scope=row>Fare</th><td> 0.25730652</td><td> 0.09156609</td><td> 0.15965104</td><td> 0.21622494</td><td> 1.00000000</td><td>-0.18233283</td><td>-0.54949962</td></tr>\n",
       "\t<tr><th scope=row>SexD</th><td>-0.54335138</td><td> 0.08415344</td><td>-0.11463081</td><td>-0.24548896</td><td>-0.18233283</td><td> 1.00000000</td><td> 0.13190049</td></tr>\n",
       "\t<tr><th scope=row>PclassD</th><td>-0.33848104</td><td>-0.33133877</td><td> 0.08308136</td><td> 0.01844267</td><td>-0.54949962</td><td> 0.13190049</td><td> 1.00000000</td></tr>\n",
       "</tbody>\n",
       "</table>\n"
      ],
      "text/latex": [
       "\\begin{tabular}{r|lllllll}\n",
       "  & Survived & Age & SibSp & Parch & Fare & SexD & PclassD\\\\\n",
       "\\hline\n",
       "\tSurvived &  1.00000000 & -0.06980852 & -0.03532250 &  0.08162941 &  0.25730652 & -0.54335138 & -0.33848104\\\\\n",
       "\tAge & -0.06980852 &  1.00000000 & -0.23262459 & -0.17919092 &  0.09156609 &  0.08415344 & -0.33133877\\\\\n",
       "\tSibSp & -0.03532250 & -0.23262459 &  1.00000000 &  0.41483770 &  0.15965104 & -0.11463081 &  0.08308136\\\\\n",
       "\tParch &  0.08162941 & -0.17919092 &  0.41483770 &  1.00000000 &  0.21622494 & -0.24548896 &  0.01844267\\\\\n",
       "\tFare &  0.25730652 &  0.09156609 &  0.15965104 &  0.21622494 &  1.00000000 & -0.18233283 & -0.54949962\\\\\n",
       "\tSexD & -0.54335138 &  0.08415344 & -0.11463081 & -0.24548896 & -0.18233283 &  1.00000000 &  0.13190049\\\\\n",
       "\tPclassD & -0.33848104 & -0.33133877 &  0.08308136 &  0.01844267 & -0.54949962 &  0.13190049 &  1.00000000\\\\\n",
       "\\end{tabular}\n"
      ],
      "text/markdown": [
       "\n",
       "| <!--/--> | Survived | Age | SibSp | Parch | Fare | SexD | PclassD |\n",
       "|---|---|---|---|---|---|---|---|\n",
       "| Survived |  1.00000000 | -0.06980852 | -0.03532250 |  0.08162941 |  0.25730652 | -0.54335138 | -0.33848104 |\n",
       "| Age | -0.06980852 |  1.00000000 | -0.23262459 | -0.17919092 |  0.09156609 |  0.08415344 | -0.33133877 |\n",
       "| SibSp | -0.03532250 | -0.23262459 |  1.00000000 |  0.41483770 |  0.15965104 | -0.11463081 |  0.08308136 |\n",
       "| Parch |  0.08162941 | -0.17919092 |  0.41483770 |  1.00000000 |  0.21622494 | -0.24548896 |  0.01844267 |\n",
       "| Fare |  0.25730652 |  0.09156609 |  0.15965104 |  0.21622494 |  1.00000000 | -0.18233283 | -0.54949962 |\n",
       "| SexD | -0.54335138 |  0.08415344 | -0.11463081 | -0.24548896 | -0.18233283 |  1.00000000 |  0.13190049 |\n",
       "| PclassD | -0.33848104 | -0.33133877 |  0.08308136 |  0.01844267 | -0.54949962 |  0.13190049 |  1.00000000 |\n",
       "\n"
      ],
      "text/plain": [
       "         Survived    Age         SibSp       Parch       Fare       \n",
       "Survived  1.00000000 -0.06980852 -0.03532250  0.08162941  0.25730652\n",
       "Age      -0.06980852  1.00000000 -0.23262459 -0.17919092  0.09156609\n",
       "SibSp    -0.03532250 -0.23262459  1.00000000  0.41483770  0.15965104\n",
       "Parch     0.08162941 -0.17919092  0.41483770  1.00000000  0.21622494\n",
       "Fare      0.25730652  0.09156609  0.15965104  0.21622494  1.00000000\n",
       "SexD     -0.54335138  0.08415344 -0.11463081 -0.24548896 -0.18233283\n",
       "PclassD  -0.33848104 -0.33133877  0.08308136  0.01844267 -0.54949962\n",
       "         SexD        PclassD    \n",
       "Survived -0.54335138 -0.33848104\n",
       "Age       0.08415344 -0.33133877\n",
       "SibSp    -0.11463081  0.08308136\n",
       "Parch    -0.24548896  0.01844267\n",
       "Fare     -0.18233283 -0.54949962\n",
       "SexD      1.00000000  0.13190049\n",
       "PclassD   0.13190049  1.00000000"
      ]
     },
     "metadata": {},
     "output_type": "display_data"
    }
   ],
   "source": [
    "mcor <- cor(titanic_cor, use = \"complete.obs\")\n",
    "cat(\"Matrice de corrélation : \")\n",
    "mcor"
   ]
  },
  {
   "cell_type": "code",
   "execution_count": 14,
   "metadata": {},
   "outputs": [
    {
     "data": {
      "image/png": "[encoded data removed]",
      "text/plain": [
       "Plot with title \"\""
      ]
     },
     "metadata": {},
     "output_type": "display_data"
    }
   ],
   "source": [
    "## Une visualisation plus agréable\n",
    "corrplot(mcor, type=\"upper\", order=\"hclust\", tl.col=\"black\", tl.srt=45)"
   ]
  },
  {
   "cell_type": "markdown",
   "metadata": {},
   "source": [
    "##### Remarques :\n",
    "<ol>\n",
    "<li>On remarque les paramètres qui semblent être corrélés à la survie sont la classe du ticket et le sexe du passager.  </li> \n",
    "<li>Un résultat qui renforce les constatations faites aux questions 2 et 3. </li>\n",
    "</ol>\n"
   ]
  },
  {
   "cell_type": "markdown",
   "metadata": {},
   "source": [
    "# Partie 5"
   ]
  },
  {
   "cell_type": "code",
   "execution_count": 15,
   "metadata": {},
   "outputs": [],
   "source": [
    "reg1 <- glm(Survived ~ SexD + PclassD + Age + SibSp + Parch + Fare, data = titanic_cor, family = binomial(logit))"
   ]
  },
  {
   "cell_type": "code",
   "execution_count": 16,
   "metadata": {},
   "outputs": [
    {
     "name": "stderr",
     "output_type": "stream",
     "text": [
      "Waiting for profiling to be done...\n"
     ]
    },
    {
     "data": {
      "text/html": [
       "<table>\n",
       "<thead><tr><th></th><th scope=col>2.5 %</th><th scope=col>97.5 %</th></tr></thead>\n",
       "<tbody>\n",
       "\t<tr><th scope=row>(Intercept)</th><td> 3.93270465 </td><td> 6.025133606</td></tr>\n",
       "\t<tr><th scope=row>SexD</th><td>-3.16219558 </td><td>-2.381151364</td></tr>\n",
       "\t<tr><th scope=row>PclassD</th><td>-1.35972582 </td><td>-0.813168285</td></tr>\n",
       "\t<tr><th scope=row>Age</th><td>-0.05527664 </td><td>-0.024671009</td></tr>\n",
       "\t<tr><th scope=row>SibSp</th><td>-0.57611692 </td><td>-0.146521423</td></tr>\n",
       "\t<tr><th scope=row>Parch</th><td>-0.34857008 </td><td> 0.115068279</td></tr>\n",
       "\t<tr><th scope=row>Fare</th><td>-0.00149375 </td><td> 0.008003288</td></tr>\n",
       "</tbody>\n",
       "</table>\n"
      ],
      "text/latex": [
       "\\begin{tabular}{r|ll}\n",
       "  & 2.5 \\% & 97.5 \\%\\\\\n",
       "\\hline\n",
       "\t(Intercept) &  3.93270465  &  6.025133606\\\\\n",
       "\tSexD & -3.16219558  & -2.381151364\\\\\n",
       "\tPclassD & -1.35972582  & -0.813168285\\\\\n",
       "\tAge & -0.05527664  & -0.024671009\\\\\n",
       "\tSibSp & -0.57611692  & -0.146521423\\\\\n",
       "\tParch & -0.34857008  &  0.115068279\\\\\n",
       "\tFare & -0.00149375  &  0.008003288\\\\\n",
       "\\end{tabular}\n"
      ],
      "text/markdown": [
       "\n",
       "| <!--/--> | 2.5 % | 97.5 % |\n",
       "|---|---|---|\n",
       "| (Intercept) |  3.93270465  |  6.025133606 |\n",
       "| SexD | -3.16219558  | -2.381151364 |\n",
       "| PclassD | -1.35972582  | -0.813168285 |\n",
       "| Age | -0.05527664  | -0.024671009 |\n",
       "| SibSp | -0.57611692  | -0.146521423 |\n",
       "| Parch | -0.34857008  |  0.115068279 |\n",
       "| Fare | -0.00149375  |  0.008003288 |\n",
       "\n"
      ],
      "text/plain": [
       "            2.5 %       97.5 %      \n",
       "(Intercept)  3.93270465  6.025133606\n",
       "SexD        -3.16219558 -2.381151364\n",
       "PclassD     -1.35972582 -0.813168285\n",
       "Age         -0.05527664 -0.024671009\n",
       "SibSp       -0.57611692 -0.146521423\n",
       "Parch       -0.34857008  0.115068279\n",
       "Fare        -0.00149375  0.008003288"
      ]
     },
     "metadata": {},
     "output_type": "display_data"
    }
   ],
   "source": [
    "confint(reg1)"
   ]
  },
  {
   "cell_type": "markdown",
   "metadata": {},
   "source": [
    "##### Remarques :\n",
    "\n",
    "<ol>\n",
    "<li>Le sexe et la classe ont le plus grand impacte sur la survie des personnes au bord du titanic. En effet, les bornes de leurs intervalles de confiance respectifs sont grandes en module et négatif.</li>\n",
    "<li>Elles sont négatives et c'est du à notre discretisation : on a associé le sexe masculin à la valeur 1, il est donc normal $\\beta_{SexD}$ soit négatif puisque la proportion des hommes qui ont survecu est plus petite que celle des femmes. </li>\n",
    "<li>Même chose pour les classes, un ticket de clase 1 est un ticket de premier classe donc a plus de chance de survivre puisqu'il a une chambre plus en hauteur que les autres classes $\\Rightarrow$ plus de temps avant que l'eau ne l'atteigne $\\Rightarrow$ plus de temps avant de se noyer et priorité sur les bateaux mis à l'eau. \n",
    "<ol>"
   ]
  },
  {
   "cell_type": "markdown",
   "metadata": {},
   "source": [
    "# Partie 6"
   ]
  },
  {
   "cell_type": "code",
   "execution_count": 17,
   "metadata": {
    "scrolled": true
   },
   "outputs": [
    {
     "data": {
      "text/plain": [
       "\n",
       "Call:\n",
       "glm(formula = Survived ~ SexD + PclassD + Age + SibSp + Parch + \n",
       "    Fare, family = binomial(logit), data = titanic_cor)\n",
       "\n",
       "Deviance Residuals: \n",
       "    Min       1Q   Median       3Q      Max  \n",
       "-2.7129  -0.6032  -0.4273   0.6191   2.4186  \n",
       "\n",
       "Coefficients:\n",
       "             Estimate Std. Error z value Pr(>|z|)    \n",
       "(Intercept)  4.960445   0.532937   9.308  < 2e-16 ***\n",
       "SexD        -2.762930   0.199011 -13.883  < 2e-16 ***\n",
       "PclassD     -1.084297   0.139119  -7.794 6.49e-15 ***\n",
       "Age         -0.039702   0.007797  -5.092 3.55e-07 ***\n",
       "SibSp       -0.350725   0.109552  -3.201  0.00137 ** \n",
       "Parch       -0.111963   0.117400  -0.954  0.34024    \n",
       "Fare         0.002852   0.002361   1.208  0.22718    \n",
       "---\n",
       "Signif. codes:  0 '***' 0.001 '**' 0.01 '*' 0.05 '.' 0.1 ' ' 1\n",
       "\n",
       "(Dispersion parameter for binomial family taken to be 1)\n",
       "\n",
       "    Null deviance: 1186.66  on 890  degrees of freedom\n",
       "Residual deviance:  788.73  on 884  degrees of freedom\n",
       "AIC: 802.73\n",
       "\n",
       "Number of Fisher Scoring iterations: 5\n"
      ]
     },
     "metadata": {},
     "output_type": "display_data"
    }
   ],
   "source": [
    "summary(reg1)"
   ]
  },
  {
   "cell_type": "markdown",
   "metadata": {},
   "source": [
    "Comme nous l'avons vu dans la partie théorique, la p-valeur du test de Parch est $\\mathbb{P}_{\\theta_k = 0}(\\vert T(\\hat\\theta_{n,k}^{MV})\\vert<N)$, avec N~N(0,1) et k=5. Dans notre cas elle est égale à 0.34 > 0.05. <br>On ne peut donc pas rejeter l'hypothèse nulle. Le nombre de parents/enfants à bord n'explique pas la survie d'un passager.\n",
    "\n",
    "***"
   ]
  },
  {
   "cell_type": "markdown",
   "metadata": {},
   "source": [
    "# Partie 7"
   ]
  },
  {
   "cell_type": "code",
   "execution_count": 18,
   "metadata": {},
   "outputs": [],
   "source": [
    "## Parch n'est pas significative pour expliquer la survie des passagers\n",
    "## On élimine donc la variable parch du modèle pour augmenter la précision de notre modèle\n",
    "data3 <- titanic_cor %>% select(-Parch)\n",
    "reg2 <- glm(Survived ~ SexD + PclassD + Age + SibSp+ Fare, data = data3, family = binomial(logit))"
   ]
  },
  {
   "cell_type": "code",
   "execution_count": 19,
   "metadata": {},
   "outputs": [
    {
     "name": "stderr",
     "output_type": "stream",
     "text": [
      "Waiting for profiling to be done...\n"
     ]
    },
    {
     "data": {
      "text/html": [
       "<table>\n",
       "<thead><tr><th></th><th scope=col>2.5 %</th><th scope=col>97.5 %</th></tr></thead>\n",
       "<tbody>\n",
       "\t<tr><th scope=row>(Intercept)</th><td> 3.919148327</td><td> 6.003166621</td></tr>\n",
       "\t<tr><th scope=row>SexD</th><td>-3.116549020</td><td>-2.352974755</td></tr>\n",
       "\t<tr><th scope=row>PclassD</th><td>-1.371742725</td><td>-0.829808125</td></tr>\n",
       "\t<tr><th scope=row>Age</th><td>-0.054909531</td><td>-0.024398205</td></tr>\n",
       "\t<tr><th scope=row>SibSp</th><td>-0.597587132</td><td>-0.181249769</td></tr>\n",
       "\t<tr><th scope=row>Fare</th><td>-0.001822374</td><td> 0.007230495</td></tr>\n",
       "</tbody>\n",
       "</table>\n"
      ],
      "text/latex": [
       "\\begin{tabular}{r|ll}\n",
       "  & 2.5 \\% & 97.5 \\%\\\\\n",
       "\\hline\n",
       "\t(Intercept) &  3.919148327 &  6.003166621\\\\\n",
       "\tSexD & -3.116549020 & -2.352974755\\\\\n",
       "\tPclassD & -1.371742725 & -0.829808125\\\\\n",
       "\tAge & -0.054909531 & -0.024398205\\\\\n",
       "\tSibSp & -0.597587132 & -0.181249769\\\\\n",
       "\tFare & -0.001822374 &  0.007230495\\\\\n",
       "\\end{tabular}\n"
      ],
      "text/markdown": [
       "\n",
       "| <!--/--> | 2.5 % | 97.5 % |\n",
       "|---|---|---|\n",
       "| (Intercept) |  3.919148327 |  6.003166621 |\n",
       "| SexD | -3.116549020 | -2.352974755 |\n",
       "| PclassD | -1.371742725 | -0.829808125 |\n",
       "| Age | -0.054909531 | -0.024398205 |\n",
       "| SibSp | -0.597587132 | -0.181249769 |\n",
       "| Fare | -0.001822374 |  0.007230495 |\n",
       "\n"
      ],
      "text/plain": [
       "            2.5 %        97.5 %      \n",
       "(Intercept)  3.919148327  6.003166621\n",
       "SexD        -3.116549020 -2.352974755\n",
       "PclassD     -1.371742725 -0.829808125\n",
       "Age         -0.054909531 -0.024398205\n",
       "SibSp       -0.597587132 -0.181249769\n",
       "Fare        -0.001822374  0.007230495"
      ]
     },
     "metadata": {},
     "output_type": "display_data"
    }
   ],
   "source": [
    "confint(reg2)"
   ]
  },
  {
   "cell_type": "markdown",
   "metadata": {},
   "source": [
    "Les intervalles de confiance sont légèrement plus resserrés qu'avec toutes les variables, on gagne en précision mais quand même très faiblement."
   ]
  },
  {
   "cell_type": "markdown",
   "metadata": {},
   "source": [
    "# Partie 8"
   ]
  },
  {
   "cell_type": "code",
   "execution_count": 20,
   "metadata": {},
   "outputs": [
    {
     "data": {
      "text/plain": [
       "\n",
       "Call:\n",
       "glm(formula = Survived ~ SexD + PclassD + Age + SibSp + Fare, \n",
       "    family = binomial(logit), data = data3)\n",
       "\n",
       "Deviance Residuals: \n",
       "    Min       1Q   Median       3Q      Max  \n",
       "-2.7458  -0.5948  -0.4170   0.6109   2.4501  \n",
       "\n",
       "Coefficients:\n",
       "             Estimate Std. Error z value Pr(>|z|)    \n",
       "(Intercept)  4.942367   0.530775   9.312  < 2e-16 ***\n",
       "SexD        -2.726408   0.194561 -14.013  < 2e-16 ***\n",
       "PclassD     -1.098189   0.137969  -7.960 1.72e-15 ***\n",
       "Age         -0.039385   0.007773  -5.067 4.05e-07 ***\n",
       "SibSp       -0.378646   0.106212  -3.565 0.000364 ***\n",
       "Fare         0.002373   0.002250   1.054 0.291707    \n",
       "---\n",
       "Signif. codes:  0 '***' 0.001 '**' 0.01 '*' 0.05 '.' 0.1 ' ' 1\n",
       "\n",
       "(Dispersion parameter for binomial family taken to be 1)\n",
       "\n",
       "    Null deviance: 1186.66  on 890  degrees of freedom\n",
       "Residual deviance:  789.65  on 885  degrees of freedom\n",
       "AIC: 801.65\n",
       "\n",
       "Number of Fisher Scoring iterations: 5\n"
      ]
     },
     "metadata": {},
     "output_type": "display_data"
    }
   ],
   "source": [
    "summary(reg2)"
   ]
  },
  {
   "cell_type": "markdown",
   "metadata": {},
   "source": [
    "La p-valeur du test est de 0.29 > 0.05. On ne peut donc pas rejeter l'hypothèse nulle. Cela peut s'expliquer par le fait que le prix payé est déjà pris en compte par la variable explicative \"Class\"."
   ]
  },
  {
   "cell_type": "markdown",
   "metadata": {},
   "source": [
    "# Partie 9"
   ]
  },
  {
   "cell_type": "code",
   "execution_count": 21,
   "metadata": {},
   "outputs": [],
   "source": [
    "## Même chose avec Fare :\n",
    "reg3 <- glm(Survived ~ SexD + PclassD + Age + SibSp, data = data3, family = binomial(logit))"
   ]
  },
  {
   "cell_type": "code",
   "execution_count": 22,
   "metadata": {},
   "outputs": [
    {
     "name": "stderr",
     "output_type": "stream",
     "text": [
      "Waiting for profiling to be done...\n"
     ]
    },
    {
     "data": {
      "text/html": [
       "<table>\n",
       "<thead><tr><th></th><th scope=col>2.5 %</th><th scope=col>97.5 %</th></tr></thead>\n",
       "<tbody>\n",
       "\t<tr><th scope=row>(Intercept)</th><td> 4.27897777</td><td> 6.15598572</td></tr>\n",
       "\t<tr><th scope=row>SexD</th><td>-3.12920241</td><td>-2.36727393</td></tr>\n",
       "\t<tr><th scope=row>PclassD</th><td>-1.41195814</td><td>-0.94205226</td></tr>\n",
       "\t<tr><th scope=row>Age</th><td>-0.05528453</td><td>-0.02484441</td></tr>\n",
       "\t<tr><th scope=row>SibSp</th><td>-0.57229619</td><td>-0.16464492</td></tr>\n",
       "</tbody>\n",
       "</table>\n"
      ],
      "text/latex": [
       "\\begin{tabular}{r|ll}\n",
       "  & 2.5 \\% & 97.5 \\%\\\\\n",
       "\\hline\n",
       "\t(Intercept) &  4.27897777 &  6.15598572\\\\\n",
       "\tSexD & -3.12920241 & -2.36727393\\\\\n",
       "\tPclassD & -1.41195814 & -0.94205226\\\\\n",
       "\tAge & -0.05528453 & -0.02484441\\\\\n",
       "\tSibSp & -0.57229619 & -0.16464492\\\\\n",
       "\\end{tabular}\n"
      ],
      "text/markdown": [
       "\n",
       "| <!--/--> | 2.5 % | 97.5 % |\n",
       "|---|---|---|\n",
       "| (Intercept) |  4.27897777 |  6.15598572 |\n",
       "| SexD | -3.12920241 | -2.36727393 |\n",
       "| PclassD | -1.41195814 | -0.94205226 |\n",
       "| Age | -0.05528453 | -0.02484441 |\n",
       "| SibSp | -0.57229619 | -0.16464492 |\n",
       "\n"
      ],
      "text/plain": [
       "            2.5 %       97.5 %     \n",
       "(Intercept)  4.27897777  6.15598572\n",
       "SexD        -3.12920241 -2.36727393\n",
       "PclassD     -1.41195814 -0.94205226\n",
       "Age         -0.05528453 -0.02484441\n",
       "SibSp       -0.57229619 -0.16464492"
      ]
     },
     "metadata": {},
     "output_type": "display_data"
    }
   ],
   "source": [
    "confint(reg3)"
   ]
  },
  {
   "cell_type": "markdown",
   "metadata": {},
   "source": [
    "Les intervalles de confiance sont de nouveau légèrement plus resserrés, avec de nouveau toutefois une différence très faible."
   ]
  },
  {
   "cell_type": "markdown",
   "metadata": {},
   "source": [
    "# Partie 10\n",
    "\n",
    "Nous allons essayé de prédire les chances de survie d’un homme et d’une femme chacun âgé de 22 ans sans famille et voyageant en 1ère classe en utilisant les données de $\\textit{Titanic.csv}$."
   ]
  },
  {
   "cell_type": "code",
   "execution_count": 23,
   "metadata": {},
   "outputs": [
    {
     "data": {
      "text/html": [
       "<table>\n",
       "<thead><tr><th scope=col>SexD</th><th scope=col>PclassD</th><th scope=col>Age</th><th scope=col>SibSp</th></tr></thead>\n",
       "<tbody>\n",
       "\t<tr><td>0 </td><td>1 </td><td>22</td><td>0 </td></tr>\n",
       "\t<tr><td>1 </td><td>1 </td><td>22</td><td>0 </td></tr>\n",
       "</tbody>\n",
       "</table>\n"
      ],
      "text/latex": [
       "\\begin{tabular}{r|llll}\n",
       " SexD & PclassD & Age & SibSp\\\\\n",
       "\\hline\n",
       "\t 0  & 1  & 22 & 0 \\\\\n",
       "\t 1  & 1  & 22 & 0 \\\\\n",
       "\\end{tabular}\n"
      ],
      "text/markdown": [
       "\n",
       "| SexD | PclassD | Age | SibSp |\n",
       "|---|---|---|---|\n",
       "| 0  | 1  | 22 | 0  |\n",
       "| 1  | 1  | 22 | 0  |\n",
       "\n"
      ],
      "text/plain": [
       "  SexD PclassD Age SibSp\n",
       "1 0    1       22  0    \n",
       "2 1    1       22  0    "
      ]
     },
     "metadata": {},
     "output_type": "display_data"
    }
   ],
   "source": [
    "#On crée un tableau d'un homme et d'une femme de 22 ans etc... : c(0,1) pour sex, c'est 0 femme et 1 homme etc...\n",
    "d <- data.frame(SexD = c(0,1), PclassD = c(1,1), Age = c(22,22), SibSp = c(0,0))\n",
    "d\n",
    "survie.pred <- predict(reg3, type = \"response\",d)"
   ]
  },
  {
   "cell_type": "markdown",
   "metadata": {},
   "source": [
    "La probabilité de survie d'un homme de 22 ans sans enfant ni parent et voyageant en 1ère classe est de :"
   ]
  },
  {
   "cell_type": "code",
   "execution_count": 24,
   "metadata": {},
   "outputs": [
    {
     "data": {
      "text/html": [
       "<strong>2:</strong> 0.599727315614507"
      ],
      "text/latex": [
       "\\textbf{2:} 0.599727315614507"
      ],
      "text/markdown": [
       "**2:** 0.599727315614507"
      ],
      "text/plain": [
       "        2 \n",
       "0.5997273 "
      ]
     },
     "metadata": {},
     "output_type": "display_data"
    }
   ],
   "source": [
    "survie.pred[2]"
   ]
  },
  {
   "cell_type": "markdown",
   "metadata": {},
   "source": [
    "La probabilité de survie d'une femme de 22 ans sans enfant ni parent et voyageant en 1ère classe est :"
   ]
  },
  {
   "cell_type": "code",
   "execution_count": 25,
   "metadata": {},
   "outputs": [
    {
     "data": {
      "text/html": [
       "<strong>1:</strong> 0.958677009712018"
      ],
      "text/latex": [
       "\\textbf{1:} 0.958677009712018"
      ],
      "text/markdown": [
       "**1:** 0.958677009712018"
      ],
      "text/plain": [
       "       1 \n",
       "0.958677 "
      ]
     },
     "metadata": {},
     "output_type": "display_data"
    }
   ],
   "source": [
    "survie.pred[1]"
   ]
  }
 ],
 "metadata": {
  "kernelspec": {
   "display_name": "R",
   "language": "R",
   "name": "ir"
  },
  "language_info": {
   "codemirror_mode": "r",
   "file_extension": ".r",
   "mimetype": "text/x-r-source",
   "name": "R",
   "pygments_lexer": "r",
   "version": "3.6.1"
  }
 },
 "nbformat": 4,
 "nbformat_minor": 2
}
